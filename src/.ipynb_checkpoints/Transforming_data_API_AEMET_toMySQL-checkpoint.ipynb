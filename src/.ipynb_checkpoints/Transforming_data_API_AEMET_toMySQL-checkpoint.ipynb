{
 "cells": [
  {
   "cell_type": "code",
   "execution_count": 1,
   "metadata": {},
   "outputs": [],
   "source": [
    "# create this document to work on the weather conditions of LP and VAL without having to request the info all the time\n",
    "# to AEMET\n",
    "# Also to prepare the data sets for analysis removing columns which are not relevant, transforming objects into numerics\n",
    "# etc"
   ]
  },
  {
   "cell_type": "code",
   "execution_count": 2,
   "metadata": {},
   "outputs": [],
   "source": [
    "import pandas as pd\n"
   ]
  },
  {
   "cell_type": "code",
   "execution_count": 3,
   "metadata": {},
   "outputs": [
    {
     "data": {
      "text/plain": [
       "Index(['Unnamed: 0', 'fecha', 'indicativo', 'nombre', 'provincia', 'altitud',\n",
       "       'tmed', 'prec', 'tmin', 'horatmin', 'tmax', 'horatmax', 'dir',\n",
       "       'velmedia', 'racha', 'horaracha', 'puerto'],\n",
       "      dtype='object')"
      ]
     },
     "execution_count": 3,
     "metadata": {},
     "output_type": "execute_result"
    }
   ],
   "source": [
    "LP=pd.read_csv(\"../output/LPoriginal.csv\")\n",
    "LP.columns"
   ]
  },
  {
   "cell_type": "code",
   "execution_count": 4,
   "metadata": {},
   "outputs": [
    {
     "data": {
      "text/plain": [
       "Index(['Unnamed: 0', 'fecha', 'indicativo', 'nombre', 'provincia', 'altitud',\n",
       "       'tmed', 'prec', 'tmin', 'tmax', 'sol', 'puerto'],\n",
       "      dtype='object')"
      ]
     },
     "execution_count": 4,
     "metadata": {},
     "output_type": "execute_result"
    }
   ],
   "source": [
    "VAL=pd.read_csv(\"../output/VALoriginal.csv\")\n",
    "VAL.columns"
   ]
  },
  {
   "cell_type": "code",
   "execution_count": 5,
   "metadata": {},
   "outputs": [],
   "source": [
    "LP= LP.drop(['Unnamed: 0','indicativo', 'provincia', 'altitud','horatmin', 'horatmax','dir', 'velmedia', 'racha','horaracha'], axis=1)\n",
    "\n"
   ]
  },
  {
   "cell_type": "code",
   "execution_count": 6,
   "metadata": {},
   "outputs": [
    {
     "data": {
      "text/html": [
       "<div>\n",
       "<style scoped>\n",
       "    .dataframe tbody tr th:only-of-type {\n",
       "        vertical-align: middle;\n",
       "    }\n",
       "\n",
       "    .dataframe tbody tr th {\n",
       "        vertical-align: top;\n",
       "    }\n",
       "\n",
       "    .dataframe thead th {\n",
       "        text-align: right;\n",
       "    }\n",
       "</style>\n",
       "<table border=\"1\" class=\"dataframe\">\n",
       "  <thead>\n",
       "    <tr style=\"text-align: right;\">\n",
       "      <th></th>\n",
       "      <th>fecha</th>\n",
       "      <th>nombre</th>\n",
       "      <th>tmed</th>\n",
       "      <th>prec</th>\n",
       "      <th>tmin</th>\n",
       "      <th>tmax</th>\n",
       "      <th>puerto</th>\n",
       "    </tr>\n",
       "  </thead>\n",
       "  <tbody>\n",
       "    <tr>\n",
       "      <th>0</th>\n",
       "      <td>2016-11-30</td>\n",
       "      <td>LAS PALMAS DE GRAN CANARIA, SAN CRISTOBAL</td>\n",
       "      <td>21,9</td>\n",
       "      <td>0,0</td>\n",
       "      <td>17,8</td>\n",
       "      <td>26,0</td>\n",
       "      <td>1</td>\n",
       "    </tr>\n",
       "    <tr>\n",
       "      <th>1</th>\n",
       "      <td>2016-12-01</td>\n",
       "      <td>LAS PALMAS DE GRAN CANARIA, SAN CRISTOBAL</td>\n",
       "      <td>21,8</td>\n",
       "      <td>0,0</td>\n",
       "      <td>17,9</td>\n",
       "      <td>25,6</td>\n",
       "      <td>1</td>\n",
       "    </tr>\n",
       "    <tr>\n",
       "      <th>2</th>\n",
       "      <td>2016-12-02</td>\n",
       "      <td>LAS PALMAS DE GRAN CANARIA, SAN CRISTOBAL</td>\n",
       "      <td>22,4</td>\n",
       "      <td>0,0</td>\n",
       "      <td>18,8</td>\n",
       "      <td>26,0</td>\n",
       "      <td>1</td>\n",
       "    </tr>\n",
       "    <tr>\n",
       "      <th>3</th>\n",
       "      <td>2016-12-03</td>\n",
       "      <td>LAS PALMAS DE GRAN CANARIA, SAN CRISTOBAL</td>\n",
       "      <td>23,7</td>\n",
       "      <td>0,0</td>\n",
       "      <td>20,2</td>\n",
       "      <td>27,2</td>\n",
       "      <td>1</td>\n",
       "    </tr>\n",
       "    <tr>\n",
       "      <th>4</th>\n",
       "      <td>2016-12-04</td>\n",
       "      <td>LAS PALMAS DE GRAN CANARIA, SAN CRISTOBAL</td>\n",
       "      <td>20,2</td>\n",
       "      <td>2,4</td>\n",
       "      <td>18,1</td>\n",
       "      <td>22,2</td>\n",
       "      <td>1</td>\n",
       "    </tr>\n",
       "    <tr>\n",
       "      <th>5</th>\n",
       "      <td>2016-12-05</td>\n",
       "      <td>LAS PALMAS DE GRAN CANARIA, SAN CRISTOBAL</td>\n",
       "      <td>20,8</td>\n",
       "      <td>0,0</td>\n",
       "      <td>18,9</td>\n",
       "      <td>22,7</td>\n",
       "      <td>1</td>\n",
       "    </tr>\n",
       "    <tr>\n",
       "      <th>6</th>\n",
       "      <td>2016-12-06</td>\n",
       "      <td>LAS PALMAS DE GRAN CANARIA, SAN CRISTOBAL</td>\n",
       "      <td>22,0</td>\n",
       "      <td>0,0</td>\n",
       "      <td>18,2</td>\n",
       "      <td>25,8</td>\n",
       "      <td>1</td>\n",
       "    </tr>\n",
       "    <tr>\n",
       "      <th>7</th>\n",
       "      <td>2016-12-07</td>\n",
       "      <td>LAS PALMAS DE GRAN CANARIA, SAN CRISTOBAL</td>\n",
       "      <td>21,4</td>\n",
       "      <td>0,0</td>\n",
       "      <td>18,8</td>\n",
       "      <td>24,1</td>\n",
       "      <td>1</td>\n",
       "    </tr>\n",
       "    <tr>\n",
       "      <th>8</th>\n",
       "      <td>2016-12-08</td>\n",
       "      <td>LAS PALMAS DE GRAN CANARIA, SAN CRISTOBAL</td>\n",
       "      <td>21,3</td>\n",
       "      <td>0,0</td>\n",
       "      <td>18,5</td>\n",
       "      <td>24,1</td>\n",
       "      <td>1</td>\n",
       "    </tr>\n",
       "    <tr>\n",
       "      <th>9</th>\n",
       "      <td>2016-12-09</td>\n",
       "      <td>LAS PALMAS DE GRAN CANARIA, SAN CRISTOBAL</td>\n",
       "      <td>21,5</td>\n",
       "      <td>0,0</td>\n",
       "      <td>19,3</td>\n",
       "      <td>23,7</td>\n",
       "      <td>1</td>\n",
       "    </tr>\n",
       "  </tbody>\n",
       "</table>\n",
       "</div>"
      ],
      "text/plain": [
       "        fecha                                     nombre  tmed prec  tmin  \\\n",
       "0  2016-11-30  LAS PALMAS DE GRAN CANARIA, SAN CRISTOBAL  21,9  0,0  17,8   \n",
       "1  2016-12-01  LAS PALMAS DE GRAN CANARIA, SAN CRISTOBAL  21,8  0,0  17,9   \n",
       "2  2016-12-02  LAS PALMAS DE GRAN CANARIA, SAN CRISTOBAL  22,4  0,0  18,8   \n",
       "3  2016-12-03  LAS PALMAS DE GRAN CANARIA, SAN CRISTOBAL  23,7  0,0  20,2   \n",
       "4  2016-12-04  LAS PALMAS DE GRAN CANARIA, SAN CRISTOBAL  20,2  2,4  18,1   \n",
       "5  2016-12-05  LAS PALMAS DE GRAN CANARIA, SAN CRISTOBAL  20,8  0,0  18,9   \n",
       "6  2016-12-06  LAS PALMAS DE GRAN CANARIA, SAN CRISTOBAL  22,0  0,0  18,2   \n",
       "7  2016-12-07  LAS PALMAS DE GRAN CANARIA, SAN CRISTOBAL  21,4  0,0  18,8   \n",
       "8  2016-12-08  LAS PALMAS DE GRAN CANARIA, SAN CRISTOBAL  21,3  0,0  18,5   \n",
       "9  2016-12-09  LAS PALMAS DE GRAN CANARIA, SAN CRISTOBAL  21,5  0,0  19,3   \n",
       "\n",
       "   tmax  puerto  \n",
       "0  26,0       1  \n",
       "1  25,6       1  \n",
       "2  26,0       1  \n",
       "3  27,2       1  \n",
       "4  22,2       1  \n",
       "5  22,7       1  \n",
       "6  25,8       1  \n",
       "7  24,1       1  \n",
       "8  24,1       1  \n",
       "9  23,7       1  "
      ]
     },
     "execution_count": 6,
     "metadata": {},
     "output_type": "execute_result"
    }
   ],
   "source": [
    "LP.head(10)"
   ]
  },
  {
   "cell_type": "code",
   "execution_count": 7,
   "metadata": {},
   "outputs": [],
   "source": [
    "VAL=VAL.drop(['Unnamed: 0', 'indicativo', 'provincia', 'sol', 'altitud'],axis=1)\n",
    "\n"
   ]
  },
  {
   "cell_type": "code",
   "execution_count": 8,
   "metadata": {},
   "outputs": [
    {
     "data": {
      "text/plain": [
       "Index(['fecha', 'nombre', 'tmed', 'prec', 'tmin', 'tmax', 'puerto'], dtype='object')"
      ]
     },
     "execution_count": 8,
     "metadata": {},
     "output_type": "execute_result"
    }
   ],
   "source": [
    "VAL.columns"
   ]
  },
  {
   "cell_type": "code",
   "execution_count": 9,
   "metadata": {},
   "outputs": [
    {
     "data": {
      "text/html": [
       "<div>\n",
       "<style scoped>\n",
       "    .dataframe tbody tr th:only-of-type {\n",
       "        vertical-align: middle;\n",
       "    }\n",
       "\n",
       "    .dataframe tbody tr th {\n",
       "        vertical-align: top;\n",
       "    }\n",
       "\n",
       "    .dataframe thead th {\n",
       "        text-align: right;\n",
       "    }\n",
       "</style>\n",
       "<table border=\"1\" class=\"dataframe\">\n",
       "  <thead>\n",
       "    <tr style=\"text-align: right;\">\n",
       "      <th></th>\n",
       "      <th>fecha</th>\n",
       "      <th>nombre</th>\n",
       "      <th>tmed</th>\n",
       "      <th>prec</th>\n",
       "      <th>tmin</th>\n",
       "      <th>tmax</th>\n",
       "      <th>puerto</th>\n",
       "    </tr>\n",
       "  </thead>\n",
       "  <tbody>\n",
       "    <tr>\n",
       "      <th>0</th>\n",
       "      <td>2016-11-30</td>\n",
       "      <td>VALÈNCIA</td>\n",
       "      <td>13,6</td>\n",
       "      <td>0,3</td>\n",
       "      <td>11,4</td>\n",
       "      <td>15,9</td>\n",
       "      <td>2</td>\n",
       "    </tr>\n",
       "    <tr>\n",
       "      <th>1</th>\n",
       "      <td>2016-12-01</td>\n",
       "      <td>VALÈNCIA</td>\n",
       "      <td>14,4</td>\n",
       "      <td>0,0</td>\n",
       "      <td>12,4</td>\n",
       "      <td>16,3</td>\n",
       "      <td>2</td>\n",
       "    </tr>\n",
       "    <tr>\n",
       "      <th>2</th>\n",
       "      <td>2016-12-02</td>\n",
       "      <td>VALÈNCIA</td>\n",
       "      <td>13,4</td>\n",
       "      <td>0,0</td>\n",
       "      <td>9,2</td>\n",
       "      <td>17,7</td>\n",
       "      <td>2</td>\n",
       "    </tr>\n",
       "    <tr>\n",
       "      <th>3</th>\n",
       "      <td>2016-12-03</td>\n",
       "      <td>VALÈNCIA</td>\n",
       "      <td>13,2</td>\n",
       "      <td>6,6</td>\n",
       "      <td>8,4</td>\n",
       "      <td>18,0</td>\n",
       "      <td>2</td>\n",
       "    </tr>\n",
       "    <tr>\n",
       "      <th>4</th>\n",
       "      <td>2016-12-04</td>\n",
       "      <td>VALÈNCIA</td>\n",
       "      <td>15,2</td>\n",
       "      <td>8,6</td>\n",
       "      <td>13,5</td>\n",
       "      <td>16,8</td>\n",
       "      <td>2</td>\n",
       "    </tr>\n",
       "    <tr>\n",
       "      <th>5</th>\n",
       "      <td>2016-12-05</td>\n",
       "      <td>VALÈNCIA</td>\n",
       "      <td>16,1</td>\n",
       "      <td>14,5</td>\n",
       "      <td>15,5</td>\n",
       "      <td>16,7</td>\n",
       "      <td>2</td>\n",
       "    </tr>\n",
       "    <tr>\n",
       "      <th>6</th>\n",
       "      <td>2016-12-06</td>\n",
       "      <td>VALÈNCIA</td>\n",
       "      <td>15,6</td>\n",
       "      <td>0,0</td>\n",
       "      <td>12,5</td>\n",
       "      <td>18,7</td>\n",
       "      <td>2</td>\n",
       "    </tr>\n",
       "    <tr>\n",
       "      <th>7</th>\n",
       "      <td>2016-12-07</td>\n",
       "      <td>VALÈNCIA</td>\n",
       "      <td>13,2</td>\n",
       "      <td>0,6</td>\n",
       "      <td>8,8</td>\n",
       "      <td>17,7</td>\n",
       "      <td>2</td>\n",
       "    </tr>\n",
       "    <tr>\n",
       "      <th>8</th>\n",
       "      <td>2016-12-08</td>\n",
       "      <td>VALÈNCIA</td>\n",
       "      <td>13,4</td>\n",
       "      <td>0,0</td>\n",
       "      <td>9,5</td>\n",
       "      <td>17,4</td>\n",
       "      <td>2</td>\n",
       "    </tr>\n",
       "    <tr>\n",
       "      <th>9</th>\n",
       "      <td>2016-12-09</td>\n",
       "      <td>VALÈNCIA</td>\n",
       "      <td>15,4</td>\n",
       "      <td>0,0</td>\n",
       "      <td>11,8</td>\n",
       "      <td>19,1</td>\n",
       "      <td>2</td>\n",
       "    </tr>\n",
       "    <tr>\n",
       "      <th>10</th>\n",
       "      <td>2016-12-10</td>\n",
       "      <td>VALÈNCIA</td>\n",
       "      <td>15,5</td>\n",
       "      <td>0,0</td>\n",
       "      <td>11,6</td>\n",
       "      <td>19,4</td>\n",
       "      <td>2</td>\n",
       "    </tr>\n",
       "    <tr>\n",
       "      <th>11</th>\n",
       "      <td>2016-12-11</td>\n",
       "      <td>VALÈNCIA</td>\n",
       "      <td>13,8</td>\n",
       "      <td>0,0</td>\n",
       "      <td>8,8</td>\n",
       "      <td>18,8</td>\n",
       "      <td>2</td>\n",
       "    </tr>\n",
       "    <tr>\n",
       "      <th>12</th>\n",
       "      <td>2016-12-12</td>\n",
       "      <td>VALÈNCIA</td>\n",
       "      <td>13,6</td>\n",
       "      <td>0,0</td>\n",
       "      <td>8,8</td>\n",
       "      <td>18,4</td>\n",
       "      <td>2</td>\n",
       "    </tr>\n",
       "    <tr>\n",
       "      <th>13</th>\n",
       "      <td>2016-12-13</td>\n",
       "      <td>VALÈNCIA</td>\n",
       "      <td>12,2</td>\n",
       "      <td>0,0</td>\n",
       "      <td>7,3</td>\n",
       "      <td>17,2</td>\n",
       "      <td>2</td>\n",
       "    </tr>\n",
       "    <tr>\n",
       "      <th>14</th>\n",
       "      <td>2016-12-14</td>\n",
       "      <td>VALÈNCIA</td>\n",
       "      <td>12,2</td>\n",
       "      <td>0,0</td>\n",
       "      <td>7,9</td>\n",
       "      <td>16,5</td>\n",
       "      <td>2</td>\n",
       "    </tr>\n",
       "    <tr>\n",
       "      <th>15</th>\n",
       "      <td>2016-12-15</td>\n",
       "      <td>VALÈNCIA</td>\n",
       "      <td>12,2</td>\n",
       "      <td>0,3</td>\n",
       "      <td>8,5</td>\n",
       "      <td>15,8</td>\n",
       "      <td>2</td>\n",
       "    </tr>\n",
       "    <tr>\n",
       "      <th>16</th>\n",
       "      <td>2016-12-16</td>\n",
       "      <td>VALÈNCIA</td>\n",
       "      <td>12,2</td>\n",
       "      <td>46,2</td>\n",
       "      <td>9,2</td>\n",
       "      <td>15,2</td>\n",
       "      <td>2</td>\n",
       "    </tr>\n",
       "    <tr>\n",
       "      <th>17</th>\n",
       "      <td>2016-12-17</td>\n",
       "      <td>VALÈNCIA</td>\n",
       "      <td>14,0</td>\n",
       "      <td>13,1</td>\n",
       "      <td>12,0</td>\n",
       "      <td>16,0</td>\n",
       "      <td>2</td>\n",
       "    </tr>\n",
       "    <tr>\n",
       "      <th>18</th>\n",
       "      <td>2016-12-18</td>\n",
       "      <td>VALÈNCIA</td>\n",
       "      <td>12,0</td>\n",
       "      <td>74,0</td>\n",
       "      <td>10,5</td>\n",
       "      <td>13,6</td>\n",
       "      <td>2</td>\n",
       "    </tr>\n",
       "    <tr>\n",
       "      <th>19</th>\n",
       "      <td>2016-12-19</td>\n",
       "      <td>VALÈNCIA</td>\n",
       "      <td>10,6</td>\n",
       "      <td>4,1</td>\n",
       "      <td>10,2</td>\n",
       "      <td>10,9</td>\n",
       "      <td>2</td>\n",
       "    </tr>\n",
       "  </tbody>\n",
       "</table>\n",
       "</div>"
      ],
      "text/plain": [
       "         fecha    nombre  tmed  prec  tmin  tmax  puerto\n",
       "0   2016-11-30  VALÈNCIA  13,6   0,3  11,4  15,9       2\n",
       "1   2016-12-01  VALÈNCIA  14,4   0,0  12,4  16,3       2\n",
       "2   2016-12-02  VALÈNCIA  13,4   0,0   9,2  17,7       2\n",
       "3   2016-12-03  VALÈNCIA  13,2   6,6   8,4  18,0       2\n",
       "4   2016-12-04  VALÈNCIA  15,2   8,6  13,5  16,8       2\n",
       "5   2016-12-05  VALÈNCIA  16,1  14,5  15,5  16,7       2\n",
       "6   2016-12-06  VALÈNCIA  15,6   0,0  12,5  18,7       2\n",
       "7   2016-12-07  VALÈNCIA  13,2   0,6   8,8  17,7       2\n",
       "8   2016-12-08  VALÈNCIA  13,4   0,0   9,5  17,4       2\n",
       "9   2016-12-09  VALÈNCIA  15,4   0,0  11,8  19,1       2\n",
       "10  2016-12-10  VALÈNCIA  15,5   0,0  11,6  19,4       2\n",
       "11  2016-12-11  VALÈNCIA  13,8   0,0   8,8  18,8       2\n",
       "12  2016-12-12  VALÈNCIA  13,6   0,0   8,8  18,4       2\n",
       "13  2016-12-13  VALÈNCIA  12,2   0,0   7,3  17,2       2\n",
       "14  2016-12-14  VALÈNCIA  12,2   0,0   7,9  16,5       2\n",
       "15  2016-12-15  VALÈNCIA  12,2   0,3   8,5  15,8       2\n",
       "16  2016-12-16  VALÈNCIA  12,2  46,2   9,2  15,2       2\n",
       "17  2016-12-17  VALÈNCIA  14,0  13,1  12,0  16,0       2\n",
       "18  2016-12-18  VALÈNCIA  12,0  74,0  10,5  13,6       2\n",
       "19  2016-12-19  VALÈNCIA  10,6   4,1  10,2  10,9       2"
      ]
     },
     "execution_count": 9,
     "metadata": {},
     "output_type": "execute_result"
    }
   ],
   "source": [
    "VAL.head(20)"
   ]
  },
  {
   "cell_type": "code",
   "execution_count": 10,
   "metadata": {},
   "outputs": [
    {
     "data": {
      "text/plain": [
       "Index(['fecha', 'nombre', 'tmed', 'prec', 'tmin', 'tmax', 'puerto'], dtype='object')"
      ]
     },
     "execution_count": 10,
     "metadata": {},
     "output_type": "execute_result"
    }
   ],
   "source": [
    "LP.columns"
   ]
  },
  {
   "cell_type": "code",
   "execution_count": 11,
   "metadata": {},
   "outputs": [
    {
     "data": {
      "text/plain": [
       "fecha      0\n",
       "nombre     0\n",
       "tmed      18\n",
       "prec      13\n",
       "tmin      18\n",
       "tmax      18\n",
       "puerto     0\n",
       "dtype: int64"
      ]
     },
     "execution_count": 11,
     "metadata": {},
     "output_type": "execute_result"
    }
   ],
   "source": [
    "LP.isnull().sum()"
   ]
  },
  {
   "cell_type": "code",
   "execution_count": 12,
   "metadata": {},
   "outputs": [
    {
     "data": {
      "text/plain": [
       "fecha     0\n",
       "nombre    0\n",
       "tmed      0\n",
       "prec      1\n",
       "tmin      0\n",
       "tmax      0\n",
       "puerto    0\n",
       "dtype: int64"
      ]
     },
     "execution_count": 12,
     "metadata": {},
     "output_type": "execute_result"
    }
   ],
   "source": [
    "VAL.isnull().sum()"
   ]
  },
  {
   "cell_type": "code",
   "execution_count": 13,
   "metadata": {},
   "outputs": [
    {
     "data": {
      "text/html": [
       "<div>\n",
       "<style scoped>\n",
       "    .dataframe tbody tr th:only-of-type {\n",
       "        vertical-align: middle;\n",
       "    }\n",
       "\n",
       "    .dataframe tbody tr th {\n",
       "        vertical-align: top;\n",
       "    }\n",
       "\n",
       "    .dataframe thead th {\n",
       "        text-align: right;\n",
       "    }\n",
       "</style>\n",
       "<table border=\"1\" class=\"dataframe\">\n",
       "  <thead>\n",
       "    <tr style=\"text-align: right;\">\n",
       "      <th></th>\n",
       "      <th>fecha</th>\n",
       "      <th>nombre</th>\n",
       "      <th>tmed</th>\n",
       "      <th>prec</th>\n",
       "      <th>tmin</th>\n",
       "      <th>tmax</th>\n",
       "      <th>puerto</th>\n",
       "    </tr>\n",
       "  </thead>\n",
       "  <tbody>\n",
       "    <tr>\n",
       "      <th>94</th>\n",
       "      <td>2017-03-04</td>\n",
       "      <td>LAS PALMAS DE GRAN CANARIA, SAN CRISTOBAL</td>\n",
       "      <td>17,2</td>\n",
       "      <td>0,1</td>\n",
       "      <td>15,2</td>\n",
       "      <td>19,1</td>\n",
       "      <td>1</td>\n",
       "    </tr>\n",
       "    <tr>\n",
       "      <th>95</th>\n",
       "      <td>2017-03-05</td>\n",
       "      <td>LAS PALMAS DE GRAN CANARIA, SAN CRISTOBAL</td>\n",
       "      <td>NaN</td>\n",
       "      <td>0,0</td>\n",
       "      <td>NaN</td>\n",
       "      <td>NaN</td>\n",
       "      <td>1</td>\n",
       "    </tr>\n",
       "    <tr>\n",
       "      <th>96</th>\n",
       "      <td>2017-03-06</td>\n",
       "      <td>LAS PALMAS DE GRAN CANARIA, SAN CRISTOBAL</td>\n",
       "      <td>18,0</td>\n",
       "      <td>0,0</td>\n",
       "      <td>16,8</td>\n",
       "      <td>19,1</td>\n",
       "      <td>1</td>\n",
       "    </tr>\n",
       "    <tr>\n",
       "      <th>97</th>\n",
       "      <td>2017-03-07</td>\n",
       "      <td>LAS PALMAS DE GRAN CANARIA, SAN CRISTOBAL</td>\n",
       "      <td>18,3</td>\n",
       "      <td>0,0</td>\n",
       "      <td>16,4</td>\n",
       "      <td>20,2</td>\n",
       "      <td>1</td>\n",
       "    </tr>\n",
       "    <tr>\n",
       "      <th>98</th>\n",
       "      <td>2017-03-08</td>\n",
       "      <td>LAS PALMAS DE GRAN CANARIA, SAN CRISTOBAL</td>\n",
       "      <td>21,6</td>\n",
       "      <td>0,0</td>\n",
       "      <td>15,5</td>\n",
       "      <td>27,6</td>\n",
       "      <td>1</td>\n",
       "    </tr>\n",
       "    <tr>\n",
       "      <th>99</th>\n",
       "      <td>2017-03-09</td>\n",
       "      <td>LAS PALMAS DE GRAN CANARIA, SAN CRISTOBAL</td>\n",
       "      <td>20,4</td>\n",
       "      <td>0,0</td>\n",
       "      <td>14,0</td>\n",
       "      <td>26,7</td>\n",
       "      <td>1</td>\n",
       "    </tr>\n",
       "  </tbody>\n",
       "</table>\n",
       "</div>"
      ],
      "text/plain": [
       "         fecha                                     nombre  tmed prec  tmin  \\\n",
       "94  2017-03-04  LAS PALMAS DE GRAN CANARIA, SAN CRISTOBAL  17,2  0,1  15,2   \n",
       "95  2017-03-05  LAS PALMAS DE GRAN CANARIA, SAN CRISTOBAL   NaN  0,0   NaN   \n",
       "96  2017-03-06  LAS PALMAS DE GRAN CANARIA, SAN CRISTOBAL  18,0  0,0  16,8   \n",
       "97  2017-03-07  LAS PALMAS DE GRAN CANARIA, SAN CRISTOBAL  18,3  0,0  16,4   \n",
       "98  2017-03-08  LAS PALMAS DE GRAN CANARIA, SAN CRISTOBAL  21,6  0,0  15,5   \n",
       "99  2017-03-09  LAS PALMAS DE GRAN CANARIA, SAN CRISTOBAL  20,4  0,0  14,0   \n",
       "\n",
       "    tmax  puerto  \n",
       "94  19,1       1  \n",
       "95   NaN       1  \n",
       "96  19,1       1  \n",
       "97  20,2       1  \n",
       "98  27,6       1  \n",
       "99  26,7       1  "
      ]
     },
     "execution_count": 13,
     "metadata": {},
     "output_type": "execute_result"
    }
   ],
   "source": [
    "LP.iloc[94:100]"
   ]
  },
  {
   "cell_type": "code",
   "execution_count": 14,
   "metadata": {},
   "outputs": [
    {
     "data": {
      "text/plain": [
       "'17,2'"
      ]
     },
     "execution_count": 14,
     "metadata": {},
     "output_type": "execute_result"
    }
   ],
   "source": [
    "LP.tmed.iloc[94]\n",
    "# to transform objects to numeric need to change , for ."
   ]
  },
  {
   "cell_type": "code",
   "execution_count": 15,
   "metadata": {},
   "outputs": [],
   "source": [
    "# test conversion\n",
    "#conversion=float((LP.tmed.iloc[94]).replace(',','.'))\n",
    "#conversion"
   ]
  },
  {
   "cell_type": "code",
   "execution_count": 16,
   "metadata": {},
   "outputs": [
    {
     "data": {
      "text/plain": [
       "fecha     object\n",
       "nombre    object\n",
       "tmed      object\n",
       "prec      object\n",
       "tmin      object\n",
       "tmax      object\n",
       "puerto     int64\n",
       "dtype: object"
      ]
     },
     "execution_count": 16,
     "metadata": {},
     "output_type": "execute_result"
    }
   ],
   "source": [
    "LP.dtypes"
   ]
  },
  {
   "cell_type": "code",
   "execution_count": 35,
   "metadata": {},
   "outputs": [
    {
     "name": "stdout",
     "output_type": "stream",
     "text": [
      "True\n",
      "False\n"
     ]
    }
   ],
   "source": [
    "a= float(9)\n",
    "print(a==9)\n",
    "print(type(a)!=float)"
   ]
  },
  {
   "cell_type": "code",
   "execution_count": 33,
   "metadata": {},
   "outputs": [
    {
     "name": "stdout",
     "output_type": "stream",
     "text": [
      "<class 'float'>\n"
     ]
    }
   ],
   "source": [
    "print(type(a))"
   ]
  },
  {
   "cell_type": "code",
   "execution_count": 54,
   "metadata": {},
   "outputs": [
    {
     "name": "stdout",
     "output_type": "stream",
     "text": [
      "9.57\n",
      "9...57\n"
     ]
    }
   ],
   "source": [
    "e= float(9.57)\n",
    "if type(e)== str:\n",
    "    print(e.replace('.','...'))\n",
    "else:\n",
    "    print(e)\n",
    "    \n",
    "e= str(9.57)\n",
    "if type(e)== str:\n",
    "    print(e.replace('.','...'))\n",
    "else:\n",
    "    print(e)"
   ]
  },
  {
   "cell_type": "code",
   "execution_count": null,
   "metadata": {},
   "outputs": [],
   "source": [
    "\n",
    "#f = lambda x: 1 if x>0 else 0 if x ==0 else -1"
   ]
  },
  {
   "cell_type": "code",
   "execution_count": 23,
   "metadata": {},
   "outputs": [
    {
     "data": {
      "text/plain": [
       "{float, str}"
      ]
     },
     "execution_count": 23,
     "metadata": {},
     "output_type": "execute_result"
    }
   ],
   "source": [
    "set[type(e) for e in list(LP['tmed'])]\n"
   ]
  },
  {
   "cell_type": "code",
   "execution_count": 55,
   "metadata": {},
   "outputs": [],
   "source": [
    "#wrong_type_columns = ['tmed','prec','tmin','tmax']\n",
    "LP['tmed'] = LP['tmed'].apply(lambda e: e.replace(',','.') if type(e)== str else e)\n",
    "#LP['tmed'] = LP['tmed'].apply(lambda e: e.replace(',','.') if type(e)!= float)\n",
    "\n",
    "#lambda <arguments> : <Return Value if condition is True> if <condition> else <Return Value if condition is False>\n",
    "#LP[wrong_type_columns] = LP[wrong_type_columns].apply(lambda e: pd.to_numeric(e, errors='coerce'))"
   ]
  },
  {
   "cell_type": "code",
   "execution_count": 56,
   "metadata": {},
   "outputs": [
    {
     "data": {
      "text/plain": [
       "0       21.9\n",
       "1       21.8\n",
       "2       22.4\n",
       "3       23.7\n",
       "4       20.2\n",
       "        ... \n",
       "1076    20.0\n",
       "1077    16.6\n",
       "1078    18.2\n",
       "1079    19.4\n",
       "1080    19.7\n",
       "Name: tmed, Length: 1081, dtype: object"
      ]
     },
     "execution_count": 56,
     "metadata": {},
     "output_type": "execute_result"
    }
   ],
   "source": [
    "LP['tmed']"
   ]
  },
  {
   "cell_type": "code",
   "execution_count": null,
   "metadata": {},
   "outputs": [],
   "source": [
    "#e='3,5'\n",
    "#print(float((e.replace(',','.'))))\n"
   ]
  },
  {
   "cell_type": "code",
   "execution_count": null,
   "metadata": {},
   "outputs": [],
   "source": [
    "wrong_type_columns = ['prec','tmin','tmax']\n",
    "LP[wrong_type_columns] = LP[].apply(lambda e: e.replace(',','.') if type(e)== str else e)"
   ]
  },
  {
   "cell_type": "code",
   "execution_count": null,
   "metadata": {},
   "outputs": [],
   "source": [
    "# changing object to numeric for the relevant variables\n",
    "#cols = ['tmed', 'prec', 'tmin', 'tmax']\n",
    "#LP[cols] = LP[cols].apply(pd.to_numeric, errors='coerce', axis=1)\n",
    "#LP.info()"
   ]
  },
  {
   "cell_type": "code",
   "execution_count": null,
   "metadata": {},
   "outputs": [],
   "source": [
    "#LP.iloc[94:100]"
   ]
  },
  {
   "cell_type": "code",
   "execution_count": null,
   "metadata": {},
   "outputs": [],
   "source": [
    "#df.interpolate(method ='linear', limit_direction ='forward') "
   ]
  },
  {
   "cell_type": "code",
   "execution_count": null,
   "metadata": {},
   "outputs": [],
   "source": [
    "#cols = ['tmed', 'prec', 'tmin', 'tmax']\n",
    "#VAL[cols] = VAL[cols].apply(pd.to_numeric, errors='coerce', axis=1)\n",
    "#VAL.info()"
   ]
  },
  {
   "cell_type": "code",
   "execution_count": null,
   "metadata": {},
   "outputs": [],
   "source": [
    "\n",
    "#print(VAL[VAL[\"prec\"].isnull()])"
   ]
  },
  {
   "cell_type": "code",
   "execution_count": null,
   "metadata": {},
   "outputs": [],
   "source": [
    "#VAL.head(100)"
   ]
  },
  {
   "cell_type": "code",
   "execution_count": null,
   "metadata": {},
   "outputs": [],
   "source": []
  }
 ],
 "metadata": {
  "kernelspec": {
   "display_name": "Python 3",
   "language": "python",
   "name": "python3"
  },
  "language_info": {
   "codemirror_mode": {
    "name": "ipython",
    "version": 3
   },
   "file_extension": ".py",
   "mimetype": "text/x-python",
   "name": "python",
   "nbconvert_exporter": "python",
   "pygments_lexer": "ipython3",
   "version": "3.7.5"
  }
 },
 "nbformat": 4,
 "nbformat_minor": 2
}
