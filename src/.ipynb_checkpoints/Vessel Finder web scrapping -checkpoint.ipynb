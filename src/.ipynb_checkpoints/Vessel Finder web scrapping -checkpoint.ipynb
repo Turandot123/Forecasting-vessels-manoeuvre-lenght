{
 "cells": [
  {
   "cell_type": "code",
   "execution_count": 10,
   "metadata": {},
   "outputs": [],
   "source": [
    "from bs4 import BeautifulSoup\n",
    "#import urllib2\n",
    "import re\n",
    "import requests"
   ]
  },
  {
   "cell_type": "code",
   "execution_count": 12,
   "metadata": {},
   "outputs": [
    {
     "name": "stdout",
     "output_type": "stream",
     "text": [
      "['http://video.arstechnica.com/', 'http://arstechnica.com/?view=grid', 'http://arstechnica.com/?view=archive', 'http://arstechnica.com/?theme=light', 'http://arstechnica.com/?theme=dark', 'http://arstechnica.com/?view=mobile', 'http://condenast.com/']\n"
     ]
    }
   ],
   "source": [
    "def getLinks(url):\n",
    "    res = requests.get(url)\n",
    "    html = res.text\n",
    "    soup = BeautifulSoup(html, 'html.parser')\n",
    "    links = []\n",
    "\n",
    "    for link in soup.findAll('a', attrs={'href': re.compile(\"^http://\")}):\n",
    "        links.append(link.get('href'))\n",
    "\n",
    "    return links\n",
    "\n",
    "print( getLinks(\"https://arstechnica.com\") )"
   ]
  },
  {
   "cell_type": "code",
   "execution_count": null,
   "metadata": {},
   "outputs": [],
   "source": [
    "medallero = []\n",
    "for fila in filas:\n",
    "    celdas = fila.find_all('td')\n",
    "    medallas = {\n",
    "        \"pais\": celdas[1].find('a').text.strip(),\n",
    "        \"oro\": int(celdas[2].text),\n",
    "        \"plata\": int(celdas[3].text),\n",
    "        \"bronce\": int(celdas[4].text)\n",
    "    }\n",
    "    medallero.append(medallas)\n",
    "    \n",
    "print(medallero)"
   ]
  },
  {
   "cell_type": "code",
   "execution_count": 38,
   "metadata": {},
   "outputs": [],
   "source": [
    "\n",
    "res = requests.get('https://arstechnica.com/')\n",
    "html = res.text\n",
    "soup = BeautifulSoup(html, 'html.parser')\n",
    "#soup \n",
    "\n",
    "\n"
   ]
  },
  {
   "cell_type": "code",
   "execution_count": 36,
   "metadata": {},
   "outputs": [
    {
     "data": {
      "text/plain": [
       "[<h2><a href=\"https://arstechnica.com/information-technology/2019/12/5g-as-a-home-broadband-replacement-isnt-a-slam-dunk-yet-but-it-might-be-soon/\">Can 5G replace everybody’s home broadband?</a></h2>,\n",
       " <h2><a href=\"https://arstechnica.com/gadgets/2019/12/guidemaster-good-tech-gifts-for-sprucing-up-a-loved-ones-work-space/\">Guidemaster: 10 tech gifts to improve the home office</a></h2>,\n",
       " <h2><a href=\"https://arstechnica.com/tech-policy/2019/12/new-youtube-policy-tries-to-ban-implied-threats-malicious-insults/\">New YouTube policy tries to ban “implied” threats, “malicious” insults</a></h2>,\n",
       " <h2><a href=\"https://arstechnica.com/gaming/2019/12/e3-without-the-lines-system-shock-other-games-to-get-48-hour-steam-demos/\">E3 without the lines: <em>System Shock</em>, other games to get 48-hour Steam demos</a></h2>,\n",
       " <h2><a href=\"https://arstechnica.com/gaming/2019/12/the-fight-to-keep-team-fortress-2-community-alive-on-the-ps3/\">12 years later, players somehow keep <em>Team Fortress 2</em> alive on the PS3</a></h2>,\n",
       " <h2><a href=\"https://arstechnica.com/information-technology/2019/12/pensacola-city-government-was-hit-by-maze-ransomware-was-data-stolen/\">Maze ransomware was behind Pensacola “cyber event,” Florida officials say</a></h2>,\n",
       " <h2><a href=\"https://arstechnica.com/information-technology/2019/12/verizon-lays-off-another-150-people-in-struggling-yahooaol-division/\">Verizon lays off more Yahoo/AOL employees after another drop in revenue</a></h2>,\n",
       " <h2><a href=\"https://arstechnica.com/cars/2019/12/bmw-is-finally-adding-android-auto-to-its-infotainment-system/\">BMW is finally adding Android Auto to its infotainment system</a></h2>,\n",
       " <h2><a href=\"https://arstechnica.com/gadgets/2019/12/qualcomms-new-snapdragon-865-is-a-step-backwards-for-smartphone-design/\">The Snapdragon 865 will make phones worse in 2020, thanks to mandatory 5G</a></h2>,\n",
       " <h2><a href=\"https://arstechnica.com/gaming/2019/12/mourning-the-end-of-the-video-game-rental-era/\">Mourning the end of the video game rental era</a></h2>,\n",
       " <h2><a href=\"https://arstechnica.com/science/2019/12/data-from-the-international-space-station-confirms-lightning-is-insane/\">Data from the International Space Station confirms: Lightning is insane</a></h2>,\n",
       " <h2><a href=\"https://arstechnica.com/information-technology/2019/12/scientists-pluck-crypto-keys-from-intels-sgx-by-tweaking-cpu-voltage/\">Intel’s SGX coughs up crypto keys when scientists tweak CPU voltage</a></h2>,\n",
       " <h2><a href=\"https://arstechnica.com/tech-policy/2019/12/failed-plot-to-steal-domain-name-at-gunpoint-brings-14-year-prison-term/\">Failed plot to steal domain name at gunpoint brings 14-year prison term</a></h2>,\n",
       " <h2><a href=\"https://arstechnica.com/information-technology/2019/12/pensacola-confirms-ransomware-attack-but-provides-few-details/\">Pensacola confirms ransomware attack but provides few details</a></h2>,\n",
       " <h2><a href=\"https://arstechnica.com/tech-policy/2019/12/ring-used-parties-swag-to-build-700-police-partnerships-report-finds/\">Uploaded Ring footage reportedly provides location to the square inch</a></h2>,\n",
       " <h2 id=\"featured-video-title\"><a href=\"https://arstechnica.com/gaming/2019/12/video-how-oddworld-solved-its-narrative-problems-with-mind-control/\">Video: How <em>Oddworld</em> solved its narrative problems with mind control</a></h2>,\n",
       " <h2><a href=\"https://arstechnica.com/gadgets/2019/12/apple-releases-macos-catalina-10-15-2-ios-and-ipados-13-3/\">Apple releases macOS Catalina 10.15.2, iOS, and iPadOS 13.3</a></h2>,\n",
       " <h2><a href=\"https://arstechnica.com/science/2019/12/this-years-flu-season-is-off-to-an-early-unusual-start-cdc-says/\">Unusual type of flu virus is dominating early start to this year’s flu season</a></h2>,\n",
       " <h2><a href=\"https://arstechnica.com/information-technology/2019/12/att-raises-directv-prices-again-despite-losing-millions-of-customers/\">AT&amp;T raises DirecTV prices again despite losing millions of customers</a></h2>,\n",
       " <h2><a href=\"https://arstechnica.com/staff/2019/12/dealmaster-get-30-in-amazon-credit-when-you-buy-a-new-nintendo-switch/\">Dealmaster: Get $30 in Amazon credit when you buy a new Nintendo Switch</a></h2>,\n",
       " <h2><a href=\"https://arstechnica.com/gadgets/2019/12/pixel-4-feature-drop-is-a-first-of-several-planned-quarterly-updates/\">Pixel 4 “Feature Drop” is a first of several planned quarterly updates</a></h2>,\n",
       " <h2><a href=\"https://arstechnica.com/gaming/2019/12/mini-4wd-is-an-electrifying-race-series-for-makers-and-tinkerers/\">Mini 4WD is an electrifying race series for makers and tinkerers</a></h2>,\n",
       " <h2><a href=\"https://arstechnica.com/gaming/2019/12/resident-evil-3-remake-headlines-a-handful-of-ps4-announcements/\"><em>Resident Evil 3</em> remake headlines a handful of PS4 announcements</a></h2>,\n",
       " <h2><a href=\"https://arstechnica.com/gaming/2019/12/how-mechwarriors-return-took-me-back-to-the-early-90s-mall-in-my-mind/\">How MechWarrior’s return took me back to the early ‘90s mall in my mind</a></h2>,\n",
       " <h2><a href=\"https://arstechnica.com/gaming/2019/12/sony-commits-to-making-video-games-for-additional-console-platforms/\">Sony announces plan to publish PlayStation games on non-PS consoles [updated]</a></h2>,\n",
       " <h2><a href=\"https://arstechnica.com/science/2019/12/evaluating-the-risks-of-africans-opting-for-coal-power/\">Evaluating the risks of Africans opting for coal power</a></h2>,\n",
       " <h2><a href=\"https://arstechnica.com/gaming/2019/12/star-trek-deep-space-nines-odo-rene-auberjonois-has-passed-away/\"><em>Star Trek</em> and <em>Fallout</em> actor Rene Auberjonois has passed away</a></h2>,\n",
       " <h2><a href=\"https://arstechnica.com/science/2019/12/new-zealand-volcano-erupts-killing-tourists-on-the-island/\">New Zealand volcano erupts, killing tourists on the island</a></h2>,\n",
       " <h2><a href=\"https://arstechnica.com/gadgets/2019/12/you-can-order-the-mac-pro-and-pro-display-xdr-starting-tomorrow/\">You can order the Mac Pro and Pro Display XDR starting tomorrow</a></h2>,\n",
       " <h2><a href=\"https://arstechnica.com/science/2019/12/dentist-who-rode-hoverboard-while-pulling-tooth-faces-patients-in-court/\">Dentist who rode hoverboard while pulling tooth faces patient in court</a></h2>,\n",
       " <h2><a href=\"https://arstechnica.com/gaming/2019/12/oculus-quest-keeps-getting-better-adds-vr-hand-tracking-this-week/\">Surprise! Oculus Quest becomes first VR set with native hand tracking—this week</a></h2>,\n",
       " <h2><a href=\"https://arstechnica.com/gadgets/2019/12/wireguard-vpn-is-a-step-closer-to-mainstream-adoption/\">WireGuard VPN is a step closer to mainstream adoption</a></h2>]"
      ]
     },
     "execution_count": 36,
     "metadata": {},
     "output_type": "execute_result"
    }
   ],
   "source": [
    "\n",
    "links = soup.find_all('h2')\n",
    "links_list=list(links)\n",
    "links_list= "
   ]
  },
  {
   "cell_type": "code",
   "execution_count": 37,
   "metadata": {},
   "outputs": [
    {
     "name": "stdout",
     "output_type": "stream",
     "text": [
      "<class 'bs4.element.ResultSet'>\n"
     ]
    }
   ],
   "source": [
    "print(type(links))"
   ]
  },
  {
   "cell_type": "code",
   "execution_count": 39,
   "metadata": {},
   "outputs": [
    {
     "ename": "TypeError",
     "evalue": "unhashable type: 'ResultSet'",
     "output_type": "error",
     "traceback": [
      "\u001b[0;31m---------------------------------------------------------------------------\u001b[0m",
      "\u001b[0;31mTypeError\u001b[0m                                 Traceback (most recent call last)",
      "\u001b[0;32m<ipython-input-39-efb6fa1dfcc6>\u001b[0m in \u001b[0;36m<module>\u001b[0;34m\u001b[0m\n\u001b[0;32m----> 1\u001b[0;31m \u001b[0mcleaned\u001b[0m\u001b[0;34m=\u001b[0m \u001b[0mre\u001b[0m\u001b[0;34m.\u001b[0m\u001b[0mcompile\u001b[0m\u001b[0;34m(\u001b[0m\u001b[0;34m\"^http://\"\u001b[0m\u001b[0;34m,\u001b[0m \u001b[0mlinks\u001b[0m\u001b[0;34m)\u001b[0m\u001b[0;34m\u001b[0m\u001b[0;34m\u001b[0m\u001b[0m\n\u001b[0m",
      "\u001b[0;32m/usr/local/Cellar/python/3.7.5/Frameworks/Python.framework/Versions/3.7/lib/python3.7/re.py\u001b[0m in \u001b[0;36mcompile\u001b[0;34m(pattern, flags)\u001b[0m\n\u001b[1;32m    232\u001b[0m \u001b[0;32mdef\u001b[0m \u001b[0mcompile\u001b[0m\u001b[0;34m(\u001b[0m\u001b[0mpattern\u001b[0m\u001b[0;34m,\u001b[0m \u001b[0mflags\u001b[0m\u001b[0;34m=\u001b[0m\u001b[0;36m0\u001b[0m\u001b[0;34m)\u001b[0m\u001b[0;34m:\u001b[0m\u001b[0;34m\u001b[0m\u001b[0;34m\u001b[0m\u001b[0m\n\u001b[1;32m    233\u001b[0m     \u001b[0;34m\"Compile a regular expression pattern, returning a Pattern object.\"\u001b[0m\u001b[0;34m\u001b[0m\u001b[0;34m\u001b[0m\u001b[0m\n\u001b[0;32m--> 234\u001b[0;31m     \u001b[0;32mreturn\u001b[0m \u001b[0m_compile\u001b[0m\u001b[0;34m(\u001b[0m\u001b[0mpattern\u001b[0m\u001b[0;34m,\u001b[0m \u001b[0mflags\u001b[0m\u001b[0;34m)\u001b[0m\u001b[0;34m\u001b[0m\u001b[0;34m\u001b[0m\u001b[0m\n\u001b[0m\u001b[1;32m    235\u001b[0m \u001b[0;34m\u001b[0m\u001b[0m\n\u001b[1;32m    236\u001b[0m \u001b[0;32mdef\u001b[0m \u001b[0mpurge\u001b[0m\u001b[0;34m(\u001b[0m\u001b[0;34m)\u001b[0m\u001b[0;34m:\u001b[0m\u001b[0;34m\u001b[0m\u001b[0;34m\u001b[0m\u001b[0m\n",
      "\u001b[0;32m/usr/local/Cellar/python/3.7.5/Frameworks/Python.framework/Versions/3.7/lib/python3.7/re.py\u001b[0m in \u001b[0;36m_compile\u001b[0;34m(pattern, flags)\u001b[0m\n\u001b[1;32m    274\u001b[0m         \u001b[0mflags\u001b[0m \u001b[0;34m=\u001b[0m \u001b[0mflags\u001b[0m\u001b[0;34m.\u001b[0m\u001b[0mvalue\u001b[0m\u001b[0;34m\u001b[0m\u001b[0;34m\u001b[0m\u001b[0m\n\u001b[1;32m    275\u001b[0m     \u001b[0;32mtry\u001b[0m\u001b[0;34m:\u001b[0m\u001b[0;34m\u001b[0m\u001b[0;34m\u001b[0m\u001b[0m\n\u001b[0;32m--> 276\u001b[0;31m         \u001b[0;32mreturn\u001b[0m \u001b[0m_cache\u001b[0m\u001b[0;34m[\u001b[0m\u001b[0mtype\u001b[0m\u001b[0;34m(\u001b[0m\u001b[0mpattern\u001b[0m\u001b[0;34m)\u001b[0m\u001b[0;34m,\u001b[0m \u001b[0mpattern\u001b[0m\u001b[0;34m,\u001b[0m \u001b[0mflags\u001b[0m\u001b[0;34m]\u001b[0m\u001b[0;34m\u001b[0m\u001b[0;34m\u001b[0m\u001b[0m\n\u001b[0m\u001b[1;32m    277\u001b[0m     \u001b[0;32mexcept\u001b[0m \u001b[0mKeyError\u001b[0m\u001b[0;34m:\u001b[0m\u001b[0;34m\u001b[0m\u001b[0;34m\u001b[0m\u001b[0m\n\u001b[1;32m    278\u001b[0m         \u001b[0;32mpass\u001b[0m\u001b[0;34m\u001b[0m\u001b[0;34m\u001b[0m\u001b[0m\n",
      "\u001b[0;31mTypeError\u001b[0m: unhashable type: 'ResultSet'"
     ]
    }
   ],
   "source": [
    "cleaned= re.compile(\"^http://\", links)"
   ]
  },
  {
   "cell_type": "code",
   "execution_count": null,
   "metadata": {},
   "outputs": [],
   "source": []
  }
 ],
 "metadata": {
  "kernelspec": {
   "display_name": "Python 3",
   "language": "python",
   "name": "python3"
  },
  "language_info": {
   "codemirror_mode": {
    "name": "ipython",
    "version": 3
   },
   "file_extension": ".py",
   "mimetype": "text/x-python",
   "name": "python",
   "nbconvert_exporter": "python",
   "pygments_lexer": "ipython3",
   "version": "3.7.5"
  }
 },
 "nbformat": 4,
 "nbformat_minor": 2
}
