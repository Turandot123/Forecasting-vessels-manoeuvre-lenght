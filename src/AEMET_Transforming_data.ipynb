{
 "cells": [
  {
   "cell_type": "code",
   "execution_count": 1,
   "metadata": {},
   "outputs": [],
   "source": [
    "# create this document to work on the weather conditions of LP and VAL without having to request the info all the time\n",
    "# to AEMET\n",
    "# Also to prepare the data sets for analysis removing columns which are not relevant, transforming objects into numerics\n",
    "# etc"
   ]
  },
  {
   "cell_type": "code",
   "execution_count": 2,
   "metadata": {},
   "outputs": [],
   "source": [
    "import pandas as pd\n"
   ]
  },
  {
   "cell_type": "code",
   "execution_count": 3,
   "metadata": {},
   "outputs": [
    {
     "data": {
      "text/plain": [
       "Index(['Unnamed: 0', 'fecha', 'indicativo', 'nombre', 'provincia', 'altitud',\n",
       "       'tmed', 'prec', 'tmin', 'horatmin', 'tmax', 'horatmax', 'dir',\n",
       "       'velmedia', 'racha', 'horaracha', 'puerto'],\n",
       "      dtype='object')"
      ]
     },
     "execution_count": 3,
     "metadata": {},
     "output_type": "execute_result"
    }
   ],
   "source": [
    "LP=pd.read_csv(\"../output/LPoriginal.csv\")\n",
    "LP.columns"
   ]
  },
  {
   "cell_type": "code",
   "execution_count": 4,
   "metadata": {},
   "outputs": [
    {
     "data": {
      "text/plain": [
       "Index(['Unnamed: 0', 'fecha', 'indicativo', 'nombre', 'provincia', 'altitud',\n",
       "       'tmed', 'prec', 'tmin', 'tmax', 'sol', 'puerto'],\n",
       "      dtype='object')"
      ]
     },
     "execution_count": 4,
     "metadata": {},
     "output_type": "execute_result"
    }
   ],
   "source": [
    "VAL=pd.read_csv(\"../output/VALoriginal.csv\")\n",
    "VAL.columns"
   ]
  },
  {
   "cell_type": "code",
   "execution_count": 5,
   "metadata": {},
   "outputs": [],
   "source": [
    "LP= LP.drop(['Unnamed: 0','indicativo', 'provincia', 'altitud','horatmin', 'horatmax','dir', 'velmedia', 'racha','horaracha'], axis=1)\n",
    "\n"
   ]
  },
  {
   "cell_type": "code",
   "execution_count": 6,
   "metadata": {},
   "outputs": [
    {
     "data": {
      "text/html": [
       "<div>\n",
       "<style scoped>\n",
       "    .dataframe tbody tr th:only-of-type {\n",
       "        vertical-align: middle;\n",
       "    }\n",
       "\n",
       "    .dataframe tbody tr th {\n",
       "        vertical-align: top;\n",
       "    }\n",
       "\n",
       "    .dataframe thead th {\n",
       "        text-align: right;\n",
       "    }\n",
       "</style>\n",
       "<table border=\"1\" class=\"dataframe\">\n",
       "  <thead>\n",
       "    <tr style=\"text-align: right;\">\n",
       "      <th></th>\n",
       "      <th>fecha</th>\n",
       "      <th>nombre</th>\n",
       "      <th>tmed</th>\n",
       "      <th>prec</th>\n",
       "      <th>tmin</th>\n",
       "      <th>tmax</th>\n",
       "      <th>puerto</th>\n",
       "    </tr>\n",
       "  </thead>\n",
       "  <tbody>\n",
       "    <tr>\n",
       "      <th>0</th>\n",
       "      <td>2016-11-30</td>\n",
       "      <td>LAS PALMAS DE GRAN CANARIA, SAN CRISTOBAL</td>\n",
       "      <td>21,9</td>\n",
       "      <td>0,0</td>\n",
       "      <td>17,8</td>\n",
       "      <td>26,0</td>\n",
       "      <td>1</td>\n",
       "    </tr>\n",
       "    <tr>\n",
       "      <th>1</th>\n",
       "      <td>2016-12-01</td>\n",
       "      <td>LAS PALMAS DE GRAN CANARIA, SAN CRISTOBAL</td>\n",
       "      <td>21,8</td>\n",
       "      <td>0,0</td>\n",
       "      <td>17,9</td>\n",
       "      <td>25,6</td>\n",
       "      <td>1</td>\n",
       "    </tr>\n",
       "    <tr>\n",
       "      <th>2</th>\n",
       "      <td>2016-12-02</td>\n",
       "      <td>LAS PALMAS DE GRAN CANARIA, SAN CRISTOBAL</td>\n",
       "      <td>22,4</td>\n",
       "      <td>0,0</td>\n",
       "      <td>18,8</td>\n",
       "      <td>26,0</td>\n",
       "      <td>1</td>\n",
       "    </tr>\n",
       "    <tr>\n",
       "      <th>3</th>\n",
       "      <td>2016-12-03</td>\n",
       "      <td>LAS PALMAS DE GRAN CANARIA, SAN CRISTOBAL</td>\n",
       "      <td>23,7</td>\n",
       "      <td>0,0</td>\n",
       "      <td>20,2</td>\n",
       "      <td>27,2</td>\n",
       "      <td>1</td>\n",
       "    </tr>\n",
       "    <tr>\n",
       "      <th>4</th>\n",
       "      <td>2016-12-04</td>\n",
       "      <td>LAS PALMAS DE GRAN CANARIA, SAN CRISTOBAL</td>\n",
       "      <td>20,2</td>\n",
       "      <td>2,4</td>\n",
       "      <td>18,1</td>\n",
       "      <td>22,2</td>\n",
       "      <td>1</td>\n",
       "    </tr>\n",
       "  </tbody>\n",
       "</table>\n",
       "</div>"
      ],
      "text/plain": [
       "        fecha                                     nombre  tmed prec  tmin  \\\n",
       "0  2016-11-30  LAS PALMAS DE GRAN CANARIA, SAN CRISTOBAL  21,9  0,0  17,8   \n",
       "1  2016-12-01  LAS PALMAS DE GRAN CANARIA, SAN CRISTOBAL  21,8  0,0  17,9   \n",
       "2  2016-12-02  LAS PALMAS DE GRAN CANARIA, SAN CRISTOBAL  22,4  0,0  18,8   \n",
       "3  2016-12-03  LAS PALMAS DE GRAN CANARIA, SAN CRISTOBAL  23,7  0,0  20,2   \n",
       "4  2016-12-04  LAS PALMAS DE GRAN CANARIA, SAN CRISTOBAL  20,2  2,4  18,1   \n",
       "\n",
       "   tmax  puerto  \n",
       "0  26,0       1  \n",
       "1  25,6       1  \n",
       "2  26,0       1  \n",
       "3  27,2       1  \n",
       "4  22,2       1  "
      ]
     },
     "execution_count": 6,
     "metadata": {},
     "output_type": "execute_result"
    }
   ],
   "source": [
    "LP.head()"
   ]
  },
  {
   "cell_type": "code",
   "execution_count": 7,
   "metadata": {},
   "outputs": [],
   "source": [
    "VAL=VAL.drop(['Unnamed: 0', 'indicativo', 'provincia', 'sol', 'altitud'],axis=1)"
   ]
  },
  {
   "cell_type": "code",
   "execution_count": 8,
   "metadata": {},
   "outputs": [
    {
     "data": {
      "text/plain": [
       "Index(['fecha', 'nombre', 'tmed', 'prec', 'tmin', 'tmax', 'puerto'], dtype='object')"
      ]
     },
     "execution_count": 8,
     "metadata": {},
     "output_type": "execute_result"
    }
   ],
   "source": [
    "VAL.columns"
   ]
  },
  {
   "cell_type": "code",
   "execution_count": 9,
   "metadata": {},
   "outputs": [
    {
     "data": {
      "text/html": [
       "<div>\n",
       "<style scoped>\n",
       "    .dataframe tbody tr th:only-of-type {\n",
       "        vertical-align: middle;\n",
       "    }\n",
       "\n",
       "    .dataframe tbody tr th {\n",
       "        vertical-align: top;\n",
       "    }\n",
       "\n",
       "    .dataframe thead th {\n",
       "        text-align: right;\n",
       "    }\n",
       "</style>\n",
       "<table border=\"1\" class=\"dataframe\">\n",
       "  <thead>\n",
       "    <tr style=\"text-align: right;\">\n",
       "      <th></th>\n",
       "      <th>fecha</th>\n",
       "      <th>nombre</th>\n",
       "      <th>tmed</th>\n",
       "      <th>prec</th>\n",
       "      <th>tmin</th>\n",
       "      <th>tmax</th>\n",
       "      <th>puerto</th>\n",
       "    </tr>\n",
       "  </thead>\n",
       "  <tbody>\n",
       "    <tr>\n",
       "      <th>0</th>\n",
       "      <td>2016-11-30</td>\n",
       "      <td>VALÈNCIA</td>\n",
       "      <td>13,6</td>\n",
       "      <td>0,3</td>\n",
       "      <td>11,4</td>\n",
       "      <td>15,9</td>\n",
       "      <td>2</td>\n",
       "    </tr>\n",
       "    <tr>\n",
       "      <th>1</th>\n",
       "      <td>2016-12-01</td>\n",
       "      <td>VALÈNCIA</td>\n",
       "      <td>14,4</td>\n",
       "      <td>0,0</td>\n",
       "      <td>12,4</td>\n",
       "      <td>16,3</td>\n",
       "      <td>2</td>\n",
       "    </tr>\n",
       "    <tr>\n",
       "      <th>2</th>\n",
       "      <td>2016-12-02</td>\n",
       "      <td>VALÈNCIA</td>\n",
       "      <td>13,4</td>\n",
       "      <td>0,0</td>\n",
       "      <td>9,2</td>\n",
       "      <td>17,7</td>\n",
       "      <td>2</td>\n",
       "    </tr>\n",
       "    <tr>\n",
       "      <th>3</th>\n",
       "      <td>2016-12-03</td>\n",
       "      <td>VALÈNCIA</td>\n",
       "      <td>13,2</td>\n",
       "      <td>6,6</td>\n",
       "      <td>8,4</td>\n",
       "      <td>18,0</td>\n",
       "      <td>2</td>\n",
       "    </tr>\n",
       "    <tr>\n",
       "      <th>4</th>\n",
       "      <td>2016-12-04</td>\n",
       "      <td>VALÈNCIA</td>\n",
       "      <td>15,2</td>\n",
       "      <td>8,6</td>\n",
       "      <td>13,5</td>\n",
       "      <td>16,8</td>\n",
       "      <td>2</td>\n",
       "    </tr>\n",
       "  </tbody>\n",
       "</table>\n",
       "</div>"
      ],
      "text/plain": [
       "        fecha    nombre  tmed prec  tmin  tmax  puerto\n",
       "0  2016-11-30  VALÈNCIA  13,6  0,3  11,4  15,9       2\n",
       "1  2016-12-01  VALÈNCIA  14,4  0,0  12,4  16,3       2\n",
       "2  2016-12-02  VALÈNCIA  13,4  0,0   9,2  17,7       2\n",
       "3  2016-12-03  VALÈNCIA  13,2  6,6   8,4  18,0       2\n",
       "4  2016-12-04  VALÈNCIA  15,2  8,6  13,5  16,8       2"
      ]
     },
     "execution_count": 9,
     "metadata": {},
     "output_type": "execute_result"
    }
   ],
   "source": [
    "VAL.head()"
   ]
  },
  {
   "cell_type": "code",
   "execution_count": 10,
   "metadata": {},
   "outputs": [
    {
     "data": {
      "text/plain": [
       "Index(['fecha', 'nombre', 'tmed', 'prec', 'tmin', 'tmax', 'puerto'], dtype='object')"
      ]
     },
     "execution_count": 10,
     "metadata": {},
     "output_type": "execute_result"
    }
   ],
   "source": [
    "LP.columns"
   ]
  },
  {
   "cell_type": "code",
   "execution_count": 11,
   "metadata": {},
   "outputs": [
    {
     "data": {
      "text/plain": [
       "fecha      0\n",
       "nombre     0\n",
       "tmed      18\n",
       "prec      13\n",
       "tmin      18\n",
       "tmax      18\n",
       "puerto     0\n",
       "dtype: int64"
      ]
     },
     "execution_count": 11,
     "metadata": {},
     "output_type": "execute_result"
    }
   ],
   "source": [
    "LP.isnull().sum()"
   ]
  },
  {
   "cell_type": "code",
   "execution_count": 12,
   "metadata": {},
   "outputs": [
    {
     "data": {
      "text/plain": [
       "fecha     0\n",
       "nombre    0\n",
       "tmed      0\n",
       "prec      1\n",
       "tmin      0\n",
       "tmax      0\n",
       "puerto    0\n",
       "dtype: int64"
      ]
     },
     "execution_count": 12,
     "metadata": {},
     "output_type": "execute_result"
    }
   ],
   "source": [
    "VAL.isnull().sum()"
   ]
  },
  {
   "cell_type": "code",
   "execution_count": 13,
   "metadata": {},
   "outputs": [
    {
     "data": {
      "text/html": [
       "<div>\n",
       "<style scoped>\n",
       "    .dataframe tbody tr th:only-of-type {\n",
       "        vertical-align: middle;\n",
       "    }\n",
       "\n",
       "    .dataframe tbody tr th {\n",
       "        vertical-align: top;\n",
       "    }\n",
       "\n",
       "    .dataframe thead th {\n",
       "        text-align: right;\n",
       "    }\n",
       "</style>\n",
       "<table border=\"1\" class=\"dataframe\">\n",
       "  <thead>\n",
       "    <tr style=\"text-align: right;\">\n",
       "      <th></th>\n",
       "      <th>fecha</th>\n",
       "      <th>nombre</th>\n",
       "      <th>tmed</th>\n",
       "      <th>prec</th>\n",
       "      <th>tmin</th>\n",
       "      <th>tmax</th>\n",
       "      <th>puerto</th>\n",
       "    </tr>\n",
       "  </thead>\n",
       "  <tbody>\n",
       "    <tr>\n",
       "      <th>94</th>\n",
       "      <td>2017-03-04</td>\n",
       "      <td>LAS PALMAS DE GRAN CANARIA, SAN CRISTOBAL</td>\n",
       "      <td>17,2</td>\n",
       "      <td>0,1</td>\n",
       "      <td>15,2</td>\n",
       "      <td>19,1</td>\n",
       "      <td>1</td>\n",
       "    </tr>\n",
       "    <tr>\n",
       "      <th>95</th>\n",
       "      <td>2017-03-05</td>\n",
       "      <td>LAS PALMAS DE GRAN CANARIA, SAN CRISTOBAL</td>\n",
       "      <td>NaN</td>\n",
       "      <td>0,0</td>\n",
       "      <td>NaN</td>\n",
       "      <td>NaN</td>\n",
       "      <td>1</td>\n",
       "    </tr>\n",
       "    <tr>\n",
       "      <th>96</th>\n",
       "      <td>2017-03-06</td>\n",
       "      <td>LAS PALMAS DE GRAN CANARIA, SAN CRISTOBAL</td>\n",
       "      <td>18,0</td>\n",
       "      <td>0,0</td>\n",
       "      <td>16,8</td>\n",
       "      <td>19,1</td>\n",
       "      <td>1</td>\n",
       "    </tr>\n",
       "    <tr>\n",
       "      <th>97</th>\n",
       "      <td>2017-03-07</td>\n",
       "      <td>LAS PALMAS DE GRAN CANARIA, SAN CRISTOBAL</td>\n",
       "      <td>18,3</td>\n",
       "      <td>0,0</td>\n",
       "      <td>16,4</td>\n",
       "      <td>20,2</td>\n",
       "      <td>1</td>\n",
       "    </tr>\n",
       "    <tr>\n",
       "      <th>98</th>\n",
       "      <td>2017-03-08</td>\n",
       "      <td>LAS PALMAS DE GRAN CANARIA, SAN CRISTOBAL</td>\n",
       "      <td>21,6</td>\n",
       "      <td>0,0</td>\n",
       "      <td>15,5</td>\n",
       "      <td>27,6</td>\n",
       "      <td>1</td>\n",
       "    </tr>\n",
       "    <tr>\n",
       "      <th>99</th>\n",
       "      <td>2017-03-09</td>\n",
       "      <td>LAS PALMAS DE GRAN CANARIA, SAN CRISTOBAL</td>\n",
       "      <td>20,4</td>\n",
       "      <td>0,0</td>\n",
       "      <td>14,0</td>\n",
       "      <td>26,7</td>\n",
       "      <td>1</td>\n",
       "    </tr>\n",
       "  </tbody>\n",
       "</table>\n",
       "</div>"
      ],
      "text/plain": [
       "         fecha                                     nombre  tmed prec  tmin  \\\n",
       "94  2017-03-04  LAS PALMAS DE GRAN CANARIA, SAN CRISTOBAL  17,2  0,1  15,2   \n",
       "95  2017-03-05  LAS PALMAS DE GRAN CANARIA, SAN CRISTOBAL   NaN  0,0   NaN   \n",
       "96  2017-03-06  LAS PALMAS DE GRAN CANARIA, SAN CRISTOBAL  18,0  0,0  16,8   \n",
       "97  2017-03-07  LAS PALMAS DE GRAN CANARIA, SAN CRISTOBAL  18,3  0,0  16,4   \n",
       "98  2017-03-08  LAS PALMAS DE GRAN CANARIA, SAN CRISTOBAL  21,6  0,0  15,5   \n",
       "99  2017-03-09  LAS PALMAS DE GRAN CANARIA, SAN CRISTOBAL  20,4  0,0  14,0   \n",
       "\n",
       "    tmax  puerto  \n",
       "94  19,1       1  \n",
       "95   NaN       1  \n",
       "96  19,1       1  \n",
       "97  20,2       1  \n",
       "98  27,6       1  \n",
       "99  26,7       1  "
      ]
     },
     "execution_count": 13,
     "metadata": {},
     "output_type": "execute_result"
    }
   ],
   "source": [
    "LP.iloc[94:100]"
   ]
  },
  {
   "cell_type": "code",
   "execution_count": 14,
   "metadata": {},
   "outputs": [
    {
     "data": {
      "text/plain": [
       "'17,2'"
      ]
     },
     "execution_count": 14,
     "metadata": {},
     "output_type": "execute_result"
    }
   ],
   "source": [
    "LP.tmed.iloc[94]\n",
    "# to transform objects to numeric need to change , for ."
   ]
  },
  {
   "cell_type": "code",
   "execution_count": 22,
   "metadata": {},
   "outputs": [],
   "source": [
    "# first convert , into . to then use numeric function in object type\n",
    "LP['tmed'] = LP['tmed'].apply(lambda e: e.replace(',','.') if type(e)== str else e)"
   ]
  },
  {
   "cell_type": "code",
   "execution_count": 23,
   "metadata": {},
   "outputs": [],
   "source": [
    "LP['prec'] = LP['prec'].apply(lambda e: e.replace(',','.') if type(e)== str else e)\n",
    "LP['tmin'] = LP['tmin'].apply(lambda e: e.replace(',','.') if type(e)== str else e)\n",
    "LP['tmax'] = LP['tmax'].apply(lambda e: e.replace(',','.') if type(e)== str else e)"
   ]
  },
  {
   "cell_type": "code",
   "execution_count": 24,
   "metadata": {},
   "outputs": [
    {
     "name": "stdout",
     "output_type": "stream",
     "text": [
      "<class 'pandas.core.frame.DataFrame'>\n",
      "RangeIndex: 1081 entries, 0 to 1080\n",
      "Data columns (total 7 columns):\n",
      "fecha     1081 non-null object\n",
      "nombre    1081 non-null object\n",
      "tmed      1063 non-null float64\n",
      "prec      1068 non-null float64\n",
      "tmin      1063 non-null float64\n",
      "tmax      1063 non-null float64\n",
      "puerto    1081 non-null int64\n",
      "dtypes: float64(4), int64(1), object(2)\n",
      "memory usage: 59.2+ KB\n"
     ]
    }
   ],
   "source": [
    "cols = ['tmed', 'prec', 'tmin', 'tmax']\n",
    "LP[cols] = LP[cols].apply(pd.to_numeric, errors='coerce', axis=1)\n",
    "LP.info()"
   ]
  },
  {
   "cell_type": "code",
   "execution_count": 25,
   "metadata": {},
   "outputs": [
    {
     "data": {
      "text/html": [
       "<div>\n",
       "<style scoped>\n",
       "    .dataframe tbody tr th:only-of-type {\n",
       "        vertical-align: middle;\n",
       "    }\n",
       "\n",
       "    .dataframe tbody tr th {\n",
       "        vertical-align: top;\n",
       "    }\n",
       "\n",
       "    .dataframe thead th {\n",
       "        text-align: right;\n",
       "    }\n",
       "</style>\n",
       "<table border=\"1\" class=\"dataframe\">\n",
       "  <thead>\n",
       "    <tr style=\"text-align: right;\">\n",
       "      <th></th>\n",
       "      <th>fecha</th>\n",
       "      <th>nombre</th>\n",
       "      <th>tmed</th>\n",
       "      <th>prec</th>\n",
       "      <th>tmin</th>\n",
       "      <th>tmax</th>\n",
       "      <th>puerto</th>\n",
       "    </tr>\n",
       "  </thead>\n",
       "  <tbody>\n",
       "    <tr>\n",
       "      <th>94</th>\n",
       "      <td>2017-03-04</td>\n",
       "      <td>LAS PALMAS DE GRAN CANARIA, SAN CRISTOBAL</td>\n",
       "      <td>17.2</td>\n",
       "      <td>0.1</td>\n",
       "      <td>15.2</td>\n",
       "      <td>19.1</td>\n",
       "      <td>1</td>\n",
       "    </tr>\n",
       "    <tr>\n",
       "      <th>95</th>\n",
       "      <td>2017-03-05</td>\n",
       "      <td>LAS PALMAS DE GRAN CANARIA, SAN CRISTOBAL</td>\n",
       "      <td>NaN</td>\n",
       "      <td>0.0</td>\n",
       "      <td>NaN</td>\n",
       "      <td>NaN</td>\n",
       "      <td>1</td>\n",
       "    </tr>\n",
       "    <tr>\n",
       "      <th>96</th>\n",
       "      <td>2017-03-06</td>\n",
       "      <td>LAS PALMAS DE GRAN CANARIA, SAN CRISTOBAL</td>\n",
       "      <td>18.0</td>\n",
       "      <td>0.0</td>\n",
       "      <td>16.8</td>\n",
       "      <td>19.1</td>\n",
       "      <td>1</td>\n",
       "    </tr>\n",
       "    <tr>\n",
       "      <th>97</th>\n",
       "      <td>2017-03-07</td>\n",
       "      <td>LAS PALMAS DE GRAN CANARIA, SAN CRISTOBAL</td>\n",
       "      <td>18.3</td>\n",
       "      <td>0.0</td>\n",
       "      <td>16.4</td>\n",
       "      <td>20.2</td>\n",
       "      <td>1</td>\n",
       "    </tr>\n",
       "    <tr>\n",
       "      <th>98</th>\n",
       "      <td>2017-03-08</td>\n",
       "      <td>LAS PALMAS DE GRAN CANARIA, SAN CRISTOBAL</td>\n",
       "      <td>21.6</td>\n",
       "      <td>0.0</td>\n",
       "      <td>15.5</td>\n",
       "      <td>27.6</td>\n",
       "      <td>1</td>\n",
       "    </tr>\n",
       "    <tr>\n",
       "      <th>99</th>\n",
       "      <td>2017-03-09</td>\n",
       "      <td>LAS PALMAS DE GRAN CANARIA, SAN CRISTOBAL</td>\n",
       "      <td>20.4</td>\n",
       "      <td>0.0</td>\n",
       "      <td>14.0</td>\n",
       "      <td>26.7</td>\n",
       "      <td>1</td>\n",
       "    </tr>\n",
       "  </tbody>\n",
       "</table>\n",
       "</div>"
      ],
      "text/plain": [
       "         fecha                                     nombre  tmed  prec  tmin  \\\n",
       "94  2017-03-04  LAS PALMAS DE GRAN CANARIA, SAN CRISTOBAL  17.2   0.1  15.2   \n",
       "95  2017-03-05  LAS PALMAS DE GRAN CANARIA, SAN CRISTOBAL   NaN   0.0   NaN   \n",
       "96  2017-03-06  LAS PALMAS DE GRAN CANARIA, SAN CRISTOBAL  18.0   0.0  16.8   \n",
       "97  2017-03-07  LAS PALMAS DE GRAN CANARIA, SAN CRISTOBAL  18.3   0.0  16.4   \n",
       "98  2017-03-08  LAS PALMAS DE GRAN CANARIA, SAN CRISTOBAL  21.6   0.0  15.5   \n",
       "99  2017-03-09  LAS PALMAS DE GRAN CANARIA, SAN CRISTOBAL  20.4   0.0  14.0   \n",
       "\n",
       "    tmax  puerto  \n",
       "94  19.1       1  \n",
       "95   NaN       1  \n",
       "96  19.1       1  \n",
       "97  20.2       1  \n",
       "98  27.6       1  \n",
       "99  26.7       1  "
      ]
     },
     "execution_count": 25,
     "metadata": {},
     "output_type": "execute_result"
    }
   ],
   "source": [
    "LP.iloc[94:100]"
   ]
  },
  {
   "cell_type": "code",
   "execution_count": 26,
   "metadata": {},
   "outputs": [
    {
     "data": {
      "text/html": [
       "<div>\n",
       "<style scoped>\n",
       "    .dataframe tbody tr th:only-of-type {\n",
       "        vertical-align: middle;\n",
       "    }\n",
       "\n",
       "    .dataframe tbody tr th {\n",
       "        vertical-align: top;\n",
       "    }\n",
       "\n",
       "    .dataframe thead th {\n",
       "        text-align: right;\n",
       "    }\n",
       "</style>\n",
       "<table border=\"1\" class=\"dataframe\">\n",
       "  <thead>\n",
       "    <tr style=\"text-align: right;\">\n",
       "      <th></th>\n",
       "      <th>fecha</th>\n",
       "      <th>nombre</th>\n",
       "      <th>tmed</th>\n",
       "      <th>prec</th>\n",
       "      <th>tmin</th>\n",
       "      <th>tmax</th>\n",
       "      <th>puerto</th>\n",
       "    </tr>\n",
       "  </thead>\n",
       "  <tbody>\n",
       "    <tr>\n",
       "      <th>94</th>\n",
       "      <td>2017-03-04</td>\n",
       "      <td>LAS PALMAS DE GRAN CANARIA, SAN CRISTOBAL</td>\n",
       "      <td>17.2</td>\n",
       "      <td>0.1</td>\n",
       "      <td>15.2</td>\n",
       "      <td>19.1</td>\n",
       "      <td>1</td>\n",
       "    </tr>\n",
       "    <tr>\n",
       "      <th>95</th>\n",
       "      <td>2017-03-05</td>\n",
       "      <td>LAS PALMAS DE GRAN CANARIA, SAN CRISTOBAL</td>\n",
       "      <td>17.6</td>\n",
       "      <td>0.0</td>\n",
       "      <td>16.0</td>\n",
       "      <td>19.1</td>\n",
       "      <td>1</td>\n",
       "    </tr>\n",
       "    <tr>\n",
       "      <th>96</th>\n",
       "      <td>2017-03-06</td>\n",
       "      <td>LAS PALMAS DE GRAN CANARIA, SAN CRISTOBAL</td>\n",
       "      <td>18.0</td>\n",
       "      <td>0.0</td>\n",
       "      <td>16.8</td>\n",
       "      <td>19.1</td>\n",
       "      <td>1</td>\n",
       "    </tr>\n",
       "    <tr>\n",
       "      <th>97</th>\n",
       "      <td>2017-03-07</td>\n",
       "      <td>LAS PALMAS DE GRAN CANARIA, SAN CRISTOBAL</td>\n",
       "      <td>18.3</td>\n",
       "      <td>0.0</td>\n",
       "      <td>16.4</td>\n",
       "      <td>20.2</td>\n",
       "      <td>1</td>\n",
       "    </tr>\n",
       "    <tr>\n",
       "      <th>98</th>\n",
       "      <td>2017-03-08</td>\n",
       "      <td>LAS PALMAS DE GRAN CANARIA, SAN CRISTOBAL</td>\n",
       "      <td>21.6</td>\n",
       "      <td>0.0</td>\n",
       "      <td>15.5</td>\n",
       "      <td>27.6</td>\n",
       "      <td>1</td>\n",
       "    </tr>\n",
       "    <tr>\n",
       "      <th>99</th>\n",
       "      <td>2017-03-09</td>\n",
       "      <td>LAS PALMAS DE GRAN CANARIA, SAN CRISTOBAL</td>\n",
       "      <td>20.4</td>\n",
       "      <td>0.0</td>\n",
       "      <td>14.0</td>\n",
       "      <td>26.7</td>\n",
       "      <td>1</td>\n",
       "    </tr>\n",
       "  </tbody>\n",
       "</table>\n",
       "</div>"
      ],
      "text/plain": [
       "         fecha                                     nombre  tmed  prec  tmin  \\\n",
       "94  2017-03-04  LAS PALMAS DE GRAN CANARIA, SAN CRISTOBAL  17.2   0.1  15.2   \n",
       "95  2017-03-05  LAS PALMAS DE GRAN CANARIA, SAN CRISTOBAL  17.6   0.0  16.0   \n",
       "96  2017-03-06  LAS PALMAS DE GRAN CANARIA, SAN CRISTOBAL  18.0   0.0  16.8   \n",
       "97  2017-03-07  LAS PALMAS DE GRAN CANARIA, SAN CRISTOBAL  18.3   0.0  16.4   \n",
       "98  2017-03-08  LAS PALMAS DE GRAN CANARIA, SAN CRISTOBAL  21.6   0.0  15.5   \n",
       "99  2017-03-09  LAS PALMAS DE GRAN CANARIA, SAN CRISTOBAL  20.4   0.0  14.0   \n",
       "\n",
       "    tmax  puerto  \n",
       "94  19.1       1  \n",
       "95  19.1       1  \n",
       "96  19.1       1  \n",
       "97  20.2       1  \n",
       "98  27.6       1  \n",
       "99  26.7       1  "
      ]
     },
     "execution_count": 26,
     "metadata": {},
     "output_type": "execute_result"
    }
   ],
   "source": [
    "LP= LP.interpolate(method ='linear', limit_direction ='forward') \n",
    "LP.iloc[94:100]"
   ]
  },
  {
   "cell_type": "code",
   "execution_count": 27,
   "metadata": {},
   "outputs": [
    {
     "name": "stdout",
     "output_type": "stream",
     "text": [
      "fecha     0\n",
      "nombre    0\n",
      "tmed      0\n",
      "prec      0\n",
      "tmin      0\n",
      "tmax      0\n",
      "puerto    0\n",
      "dtype: int64\n"
     ]
    }
   ],
   "source": [
    "print(LP.isnull().sum())"
   ]
  },
  {
   "cell_type": "code",
   "execution_count": 28,
   "metadata": {},
   "outputs": [
    {
     "data": {
      "text/plain": [
       "fecha      object\n",
       "nombre     object\n",
       "tmed      float64\n",
       "prec      float64\n",
       "tmin      float64\n",
       "tmax      float64\n",
       "puerto      int64\n",
       "dtype: object"
      ]
     },
     "execution_count": 28,
     "metadata": {},
     "output_type": "execute_result"
    }
   ],
   "source": [
    "LP.dtypes"
   ]
  },
  {
   "cell_type": "code",
   "execution_count": 29,
   "metadata": {},
   "outputs": [],
   "source": [
    "VAL['tmed'] = VAL['tmed'].apply(lambda e: e.replace(',','.') if type(e)== str else e)\n",
    "VAL['prec'] = VAL['prec'].apply(lambda e: e.replace(',','.') if type(e)== str else e)\n",
    "VAL['tmin'] = VAL['tmin'].apply(lambda e: e.replace(',','.') if type(e)== str else e)\n",
    "VAL['tmax'] = VAL['tmax'].apply(lambda e: e.replace(',','.') if type(e)== str else e)"
   ]
  },
  {
   "cell_type": "code",
   "execution_count": 30,
   "metadata": {},
   "outputs": [
    {
     "name": "stdout",
     "output_type": "stream",
     "text": [
      "           fecha    nombre  tmed prec tmin  tmax  puerto\n",
      "1103  2019-12-08  VALÈNCIA  13.1  NaN  8.1  18.1       2\n"
     ]
    }
   ],
   "source": [
    "print(VAL[VAL[\"prec\"].isnull()])"
   ]
  },
  {
   "cell_type": "code",
   "execution_count": 31,
   "metadata": {},
   "outputs": [
    {
     "name": "stdout",
     "output_type": "stream",
     "text": [
      "<class 'pandas.core.frame.DataFrame'>\n",
      "RangeIndex: 1104 entries, 0 to 1103\n",
      "Data columns (total 7 columns):\n",
      "fecha     1104 non-null object\n",
      "nombre    1104 non-null object\n",
      "tmed      1104 non-null float64\n",
      "prec      1081 non-null float64\n",
      "tmin      1104 non-null float64\n",
      "tmax      1104 non-null float64\n",
      "puerto    1104 non-null int64\n",
      "dtypes: float64(4), int64(1), object(2)\n",
      "memory usage: 60.5+ KB\n"
     ]
    }
   ],
   "source": [
    "cols = ['tmed', 'prec', 'tmin', 'tmax']\n",
    "VAL[cols] = VAL[cols].apply(pd.to_numeric, errors='coerce', axis=1)\n",
    "VAL.info()"
   ]
  },
  {
   "cell_type": "code",
   "execution_count": 32,
   "metadata": {},
   "outputs": [
    {
     "data": {
      "text/plain": [
       "<pandas.core.indexing._iLocIndexer at 0x11aad2710>"
      ]
     },
     "execution_count": 32,
     "metadata": {},
     "output_type": "execute_result"
    }
   ],
   "source": [
    "VAL= VAL.interpolate(method ='linear', limit_direction ='forward') \n",
    "VAL.iloc"
   ]
  },
  {
   "cell_type": "code",
   "execution_count": 35,
   "metadata": {},
   "outputs": [
    {
     "name": "stdout",
     "output_type": "stream",
     "text": [
      "fecha     2019-12-08\n",
      "nombre      VALÈNCIA\n",
      "tmed            13.1\n",
      "prec               0\n",
      "tmin             8.1\n",
      "tmax            18.1\n",
      "puerto             2\n",
      "Name: 1103, dtype: object\n"
     ]
    }
   ],
   "source": [
    "print(VAL.iloc[1103])"
   ]
  },
  {
   "cell_type": "code",
   "execution_count": 36,
   "metadata": {},
   "outputs": [
    {
     "name": "stdout",
     "output_type": "stream",
     "text": [
      "<class 'pandas.core.frame.DataFrame'>\n",
      "RangeIndex: 1104 entries, 0 to 1103\n",
      "Data columns (total 7 columns):\n",
      "fecha     1104 non-null object\n",
      "nombre    1104 non-null object\n",
      "tmed      1104 non-null float64\n",
      "prec      1104 non-null float64\n",
      "tmin      1104 non-null float64\n",
      "tmax      1104 non-null float64\n",
      "puerto    1104 non-null int64\n",
      "dtypes: float64(4), int64(1), object(2)\n",
      "memory usage: 60.5+ KB\n"
     ]
    }
   ],
   "source": [
    "VAL.info()"
   ]
  },
  {
   "cell_type": "code",
   "execution_count": 37,
   "metadata": {},
   "outputs": [
    {
     "data": {
      "text/html": [
       "<div>\n",
       "<style scoped>\n",
       "    .dataframe tbody tr th:only-of-type {\n",
       "        vertical-align: middle;\n",
       "    }\n",
       "\n",
       "    .dataframe tbody tr th {\n",
       "        vertical-align: top;\n",
       "    }\n",
       "\n",
       "    .dataframe thead th {\n",
       "        text-align: right;\n",
       "    }\n",
       "</style>\n",
       "<table border=\"1\" class=\"dataframe\">\n",
       "  <thead>\n",
       "    <tr style=\"text-align: right;\">\n",
       "      <th></th>\n",
       "      <th>fecha</th>\n",
       "      <th>nombre</th>\n",
       "      <th>tmed</th>\n",
       "      <th>prec</th>\n",
       "      <th>tmin</th>\n",
       "      <th>tmax</th>\n",
       "      <th>puerto</th>\n",
       "    </tr>\n",
       "  </thead>\n",
       "  <tbody>\n",
       "    <tr>\n",
       "      <th>1094</th>\n",
       "      <td>2019-11-29</td>\n",
       "      <td>VALÈNCIA</td>\n",
       "      <td>19.3</td>\n",
       "      <td>0.0</td>\n",
       "      <td>15.8</td>\n",
       "      <td>22.8</td>\n",
       "      <td>2</td>\n",
       "    </tr>\n",
       "    <tr>\n",
       "      <th>1095</th>\n",
       "      <td>2019-11-30</td>\n",
       "      <td>VALÈNCIA</td>\n",
       "      <td>17.6</td>\n",
       "      <td>0.0</td>\n",
       "      <td>12.0</td>\n",
       "      <td>23.3</td>\n",
       "      <td>2</td>\n",
       "    </tr>\n",
       "    <tr>\n",
       "      <th>1096</th>\n",
       "      <td>2019-12-01</td>\n",
       "      <td>VALÈNCIA</td>\n",
       "      <td>16.1</td>\n",
       "      <td>0.0</td>\n",
       "      <td>11.8</td>\n",
       "      <td>20.4</td>\n",
       "      <td>2</td>\n",
       "    </tr>\n",
       "    <tr>\n",
       "      <th>1097</th>\n",
       "      <td>2019-12-02</td>\n",
       "      <td>VALÈNCIA</td>\n",
       "      <td>13.4</td>\n",
       "      <td>23.1</td>\n",
       "      <td>12.5</td>\n",
       "      <td>14.4</td>\n",
       "      <td>2</td>\n",
       "    </tr>\n",
       "    <tr>\n",
       "      <th>1098</th>\n",
       "      <td>2019-12-03</td>\n",
       "      <td>VALÈNCIA</td>\n",
       "      <td>11.7</td>\n",
       "      <td>19.4</td>\n",
       "      <td>10.7</td>\n",
       "      <td>12.7</td>\n",
       "      <td>2</td>\n",
       "    </tr>\n",
       "    <tr>\n",
       "      <th>1099</th>\n",
       "      <td>2019-12-04</td>\n",
       "      <td>VALÈNCIA</td>\n",
       "      <td>12.6</td>\n",
       "      <td>29.3</td>\n",
       "      <td>10.5</td>\n",
       "      <td>14.7</td>\n",
       "      <td>2</td>\n",
       "    </tr>\n",
       "    <tr>\n",
       "      <th>1100</th>\n",
       "      <td>2019-12-05</td>\n",
       "      <td>VALÈNCIA</td>\n",
       "      <td>12.8</td>\n",
       "      <td>15.2</td>\n",
       "      <td>11.0</td>\n",
       "      <td>14.5</td>\n",
       "      <td>2</td>\n",
       "    </tr>\n",
       "    <tr>\n",
       "      <th>1101</th>\n",
       "      <td>2019-12-06</td>\n",
       "      <td>VALÈNCIA</td>\n",
       "      <td>13.4</td>\n",
       "      <td>0.0</td>\n",
       "      <td>11.7</td>\n",
       "      <td>15.1</td>\n",
       "      <td>2</td>\n",
       "    </tr>\n",
       "    <tr>\n",
       "      <th>1102</th>\n",
       "      <td>2019-12-07</td>\n",
       "      <td>VALÈNCIA</td>\n",
       "      <td>13.4</td>\n",
       "      <td>0.0</td>\n",
       "      <td>8.5</td>\n",
       "      <td>18.4</td>\n",
       "      <td>2</td>\n",
       "    </tr>\n",
       "    <tr>\n",
       "      <th>1103</th>\n",
       "      <td>2019-12-08</td>\n",
       "      <td>VALÈNCIA</td>\n",
       "      <td>13.1</td>\n",
       "      <td>0.0</td>\n",
       "      <td>8.1</td>\n",
       "      <td>18.1</td>\n",
       "      <td>2</td>\n",
       "    </tr>\n",
       "  </tbody>\n",
       "</table>\n",
       "</div>"
      ],
      "text/plain": [
       "           fecha    nombre  tmed  prec  tmin  tmax  puerto\n",
       "1094  2019-11-29  VALÈNCIA  19.3   0.0  15.8  22.8       2\n",
       "1095  2019-11-30  VALÈNCIA  17.6   0.0  12.0  23.3       2\n",
       "1096  2019-12-01  VALÈNCIA  16.1   0.0  11.8  20.4       2\n",
       "1097  2019-12-02  VALÈNCIA  13.4  23.1  12.5  14.4       2\n",
       "1098  2019-12-03  VALÈNCIA  11.7  19.4  10.7  12.7       2\n",
       "1099  2019-12-04  VALÈNCIA  12.6  29.3  10.5  14.7       2\n",
       "1100  2019-12-05  VALÈNCIA  12.8  15.2  11.0  14.5       2\n",
       "1101  2019-12-06  VALÈNCIA  13.4   0.0  11.7  15.1       2\n",
       "1102  2019-12-07  VALÈNCIA  13.4   0.0   8.5  18.4       2\n",
       "1103  2019-12-08  VALÈNCIA  13.1   0.0   8.1  18.1       2"
      ]
     },
     "execution_count": 37,
     "metadata": {},
     "output_type": "execute_result"
    }
   ],
   "source": [
    "VAL.tail(10)"
   ]
  },
  {
   "cell_type": "code",
   "execution_count": null,
   "metadata": {},
   "outputs": [],
   "source": []
  }
 ],
 "metadata": {
  "kernelspec": {
   "display_name": "Python 3",
   "language": "python",
   "name": "python3"
  },
  "language_info": {
   "codemirror_mode": {
    "name": "ipython",
    "version": 3
   },
   "file_extension": ".py",
   "mimetype": "text/x-python",
   "name": "python",
   "nbconvert_exporter": "python",
   "pygments_lexer": "ipython3",
   "version": "3.7.5"
  }
 },
 "nbformat": 4,
 "nbformat_minor": 2
}
