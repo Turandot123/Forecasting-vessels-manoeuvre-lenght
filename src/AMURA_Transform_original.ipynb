{
 "cells": [
  {
   "cell_type": "code",
   "execution_count": 1,
   "metadata": {},
   "outputs": [],
   "source": [
    "# transform csv coming from original excel"
   ]
  },
  {
   "cell_type": "code",
   "execution_count": 2,
   "metadata": {},
   "outputs": [],
   "source": [
    "import pandas as pd\n",
    "import datetime"
   ]
  },
  {
   "cell_type": "code",
   "execution_count": 3,
   "metadata": {},
   "outputs": [
    {
     "name": "stderr",
     "output_type": "stream",
     "text": [
      "/usr/local/lib/python3.7/site-packages/IPython/core/interactiveshell.py:3051: DtypeWarning: Columns (0,24,38) have mixed types. Specify dtype option on import or set low_memory=False.\n",
      "  interactivity=interactivity, compiler=compiler, result=result)\n"
     ]
    }
   ],
   "source": [
    "LP_buque=pd.read_csv(\"../input/DATOS_BD_LAS_PALMAS_BUQUE.csv\")\n",
    "LP_buque_exe=pd.read_csv(\"../input/DATOS_BD_LAS_PALMAS_BUQUE_EXENTO.csv\")\n",
    "LP_movimiento=pd.read_csv(\"../input/DATOS_BD_LAS_PALMAS_MOVIMIENTO.csv\")\n",
    "LP_sentido=pd.read_csv(\"../input/DATOS_BD_LAS_PALMAS_SENTIDO.csv\")\n"
   ]
  },
  {
   "cell_type": "code",
   "execution_count": 4,
   "metadata": {},
   "outputs": [
    {
     "data": {
      "text/html": [
       "<div>\n",
       "<style scoped>\n",
       "    .dataframe tbody tr th:only-of-type {\n",
       "        vertical-align: middle;\n",
       "    }\n",
       "\n",
       "    .dataframe tbody tr th {\n",
       "        vertical-align: top;\n",
       "    }\n",
       "\n",
       "    .dataframe thead th {\n",
       "        text-align: right;\n",
       "    }\n",
       "</style>\n",
       "<table border=\"1\" class=\"dataframe\">\n",
       "  <thead>\n",
       "    <tr style=\"text-align: right;\">\n",
       "      <th></th>\n",
       "      <th>BuqueExentoId</th>\n",
       "      <th>BuqueId</th>\n",
       "      <th>Capitan</th>\n",
       "      <th>FechaDesde</th>\n",
       "      <th>FechaHasta</th>\n",
       "    </tr>\n",
       "  </thead>\n",
       "  <tbody>\n",
       "    <tr>\n",
       "      <th>0</th>\n",
       "      <td>17</td>\n",
       "      <td>439</td>\n",
       "      <td>Capitán Spabunker</td>\n",
       "      <td>2017-02-01 00:00:00.000</td>\n",
       "      <td>2027-06-02 00:00:00.000</td>\n",
       "    </tr>\n",
       "    <tr>\n",
       "      <th>1</th>\n",
       "      <td>18</td>\n",
       "      <td>258</td>\n",
       "      <td>Juan Carlos Pérez Suárez</td>\n",
       "      <td>2017-02-15 00:00:00.000</td>\n",
       "      <td>2019-02-20 00:00:00.000</td>\n",
       "    </tr>\n",
       "    <tr>\n",
       "      <th>2</th>\n",
       "      <td>19</td>\n",
       "      <td>263</td>\n",
       "      <td>JUAN CARLOS PEREZ SUAREZ</td>\n",
       "      <td>2017-02-15 00:00:00.000</td>\n",
       "      <td>2019-02-20 00:00:00.000</td>\n",
       "    </tr>\n",
       "    <tr>\n",
       "      <th>3</th>\n",
       "      <td>20</td>\n",
       "      <td>258</td>\n",
       "      <td>Marco Antonio Badía Bodornau</td>\n",
       "      <td>2017-02-15 00:00:00.000</td>\n",
       "      <td>2019-02-20 00:00:00.000</td>\n",
       "    </tr>\n",
       "    <tr>\n",
       "      <th>4</th>\n",
       "      <td>21</td>\n",
       "      <td>263</td>\n",
       "      <td>Marco Antonio Badía Bodornau</td>\n",
       "      <td>2017-02-15 00:00:00.000</td>\n",
       "      <td>2019-02-20 00:00:00.000</td>\n",
       "    </tr>\n",
       "  </tbody>\n",
       "</table>\n",
       "</div>"
      ],
      "text/plain": [
       "   BuqueExentoId  BuqueId                       Capitan  \\\n",
       "0             17      439             Capitán Spabunker   \n",
       "1             18      258      Juan Carlos Pérez Suárez   \n",
       "2             19      263      JUAN CARLOS PEREZ SUAREZ   \n",
       "3             20      258  Marco Antonio Badía Bodornau   \n",
       "4             21      263  Marco Antonio Badía Bodornau   \n",
       "\n",
       "                FechaDesde               FechaHasta  \n",
       "0  2017-02-01 00:00:00.000  2027-06-02 00:00:00.000  \n",
       "1  2017-02-15 00:00:00.000  2019-02-20 00:00:00.000  \n",
       "2  2017-02-15 00:00:00.000  2019-02-20 00:00:00.000  \n",
       "3  2017-02-15 00:00:00.000  2019-02-20 00:00:00.000  \n",
       "4  2017-02-15 00:00:00.000  2019-02-20 00:00:00.000  "
      ]
     },
     "execution_count": 4,
     "metadata": {},
     "output_type": "execute_result"
    }
   ],
   "source": [
    "LP_buque_exe.head()"
   ]
  },
  {
   "cell_type": "code",
   "execution_count": 5,
   "metadata": {},
   "outputs": [
    {
     "data": {
      "text/plain": [
       "Index(['BuqueExentoId', 'BuqueId', 'Capitan', 'FechaDesde', 'FechaHasta'], dtype='object')"
      ]
     },
     "execution_count": 5,
     "metadata": {},
     "output_type": "execute_result"
    }
   ],
   "source": [
    "LP_buque_exe.columns"
   ]
  },
  {
   "cell_type": "code",
   "execution_count": 6,
   "metadata": {},
   "outputs": [],
   "source": [
    "LP_buque_exe= LP_buque_exe.drop(['Capitan','FechaDesde', 'FechaHasta'], axis=1)"
   ]
  },
  {
   "cell_type": "code",
   "execution_count": 7,
   "metadata": {},
   "outputs": [
    {
     "data": {
      "text/plain": [
       "Index(['BuqueExentoId', 'BuqueId'], dtype='object')"
      ]
     },
     "execution_count": 7,
     "metadata": {},
     "output_type": "execute_result"
    }
   ],
   "source": [
    "LP_buque_exe.columns"
   ]
  },
  {
   "cell_type": "code",
   "execution_count": 8,
   "metadata": {},
   "outputs": [
    {
     "data": {
      "text/html": [
       "<div>\n",
       "<style scoped>\n",
       "    .dataframe tbody tr th:only-of-type {\n",
       "        vertical-align: middle;\n",
       "    }\n",
       "\n",
       "    .dataframe tbody tr th {\n",
       "        vertical-align: top;\n",
       "    }\n",
       "\n",
       "    .dataframe thead th {\n",
       "        text-align: right;\n",
       "    }\n",
       "</style>\n",
       "<table border=\"1\" class=\"dataframe\">\n",
       "  <thead>\n",
       "    <tr style=\"text-align: right;\">\n",
       "      <th></th>\n",
       "      <th>MovimientoId</th>\n",
       "      <th>ServicioEspecial</th>\n",
       "      <th>FechaPeticion</th>\n",
       "      <th>HoraPeticion</th>\n",
       "      <th>FechaServicio</th>\n",
       "      <th>HoraServicio</th>\n",
       "      <th>VientoDireccionId</th>\n",
       "      <th>VientoVelocidad</th>\n",
       "      <th>SentidoId</th>\n",
       "      <th>BuqueId</th>\n",
       "      <th>...</th>\n",
       "      <th>NumeroFondeo</th>\n",
       "      <th>GastosAdministrativosPorcentaje</th>\n",
       "      <th>GastosAdministrativosFijo</th>\n",
       "      <th>ImporteGastosAdministrativos</th>\n",
       "      <th>TipoCambio</th>\n",
       "      <th>ImporteTasas</th>\n",
       "      <th>ImporteDisponibilidadPractico</th>\n",
       "      <th>ImportePermanenciaPractico</th>\n",
       "      <th>ImporteDisponibilidadPracticoGA</th>\n",
       "      <th>ImportePermanenciaPracticoGA</th>\n",
       "    </tr>\n",
       "  </thead>\n",
       "  <tbody>\n",
       "    <tr>\n",
       "      <th>0</th>\n",
       "      <td>807</td>\n",
       "      <td>0.0</td>\n",
       "      <td>2017-03-15 00:00:00.000</td>\n",
       "      <td>2017-03-15 17:30:00.000</td>\n",
       "      <td>2017-03-14 00:00:00.000</td>\n",
       "      <td>2017-03-14 18:10:00.000</td>\n",
       "      <td>1.0</td>\n",
       "      <td>15.0</td>\n",
       "      <td>1.0</td>\n",
       "      <td>259.0</td>\n",
       "      <td>...</td>\n",
       "      <td>NaN</td>\n",
       "      <td>NaN</td>\n",
       "      <td>NaN</td>\n",
       "      <td>NaN</td>\n",
       "      <td>NaN</td>\n",
       "      <td>NaN</td>\n",
       "      <td>0.0</td>\n",
       "      <td>0.0</td>\n",
       "      <td>0.0</td>\n",
       "      <td>0.0</td>\n",
       "    </tr>\n",
       "    <tr>\n",
       "      <th>1</th>\n",
       "      <td>808</td>\n",
       "      <td>0.0</td>\n",
       "      <td>2017-03-14 00:00:00.000</td>\n",
       "      <td>2017-03-14 22:00:00.000</td>\n",
       "      <td>2017-03-14 00:00:00.000</td>\n",
       "      <td>2017-03-14 22:27:00.000</td>\n",
       "      <td>1.0</td>\n",
       "      <td>15.0</td>\n",
       "      <td>1.0</td>\n",
       "      <td>258.0</td>\n",
       "      <td>...</td>\n",
       "      <td>NaN</td>\n",
       "      <td>NaN</td>\n",
       "      <td>NaN</td>\n",
       "      <td>NaN</td>\n",
       "      <td>NaN</td>\n",
       "      <td>NaN</td>\n",
       "      <td>0.0</td>\n",
       "      <td>0.0</td>\n",
       "      <td>0.0</td>\n",
       "      <td>0.0</td>\n",
       "    </tr>\n",
       "    <tr>\n",
       "      <th>2</th>\n",
       "      <td>809</td>\n",
       "      <td>0.0</td>\n",
       "      <td>2017-03-15 00:00:00.000</td>\n",
       "      <td>2017-03-15 07:00:00.000</td>\n",
       "      <td>2017-03-14 00:00:00.000</td>\n",
       "      <td>2017-03-14 22:32:00.000</td>\n",
       "      <td>1.0</td>\n",
       "      <td>15.0</td>\n",
       "      <td>1.0</td>\n",
       "      <td>588.0</td>\n",
       "      <td>...</td>\n",
       "      <td>NaN</td>\n",
       "      <td>NaN</td>\n",
       "      <td>NaN</td>\n",
       "      <td>NaN</td>\n",
       "      <td>NaN</td>\n",
       "      <td>NaN</td>\n",
       "      <td>0.0</td>\n",
       "      <td>0.0</td>\n",
       "      <td>0.0</td>\n",
       "      <td>0.0</td>\n",
       "    </tr>\n",
       "    <tr>\n",
       "      <th>3</th>\n",
       "      <td>810</td>\n",
       "      <td>0.0</td>\n",
       "      <td>2017-03-14 00:00:00.000</td>\n",
       "      <td>2017-03-14 18:30:00.000</td>\n",
       "      <td>2017-03-14 00:00:00.000</td>\n",
       "      <td>2017-03-14 18:40:00.000</td>\n",
       "      <td>1.0</td>\n",
       "      <td>15.0</td>\n",
       "      <td>1.0</td>\n",
       "      <td>263.0</td>\n",
       "      <td>...</td>\n",
       "      <td>NaN</td>\n",
       "      <td>NaN</td>\n",
       "      <td>NaN</td>\n",
       "      <td>NaN</td>\n",
       "      <td>NaN</td>\n",
       "      <td>NaN</td>\n",
       "      <td>0.0</td>\n",
       "      <td>0.0</td>\n",
       "      <td>0.0</td>\n",
       "      <td>0.0</td>\n",
       "    </tr>\n",
       "    <tr>\n",
       "      <th>4</th>\n",
       "      <td>811</td>\n",
       "      <td>0.0</td>\n",
       "      <td>2017-03-14 00:00:00.000</td>\n",
       "      <td>2017-03-14 20:00:00.000</td>\n",
       "      <td>2017-03-14 00:00:00.000</td>\n",
       "      <td>2017-03-14 20:25:00.000</td>\n",
       "      <td>1.0</td>\n",
       "      <td>15.0</td>\n",
       "      <td>1.0</td>\n",
       "      <td>587.0</td>\n",
       "      <td>...</td>\n",
       "      <td>NaN</td>\n",
       "      <td>NaN</td>\n",
       "      <td>NaN</td>\n",
       "      <td>NaN</td>\n",
       "      <td>NaN</td>\n",
       "      <td>NaN</td>\n",
       "      <td>0.0</td>\n",
       "      <td>0.0</td>\n",
       "      <td>0.0</td>\n",
       "      <td>0.0</td>\n",
       "    </tr>\n",
       "  </tbody>\n",
       "</table>\n",
       "<p>5 rows × 55 columns</p>\n",
       "</div>"
      ],
      "text/plain": [
       "  MovimientoId  ServicioEspecial            FechaPeticion  \\\n",
       "0          807               0.0  2017-03-15 00:00:00.000   \n",
       "1          808               0.0  2017-03-14 00:00:00.000   \n",
       "2          809               0.0  2017-03-15 00:00:00.000   \n",
       "3          810               0.0  2017-03-14 00:00:00.000   \n",
       "4          811               0.0  2017-03-14 00:00:00.000   \n",
       "\n",
       "              HoraPeticion            FechaServicio             HoraServicio  \\\n",
       "0  2017-03-15 17:30:00.000  2017-03-14 00:00:00.000  2017-03-14 18:10:00.000   \n",
       "1  2017-03-14 22:00:00.000  2017-03-14 00:00:00.000  2017-03-14 22:27:00.000   \n",
       "2  2017-03-15 07:00:00.000  2017-03-14 00:00:00.000  2017-03-14 22:32:00.000   \n",
       "3  2017-03-14 18:30:00.000  2017-03-14 00:00:00.000  2017-03-14 18:40:00.000   \n",
       "4  2017-03-14 20:00:00.000  2017-03-14 00:00:00.000  2017-03-14 20:25:00.000   \n",
       "\n",
       "   VientoDireccionId  VientoVelocidad  SentidoId  BuqueId  ...  NumeroFondeo  \\\n",
       "0                1.0             15.0        1.0    259.0  ...           NaN   \n",
       "1                1.0             15.0        1.0    258.0  ...           NaN   \n",
       "2                1.0             15.0        1.0    588.0  ...           NaN   \n",
       "3                1.0             15.0        1.0    263.0  ...           NaN   \n",
       "4                1.0             15.0        1.0    587.0  ...           NaN   \n",
       "\n",
       "   GastosAdministrativosPorcentaje  GastosAdministrativosFijo  \\\n",
       "0                              NaN                        NaN   \n",
       "1                              NaN                        NaN   \n",
       "2                              NaN                        NaN   \n",
       "3                              NaN                        NaN   \n",
       "4                              NaN                        NaN   \n",
       "\n",
       "   ImporteGastosAdministrativos  TipoCambio  ImporteTasas  \\\n",
       "0                           NaN         NaN           NaN   \n",
       "1                           NaN         NaN           NaN   \n",
       "2                           NaN         NaN           NaN   \n",
       "3                           NaN         NaN           NaN   \n",
       "4                           NaN         NaN           NaN   \n",
       "\n",
       "   ImporteDisponibilidadPractico  ImportePermanenciaPractico  \\\n",
       "0                            0.0                         0.0   \n",
       "1                            0.0                         0.0   \n",
       "2                            0.0                         0.0   \n",
       "3                            0.0                         0.0   \n",
       "4                            0.0                         0.0   \n",
       "\n",
       "   ImporteDisponibilidadPracticoGA ImportePermanenciaPracticoGA  \n",
       "0                              0.0                          0.0  \n",
       "1                              0.0                          0.0  \n",
       "2                              0.0                          0.0  \n",
       "3                              0.0                          0.0  \n",
       "4                              0.0                          0.0  \n",
       "\n",
       "[5 rows x 55 columns]"
      ]
     },
     "execution_count": 8,
     "metadata": {},
     "output_type": "execute_result"
    }
   ],
   "source": [
    "LP_movimiento.head()"
   ]
  },
  {
   "cell_type": "code",
   "execution_count": 9,
   "metadata": {},
   "outputs": [
    {
     "data": {
      "text/plain": [
       "Index(['MovimientoId', 'ServicioEspecial', 'FechaPeticion', 'HoraPeticion',\n",
       "       'FechaServicio', 'HoraServicio', 'VientoDireccionId', 'VientoVelocidad',\n",
       "       'SentidoId', 'BuqueId', 'BuqueExentoId', 'GT', 'CaladoProa',\n",
       "       'CaladoPopa', 'NorayOrigen1Id', 'NorayOrigen2Id', 'TipoAtraqueOrigenId',\n",
       "       'NorayDestino1Id', 'NorayDestino2Id', 'TipoAtraqueDestinoId',\n",
       "       'NumeroRemolcadores', 'ConsignatarioId', 'ObservacionesFacturacion',\n",
       "       'ObservacionesPractico', 'ObservacionesCapitan', 'RecargoId',\n",
       "       'ArchivoFirmaCapitan', 'Importe', 'Validado', 'FacturaId', 'Finalizado',\n",
       "       'NavieraId', 'Escala', 'TipoOperacionId', 'Bonificaciones',\n",
       "       'ImporteBonificaciones', 'RemolcadoresSolicitados', 'DemoraId',\n",
       "       'MotivoDemora', 'ImporteBase', 'NumeroAtraque', 'NumeroAtraqueDestino',\n",
       "       'FechaFinalizacion', 'HoraFinalizacion', 'ExentoAmarres',\n",
       "       'NumeroFondeo', 'GastosAdministrativosPorcentaje',\n",
       "       'GastosAdministrativosFijo', 'ImporteGastosAdministrativos',\n",
       "       'TipoCambio', 'ImporteTasas', 'ImporteDisponibilidadPractico',\n",
       "       'ImportePermanenciaPractico', 'ImporteDisponibilidadPracticoGA',\n",
       "       'ImportePermanenciaPracticoGA'],\n",
       "      dtype='object')"
      ]
     },
     "execution_count": 9,
     "metadata": {},
     "output_type": "execute_result"
    }
   ],
   "source": [
    "LP_movimiento.columns"
   ]
  },
  {
   "cell_type": "code",
   "execution_count": 10,
   "metadata": {},
   "outputs": [],
   "source": [
    "\n",
    "LP_movimiento= LP_movimiento.drop(['ServicioEspecial','VientoDireccionId', 'GT','CaladoProa',\n",
    "       'CaladoPopa', 'NorayOrigen1Id', 'NorayOrigen2Id', 'TipoAtraqueOrigenId',\n",
    "       'NorayDestino1Id', 'NorayDestino2Id', 'TipoAtraqueDestinoId',\n",
    "       'NumeroRemolcadores', 'ConsignatarioId', 'ObservacionesFacturacion',\n",
    "       'ObservacionesPractico', 'ObservacionesCapitan', 'RecargoId',\n",
    "       'ArchivoFirmaCapitan', 'Importe', 'Validado', 'FacturaId', 'Finalizado',\n",
    "       'NavieraId', 'TipoOperacionId', 'Bonificaciones',\n",
    "       'ImporteBonificaciones', 'RemolcadoresSolicitados', \n",
    "       'MotivoDemora', 'ImporteBase', 'NumeroAtraque', 'NumeroAtraqueDestino', 'ExentoAmarres',\n",
    "       'NumeroFondeo', 'GastosAdministrativosPorcentaje',\n",
    "       'GastosAdministrativosFijo', 'ImporteGastosAdministrativos',\n",
    "       'TipoCambio', 'ImporteTasas', 'ImporteDisponibilidadPractico',\n",
    "       'ImportePermanenciaPractico', 'ImporteDisponibilidadPracticoGA',\n",
    "       'ImportePermanenciaPracticoGA'], axis=1)"
   ]
  },
  {
   "cell_type": "code",
   "execution_count": 11,
   "metadata": {},
   "outputs": [
    {
     "data": {
      "text/plain": [
       "Index(['MovimientoId', 'FechaPeticion', 'HoraPeticion', 'FechaServicio',\n",
       "       'HoraServicio', 'VientoVelocidad', 'SentidoId', 'BuqueId',\n",
       "       'BuqueExentoId', 'Escala', 'DemoraId', 'FechaFinalizacion',\n",
       "       'HoraFinalizacion'],\n",
       "      dtype='object')"
      ]
     },
     "execution_count": 11,
     "metadata": {},
     "output_type": "execute_result"
    }
   ],
   "source": [
    "LP_movimiento.columns"
   ]
  },
  {
   "cell_type": "code",
   "execution_count": 12,
   "metadata": {},
   "outputs": [
    {
     "data": {
      "text/html": [
       "<div>\n",
       "<style scoped>\n",
       "    .dataframe tbody tr th:only-of-type {\n",
       "        vertical-align: middle;\n",
       "    }\n",
       "\n",
       "    .dataframe tbody tr th {\n",
       "        vertical-align: top;\n",
       "    }\n",
       "\n",
       "    .dataframe thead th {\n",
       "        text-align: right;\n",
       "    }\n",
       "</style>\n",
       "<table border=\"1\" class=\"dataframe\">\n",
       "  <thead>\n",
       "    <tr style=\"text-align: right;\">\n",
       "      <th></th>\n",
       "      <th>MovimientoId</th>\n",
       "      <th>FechaPeticion</th>\n",
       "      <th>HoraPeticion</th>\n",
       "      <th>FechaServicio</th>\n",
       "      <th>HoraServicio</th>\n",
       "      <th>VientoVelocidad</th>\n",
       "      <th>SentidoId</th>\n",
       "      <th>BuqueId</th>\n",
       "      <th>BuqueExentoId</th>\n",
       "      <th>Escala</th>\n",
       "      <th>DemoraId</th>\n",
       "      <th>FechaFinalizacion</th>\n",
       "      <th>HoraFinalizacion</th>\n",
       "    </tr>\n",
       "  </thead>\n",
       "  <tbody>\n",
       "    <tr>\n",
       "      <th>0</th>\n",
       "      <td>807</td>\n",
       "      <td>2017-03-15 00:00:00.000</td>\n",
       "      <td>2017-03-15 17:30:00.000</td>\n",
       "      <td>2017-03-14 00:00:00.000</td>\n",
       "      <td>2017-03-14 18:10:00.000</td>\n",
       "      <td>15.0</td>\n",
       "      <td>1.0</td>\n",
       "      <td>259.0</td>\n",
       "      <td>NaN</td>\n",
       "      <td>201701994.0</td>\n",
       "      <td>NaN</td>\n",
       "      <td>2017-03-14 00:00:00.000</td>\n",
       "      <td>2017-03-20 18:25:00.000</td>\n",
       "    </tr>\n",
       "    <tr>\n",
       "      <th>1</th>\n",
       "      <td>808</td>\n",
       "      <td>2017-03-14 00:00:00.000</td>\n",
       "      <td>2017-03-14 22:00:00.000</td>\n",
       "      <td>2017-03-14 00:00:00.000</td>\n",
       "      <td>2017-03-14 22:27:00.000</td>\n",
       "      <td>15.0</td>\n",
       "      <td>1.0</td>\n",
       "      <td>258.0</td>\n",
       "      <td>18.0</td>\n",
       "      <td>201701963.0</td>\n",
       "      <td>NaN</td>\n",
       "      <td>2017-03-15 00:00:00.000</td>\n",
       "      <td>2017-03-21 00:11:00.000</td>\n",
       "    </tr>\n",
       "    <tr>\n",
       "      <th>2</th>\n",
       "      <td>809</td>\n",
       "      <td>2017-03-15 00:00:00.000</td>\n",
       "      <td>2017-03-15 07:00:00.000</td>\n",
       "      <td>2017-03-14 00:00:00.000</td>\n",
       "      <td>2017-03-14 22:32:00.000</td>\n",
       "      <td>15.0</td>\n",
       "      <td>1.0</td>\n",
       "      <td>588.0</td>\n",
       "      <td>NaN</td>\n",
       "      <td>201702035.0</td>\n",
       "      <td>NaN</td>\n",
       "      <td>2017-03-14 00:00:00.000</td>\n",
       "      <td>2017-03-15 23:26:00.000</td>\n",
       "    </tr>\n",
       "    <tr>\n",
       "      <th>3</th>\n",
       "      <td>810</td>\n",
       "      <td>2017-03-14 00:00:00.000</td>\n",
       "      <td>2017-03-14 18:30:00.000</td>\n",
       "      <td>2017-03-14 00:00:00.000</td>\n",
       "      <td>2017-03-14 18:40:00.000</td>\n",
       "      <td>15.0</td>\n",
       "      <td>1.0</td>\n",
       "      <td>263.0</td>\n",
       "      <td>NaN</td>\n",
       "      <td>201701959.0</td>\n",
       "      <td>NaN</td>\n",
       "      <td>2017-03-14 00:00:00.000</td>\n",
       "      <td>2017-03-20 18:50:00.000</td>\n",
       "    </tr>\n",
       "    <tr>\n",
       "      <th>4</th>\n",
       "      <td>811</td>\n",
       "      <td>2017-03-14 00:00:00.000</td>\n",
       "      <td>2017-03-14 20:00:00.000</td>\n",
       "      <td>2017-03-14 00:00:00.000</td>\n",
       "      <td>2017-03-14 20:25:00.000</td>\n",
       "      <td>15.0</td>\n",
       "      <td>1.0</td>\n",
       "      <td>587.0</td>\n",
       "      <td>NaN</td>\n",
       "      <td>201701911.0</td>\n",
       "      <td>NaN</td>\n",
       "      <td>2017-03-14 00:00:00.000</td>\n",
       "      <td>2017-03-14 21:10:00.000</td>\n",
       "    </tr>\n",
       "  </tbody>\n",
       "</table>\n",
       "</div>"
      ],
      "text/plain": [
       "  MovimientoId            FechaPeticion             HoraPeticion  \\\n",
       "0          807  2017-03-15 00:00:00.000  2017-03-15 17:30:00.000   \n",
       "1          808  2017-03-14 00:00:00.000  2017-03-14 22:00:00.000   \n",
       "2          809  2017-03-15 00:00:00.000  2017-03-15 07:00:00.000   \n",
       "3          810  2017-03-14 00:00:00.000  2017-03-14 18:30:00.000   \n",
       "4          811  2017-03-14 00:00:00.000  2017-03-14 20:00:00.000   \n",
       "\n",
       "             FechaServicio             HoraServicio  VientoVelocidad  \\\n",
       "0  2017-03-14 00:00:00.000  2017-03-14 18:10:00.000             15.0   \n",
       "1  2017-03-14 00:00:00.000  2017-03-14 22:27:00.000             15.0   \n",
       "2  2017-03-14 00:00:00.000  2017-03-14 22:32:00.000             15.0   \n",
       "3  2017-03-14 00:00:00.000  2017-03-14 18:40:00.000             15.0   \n",
       "4  2017-03-14 00:00:00.000  2017-03-14 20:25:00.000             15.0   \n",
       "\n",
       "   SentidoId  BuqueId  BuqueExentoId       Escala  DemoraId  \\\n",
       "0        1.0    259.0            NaN  201701994.0       NaN   \n",
       "1        1.0    258.0           18.0  201701963.0       NaN   \n",
       "2        1.0    588.0            NaN  201702035.0       NaN   \n",
       "3        1.0    263.0            NaN  201701959.0       NaN   \n",
       "4        1.0    587.0            NaN  201701911.0       NaN   \n",
       "\n",
       "         FechaFinalizacion         HoraFinalizacion  \n",
       "0  2017-03-14 00:00:00.000  2017-03-20 18:25:00.000  \n",
       "1  2017-03-15 00:00:00.000  2017-03-21 00:11:00.000  \n",
       "2  2017-03-14 00:00:00.000  2017-03-15 23:26:00.000  \n",
       "3  2017-03-14 00:00:00.000  2017-03-20 18:50:00.000  \n",
       "4  2017-03-14 00:00:00.000  2017-03-14 21:10:00.000  "
      ]
     },
     "execution_count": 12,
     "metadata": {},
     "output_type": "execute_result"
    }
   ],
   "source": [
    "LP_movimiento.head()"
   ]
  },
  {
   "cell_type": "code",
   "execution_count": 13,
   "metadata": {},
   "outputs": [
    {
     "data": {
      "text/html": [
       "<div>\n",
       "<style scoped>\n",
       "    .dataframe tbody tr th:only-of-type {\n",
       "        vertical-align: middle;\n",
       "    }\n",
       "\n",
       "    .dataframe tbody tr th {\n",
       "        vertical-align: top;\n",
       "    }\n",
       "\n",
       "    .dataframe thead th {\n",
       "        text-align: right;\n",
       "    }\n",
       "</style>\n",
       "<table border=\"1\" class=\"dataframe\">\n",
       "  <thead>\n",
       "    <tr style=\"text-align: right;\">\n",
       "      <th></th>\n",
       "      <th>SentidoId</th>\n",
       "      <th>Nombre</th>\n",
       "      <th>Codigo</th>\n",
       "      <th>EsManiobra</th>\n",
       "      <th>NombreIngles</th>\n",
       "      <th>FactorManiobra</th>\n",
       "      <th>AplicaDescuento</th>\n",
       "    </tr>\n",
       "  </thead>\n",
       "  <tbody>\n",
       "    <tr>\n",
       "      <th>0</th>\n",
       "      <td>1</td>\n",
       "      <td>Entrada</td>\n",
       "      <td>E</td>\n",
       "      <td>0</td>\n",
       "      <td>Arrival</td>\n",
       "      <td>0.0</td>\n",
       "      <td>0</td>\n",
       "    </tr>\n",
       "    <tr>\n",
       "      <th>1</th>\n",
       "      <td>2</td>\n",
       "      <td>Movimiento interior</td>\n",
       "      <td>M</td>\n",
       "      <td>0</td>\n",
       "      <td>Inner Shifting</td>\n",
       "      <td>0.0</td>\n",
       "      <td>0</td>\n",
       "    </tr>\n",
       "    <tr>\n",
       "      <th>2</th>\n",
       "      <td>3</td>\n",
       "      <td>Salida</td>\n",
       "      <td>S</td>\n",
       "      <td>0</td>\n",
       "      <td>Departure</td>\n",
       "      <td>0.0</td>\n",
       "      <td>0</td>\n",
       "    </tr>\n",
       "  </tbody>\n",
       "</table>\n",
       "</div>"
      ],
      "text/plain": [
       "   SentidoId               Nombre Codigo  EsManiobra    NombreIngles  \\\n",
       "0          1              Entrada      E           0         Arrival   \n",
       "1          2  Movimiento interior      M           0  Inner Shifting   \n",
       "2          3               Salida      S           0       Departure   \n",
       "\n",
       "   FactorManiobra  AplicaDescuento  \n",
       "0             0.0                0  \n",
       "1             0.0                0  \n",
       "2             0.0                0  "
      ]
     },
     "execution_count": 13,
     "metadata": {},
     "output_type": "execute_result"
    }
   ],
   "source": [
    "LP_sentido.head()"
   ]
  },
  {
   "cell_type": "code",
   "execution_count": 14,
   "metadata": {},
   "outputs": [
    {
     "data": {
      "text/plain": [
       "Index(['SentidoId', 'Nombre', 'Codigo', 'EsManiobra', 'NombreIngles',\n",
       "       'FactorManiobra', 'AplicaDescuento'],\n",
       "      dtype='object')"
      ]
     },
     "execution_count": 14,
     "metadata": {},
     "output_type": "execute_result"
    }
   ],
   "source": [
    "LP_sentido.columns\n"
   ]
  },
  {
   "cell_type": "code",
   "execution_count": 15,
   "metadata": {},
   "outputs": [],
   "source": [
    "LP_sentido= LP_sentido.drop(['Codigo', 'EsManiobra', 'NombreIngles',\n",
    "       'FactorManiobra', 'AplicaDescuento'], axis=1)"
   ]
  },
  {
   "cell_type": "code",
   "execution_count": 16,
   "metadata": {},
   "outputs": [
    {
     "data": {
      "text/plain": [
       "Index(['SentidoId', 'Nombre'], dtype='object')"
      ]
     },
     "execution_count": 16,
     "metadata": {},
     "output_type": "execute_result"
    }
   ],
   "source": [
    "LP_sentido.columns"
   ]
  },
  {
   "cell_type": "code",
   "execution_count": 17,
   "metadata": {},
   "outputs": [
    {
     "data": {
      "text/plain": [
       "array(['Entrada', 'Movimiento interior', 'Salida'], dtype=object)"
      ]
     },
     "execution_count": 17,
     "metadata": {},
     "output_type": "execute_result"
    }
   ],
   "source": [
    "LP_sentido.Nombre.unique()"
   ]
  },
  {
   "cell_type": "code",
   "execution_count": 18,
   "metadata": {},
   "outputs": [
    {
     "data": {
      "text/html": [
       "<div>\n",
       "<style scoped>\n",
       "    .dataframe tbody tr th:only-of-type {\n",
       "        vertical-align: middle;\n",
       "    }\n",
       "\n",
       "    .dataframe tbody tr th {\n",
       "        vertical-align: top;\n",
       "    }\n",
       "\n",
       "    .dataframe thead th {\n",
       "        text-align: right;\n",
       "    }\n",
       "</style>\n",
       "<table border=\"1\" class=\"dataframe\">\n",
       "  <thead>\n",
       "    <tr style=\"text-align: right;\">\n",
       "      <th></th>\n",
       "      <th>BuqueId</th>\n",
       "      <th>Nombre</th>\n",
       "      <th>IMO</th>\n",
       "      <th>MMSI</th>\n",
       "      <th>DistintivoLLamada</th>\n",
       "      <th>NacionalidadId</th>\n",
       "      <th>TipoImpuestoId</th>\n",
       "      <th>Descuento</th>\n",
       "      <th>TipoBuqueId</th>\n",
       "      <th>ConsignatarioId</th>\n",
       "      <th>...</th>\n",
       "      <th>FechaAlta</th>\n",
       "      <th>FechaActualizacion</th>\n",
       "      <th>Velocidad</th>\n",
       "      <th>RemolcadoresRecomendados</th>\n",
       "      <th>TarifaEspecifica</th>\n",
       "      <th>NumeroTimones</th>\n",
       "      <th>AnguloMaximoTimon</th>\n",
       "      <th>SuperficieVelica</th>\n",
       "      <th>PuertoMatriculaId</th>\n",
       "      <th>TipoPropulsionId</th>\n",
       "    </tr>\n",
       "  </thead>\n",
       "  <tbody>\n",
       "    <tr>\n",
       "      <th>0</th>\n",
       "      <td>249</td>\n",
       "      <td>FORTUNY</td>\n",
       "      <td>9216585</td>\n",
       "      <td>NaN</td>\n",
       "      <td>EBTO</td>\n",
       "      <td>209.0</td>\n",
       "      <td>1.0</td>\n",
       "      <td>0.0</td>\n",
       "      <td>43.0</td>\n",
       "      <td>97.0</td>\n",
       "      <td>...</td>\n",
       "      <td>2016-12-26 12:14:23.587</td>\n",
       "      <td>NaN</td>\n",
       "      <td>NaN</td>\n",
       "      <td>0.0</td>\n",
       "      <td>0.0</td>\n",
       "      <td>NaN</td>\n",
       "      <td>0.0</td>\n",
       "      <td>0.0</td>\n",
       "      <td>NaN</td>\n",
       "      <td>NaN</td>\n",
       "    </tr>\n",
       "    <tr>\n",
       "      <th>1</th>\n",
       "      <td>250</td>\n",
       "      <td>AIDAPRIMA</td>\n",
       "      <td>9636955</td>\n",
       "      <td>NaN</td>\n",
       "      <td>IBGU</td>\n",
       "      <td>110.0</td>\n",
       "      <td>1.0</td>\n",
       "      <td>0.0</td>\n",
       "      <td>95.0</td>\n",
       "      <td>97.0</td>\n",
       "      <td>...</td>\n",
       "      <td>2016-12-26 12:14:33.000</td>\n",
       "      <td>2018-04-20 21:05:30.147</td>\n",
       "      <td>21.4</td>\n",
       "      <td>0.0</td>\n",
       "      <td>0.0</td>\n",
       "      <td>NaN</td>\n",
       "      <td>0.0</td>\n",
       "      <td>0.0</td>\n",
       "      <td>NaN</td>\n",
       "      <td>NaN</td>\n",
       "    </tr>\n",
       "    <tr>\n",
       "      <th>2</th>\n",
       "      <td>252</td>\n",
       "      <td>VERONA</td>\n",
       "      <td>9190858</td>\n",
       "      <td>NaN</td>\n",
       "      <td>LARI7</td>\n",
       "      <td>166.0</td>\n",
       "      <td>1.0</td>\n",
       "      <td>0.0</td>\n",
       "      <td>94.0</td>\n",
       "      <td>100.0</td>\n",
       "      <td>...</td>\n",
       "      <td>2016-12-26 12:17:30.443</td>\n",
       "      <td>2018-10-04 09:42:14.537</td>\n",
       "      <td>0.0</td>\n",
       "      <td>0.0</td>\n",
       "      <td>0.0</td>\n",
       "      <td>NaN</td>\n",
       "      <td>0.0</td>\n",
       "      <td>0.0</td>\n",
       "      <td>NaN</td>\n",
       "      <td>NaN</td>\n",
       "    </tr>\n",
       "    <tr>\n",
       "      <th>3</th>\n",
       "      <td>253</td>\n",
       "      <td>VOLCAN DEL TEIDE</td>\n",
       "      <td>9506289</td>\n",
       "      <td>NaN</td>\n",
       "      <td>EAIE</td>\n",
       "      <td>209.0</td>\n",
       "      <td>1.0</td>\n",
       "      <td>30.0</td>\n",
       "      <td>84.0</td>\n",
       "      <td>105.0</td>\n",
       "      <td>...</td>\n",
       "      <td>2016-12-27 13:20:43.000</td>\n",
       "      <td>2019-09-27 16:54:04.710</td>\n",
       "      <td>0.0</td>\n",
       "      <td>0.0</td>\n",
       "      <td>0.0</td>\n",
       "      <td>NaN</td>\n",
       "      <td>0.0</td>\n",
       "      <td>0.0</td>\n",
       "      <td>NaN</td>\n",
       "      <td>NaN</td>\n",
       "    </tr>\n",
       "    <tr>\n",
       "      <th>4</th>\n",
       "      <td>254</td>\n",
       "      <td>CIUDAD DE CADIZ</td>\n",
       "      <td>9304631</td>\n",
       "      <td>NaN</td>\n",
       "      <td>5BLJ4</td>\n",
       "      <td>59.0</td>\n",
       "      <td>1.0</td>\n",
       "      <td>0.0</td>\n",
       "      <td>84.0</td>\n",
       "      <td>145.0</td>\n",
       "      <td>...</td>\n",
       "      <td>2016-12-27 15:23:48.000</td>\n",
       "      <td>2019-06-07 13:32:24.117</td>\n",
       "      <td>22.0</td>\n",
       "      <td>0.0</td>\n",
       "      <td>0.0</td>\n",
       "      <td>NaN</td>\n",
       "      <td>0.0</td>\n",
       "      <td>0.0</td>\n",
       "      <td>NaN</td>\n",
       "      <td>NaN</td>\n",
       "    </tr>\n",
       "  </tbody>\n",
       "</table>\n",
       "<p>5 rows × 42 columns</p>\n",
       "</div>"
      ],
      "text/plain": [
       "  BuqueId            Nombre      IMO MMSI DistintivoLLamada  NacionalidadId  \\\n",
       "0     249           FORTUNY  9216585  NaN              EBTO           209.0   \n",
       "1     250         AIDAPRIMA  9636955  NaN              IBGU           110.0   \n",
       "2     252            VERONA  9190858  NaN             LARI7           166.0   \n",
       "3     253  VOLCAN DEL TEIDE  9506289  NaN              EAIE           209.0   \n",
       "4     254   CIUDAD DE CADIZ  9304631  NaN             5BLJ4            59.0   \n",
       "\n",
       "   TipoImpuestoId  Descuento  TipoBuqueId  ConsignatarioId  ...  \\\n",
       "0             1.0        0.0         43.0             97.0  ...   \n",
       "1             1.0        0.0         95.0             97.0  ...   \n",
       "2             1.0        0.0         94.0            100.0  ...   \n",
       "3             1.0       30.0         84.0            105.0  ...   \n",
       "4             1.0        0.0         84.0            145.0  ...   \n",
       "\n",
       "                 FechaAlta       FechaActualizacion  Velocidad  \\\n",
       "0  2016-12-26 12:14:23.587                      NaN        NaN   \n",
       "1  2016-12-26 12:14:33.000  2018-04-20 21:05:30.147       21.4   \n",
       "2  2016-12-26 12:17:30.443  2018-10-04 09:42:14.537        0.0   \n",
       "3  2016-12-27 13:20:43.000  2019-09-27 16:54:04.710        0.0   \n",
       "4  2016-12-27 15:23:48.000  2019-06-07 13:32:24.117       22.0   \n",
       "\n",
       "   RemolcadoresRecomendados  TarifaEspecifica  NumeroTimones  \\\n",
       "0                       0.0               0.0            NaN   \n",
       "1                       0.0               0.0            NaN   \n",
       "2                       0.0               0.0            NaN   \n",
       "3                       0.0               0.0            NaN   \n",
       "4                       0.0               0.0            NaN   \n",
       "\n",
       "   AnguloMaximoTimon  SuperficieVelica  PuertoMatriculaId  TipoPropulsionId  \n",
       "0                0.0               0.0                NaN               NaN  \n",
       "1                0.0               0.0                NaN               NaN  \n",
       "2                0.0               0.0                NaN               NaN  \n",
       "3                0.0               0.0                NaN               NaN  \n",
       "4                0.0               0.0                NaN               NaN  \n",
       "\n",
       "[5 rows x 42 columns]"
      ]
     },
     "execution_count": 18,
     "metadata": {},
     "output_type": "execute_result"
    }
   ],
   "source": [
    "LP_buque.head()"
   ]
  },
  {
   "cell_type": "code",
   "execution_count": 19,
   "metadata": {},
   "outputs": [
    {
     "data": {
      "text/plain": [
       "Index(['BuqueId', 'Nombre', 'IMO', 'MMSI', 'DistintivoLLamada',\n",
       "       'NacionalidadId', 'TipoImpuestoId', 'Descuento', 'TipoBuqueId',\n",
       "       'ConsignatarioId', 'NavieraId', 'GT', 'Eslora', 'Manga', 'Guinda',\n",
       "       'Puntal', 'CaladoVerano', 'PropulsorProaNumero',\n",
       "       'PropulsorProaPotencia', 'PropulsorPopaNumero', 'PropulsorPopaPotencia',\n",
       "       'MotorPrincipalNumero', 'MotorPrincipalPotencia', 'HeliceProaNumero',\n",
       "       'HeliceProaTipoId', 'HeliceProaGiroId', 'EfectoHeliceId', 'TimonId',\n",
       "       'TipoMaquinaId', 'Construccion', 'Observaciones',\n",
       "       'ObservacionesSeguridad', 'FechaAlta', 'FechaActualizacion',\n",
       "       'Velocidad', 'RemolcadoresRecomendados', 'TarifaEspecifica',\n",
       "       'NumeroTimones', 'AnguloMaximoTimon', 'SuperficieVelica',\n",
       "       'PuertoMatriculaId', 'TipoPropulsionId'],\n",
       "      dtype='object')"
      ]
     },
     "execution_count": 19,
     "metadata": {},
     "output_type": "execute_result"
    }
   ],
   "source": [
    "LP_buque.columns"
   ]
  },
  {
   "cell_type": "code",
   "execution_count": 20,
   "metadata": {},
   "outputs": [],
   "source": [
    "LP_buque= LP_buque.drop(['MMSI', 'DistintivoLLamada',\n",
    "       'TipoImpuestoId', 'Descuento',\n",
    "       'ConsignatarioId', 'NavieraId', 'Eslora', 'Manga', 'Guinda',\n",
    "       'Puntal', 'CaladoVerano', 'PropulsorProaNumero',\n",
    "       'PropulsorProaPotencia', 'PropulsorPopaNumero', 'PropulsorPopaPotencia',\n",
    "       'MotorPrincipalNumero', 'MotorPrincipalPotencia', 'HeliceProaNumero',\n",
    "       'HeliceProaTipoId', 'HeliceProaGiroId', 'EfectoHeliceId', 'TimonId',\n",
    "       'TipoMaquinaId', 'Observaciones',\n",
    "       'ObservacionesSeguridad', 'FechaAlta', 'FechaActualizacion',\n",
    "       'Velocidad', 'RemolcadoresRecomendados', 'TarifaEspecifica',\n",
    "       'NumeroTimones', 'AnguloMaximoTimon', 'SuperficieVelica',\n",
    "       'PuertoMatriculaId', 'TipoPropulsionId'], axis=1)"
   ]
  },
  {
   "cell_type": "code",
   "execution_count": 21,
   "metadata": {},
   "outputs": [
    {
     "data": {
      "text/plain": [
       "Index(['BuqueId', 'Nombre', 'IMO', 'NacionalidadId', 'TipoBuqueId', 'GT',\n",
       "       'Construccion'],\n",
       "      dtype='object')"
      ]
     },
     "execution_count": 21,
     "metadata": {},
     "output_type": "execute_result"
    }
   ],
   "source": [
    "LP_buque.columns"
   ]
  },
  {
   "cell_type": "code",
   "execution_count": 22,
   "metadata": {},
   "outputs": [
    {
     "data": {
      "text/plain": [
       "BuqueId            object\n",
       "Nombre             object\n",
       "IMO                object\n",
       "NacionalidadId    float64\n",
       "TipoBuqueId       float64\n",
       "GT                float64\n",
       "Construccion       object\n",
       "dtype: object"
      ]
     },
     "execution_count": 22,
     "metadata": {},
     "output_type": "execute_result"
    }
   ],
   "source": [
    "LP_buque.dtypes"
   ]
  },
  {
   "cell_type": "code",
   "execution_count": 23,
   "metadata": {},
   "outputs": [
    {
     "data": {
      "text/plain": [
       "MovimientoId          object\n",
       "FechaPeticion         object\n",
       "HoraPeticion          object\n",
       "FechaServicio         object\n",
       "HoraServicio          object\n",
       "VientoVelocidad      float64\n",
       "SentidoId            float64\n",
       "BuqueId              float64\n",
       "BuqueExentoId        float64\n",
       "Escala               float64\n",
       "DemoraId             float64\n",
       "FechaFinalizacion     object\n",
       "HoraFinalizacion      object\n",
       "dtype: object"
      ]
     },
     "execution_count": 23,
     "metadata": {},
     "output_type": "execute_result"
    }
   ],
   "source": [
    "LP_movimiento.dtypes"
   ]
  },
  {
   "cell_type": "code",
   "execution_count": 24,
   "metadata": {},
   "outputs": [
    {
     "data": {
      "text/plain": [
       "BuqueExentoId    int64\n",
       "BuqueId          int64\n",
       "dtype: object"
      ]
     },
     "execution_count": 24,
     "metadata": {},
     "output_type": "execute_result"
    }
   ],
   "source": [
    "LP_buque_exe.dtypes"
   ]
  },
  {
   "cell_type": "code",
   "execution_count": 25,
   "metadata": {},
   "outputs": [
    {
     "data": {
      "text/plain": [
       "SentidoId     int64\n",
       "Nombre       object\n",
       "dtype: object"
      ]
     },
     "execution_count": 25,
     "metadata": {},
     "output_type": "execute_result"
    }
   ],
   "source": [
    "\n",
    "LP_sentido.dtypes"
   ]
  },
  {
   "cell_type": "code",
   "execution_count": 26,
   "metadata": {},
   "outputs": [
    {
     "data": {
      "text/plain": [
       "BuqueId            object\n",
       "Nombre             object\n",
       "IMO                object\n",
       "NacionalidadId    float64\n",
       "TipoBuqueId       float64\n",
       "GT                float64\n",
       "Construccion       object\n",
       "dtype: object"
      ]
     },
     "execution_count": 26,
     "metadata": {},
     "output_type": "execute_result"
    }
   ],
   "source": [
    "LP_buque.dtypes"
   ]
  },
  {
   "cell_type": "code",
   "execution_count": 27,
   "metadata": {},
   "outputs": [
    {
     "data": {
      "text/html": [
       "<div>\n",
       "<style scoped>\n",
       "    .dataframe tbody tr th:only-of-type {\n",
       "        vertical-align: middle;\n",
       "    }\n",
       "\n",
       "    .dataframe tbody tr th {\n",
       "        vertical-align: top;\n",
       "    }\n",
       "\n",
       "    .dataframe thead th {\n",
       "        text-align: right;\n",
       "    }\n",
       "</style>\n",
       "<table border=\"1\" class=\"dataframe\">\n",
       "  <thead>\n",
       "    <tr style=\"text-align: right;\">\n",
       "      <th></th>\n",
       "      <th>BuqueId</th>\n",
       "      <th>Nombre</th>\n",
       "      <th>IMO</th>\n",
       "      <th>NacionalidadId</th>\n",
       "      <th>TipoBuqueId</th>\n",
       "      <th>GT</th>\n",
       "      <th>Construccion</th>\n",
       "    </tr>\n",
       "  </thead>\n",
       "  <tbody>\n",
       "    <tr>\n",
       "      <th>0</th>\n",
       "      <td>249</td>\n",
       "      <td>FORTUNY</td>\n",
       "      <td>9216585</td>\n",
       "      <td>209.0</td>\n",
       "      <td>43.0</td>\n",
       "      <td>26916.0</td>\n",
       "      <td>2001</td>\n",
       "    </tr>\n",
       "    <tr>\n",
       "      <th>1</th>\n",
       "      <td>250</td>\n",
       "      <td>AIDAPRIMA</td>\n",
       "      <td>9636955</td>\n",
       "      <td>110.0</td>\n",
       "      <td>95.0</td>\n",
       "      <td>125572.0</td>\n",
       "      <td>01/01/2015</td>\n",
       "    </tr>\n",
       "    <tr>\n",
       "      <th>2</th>\n",
       "      <td>252</td>\n",
       "      <td>VERONA</td>\n",
       "      <td>9190858</td>\n",
       "      <td>166.0</td>\n",
       "      <td>94.0</td>\n",
       "      <td>37237.0</td>\n",
       "      <td>NaN</td>\n",
       "    </tr>\n",
       "    <tr>\n",
       "      <th>3</th>\n",
       "      <td>253</td>\n",
       "      <td>VOLCAN DEL TEIDE</td>\n",
       "      <td>9506289</td>\n",
       "      <td>209.0</td>\n",
       "      <td>84.0</td>\n",
       "      <td>29514.0</td>\n",
       "      <td>01/01/2010</td>\n",
       "    </tr>\n",
       "    <tr>\n",
       "      <th>4</th>\n",
       "      <td>254</td>\n",
       "      <td>CIUDAD DE CADIZ</td>\n",
       "      <td>9304631</td>\n",
       "      <td>59.0</td>\n",
       "      <td>84.0</td>\n",
       "      <td>26302.0</td>\n",
       "      <td>01/01/2004</td>\n",
       "    </tr>\n",
       "    <tr>\n",
       "      <th>...</th>\n",
       "      <td>...</td>\n",
       "      <td>...</td>\n",
       "      <td>...</td>\n",
       "      <td>...</td>\n",
       "      <td>...</td>\n",
       "      <td>...</td>\n",
       "      <td>...</td>\n",
       "    </tr>\n",
       "    <tr>\n",
       "      <th>6846</th>\n",
       "      <td>8579</td>\n",
       "      <td>OINOUSSIAN STAR</td>\n",
       "      <td>9827578</td>\n",
       "      <td>139.0</td>\n",
       "      <td>69.0</td>\n",
       "      <td>29544.0</td>\n",
       "      <td>01/10/2018</td>\n",
       "    </tr>\n",
       "    <tr>\n",
       "      <th>6847</th>\n",
       "      <td>8580</td>\n",
       "      <td>KING LOONG</td>\n",
       "      <td>9304124</td>\n",
       "      <td>100.0</td>\n",
       "      <td>81.0</td>\n",
       "      <td>40080.0</td>\n",
       "      <td>11/08/2006</td>\n",
       "    </tr>\n",
       "    <tr>\n",
       "      <th>6848</th>\n",
       "      <td>8581</td>\n",
       "      <td>OLYMPIC PEGASUS</td>\n",
       "      <td>9545728</td>\n",
       "      <td>139.0</td>\n",
       "      <td>56.0</td>\n",
       "      <td>32983.0</td>\n",
       "      <td>2011</td>\n",
       "    </tr>\n",
       "    <tr>\n",
       "      <th>6849</th>\n",
       "      <td>8582</td>\n",
       "      <td>GENCO LOIRE</td>\n",
       "      <td>9511820</td>\n",
       "      <td>139.0</td>\n",
       "      <td>81.0</td>\n",
       "      <td>31117.0</td>\n",
       "      <td>01/01/2009</td>\n",
       "    </tr>\n",
       "    <tr>\n",
       "      <th>6850</th>\n",
       "      <td>8583</td>\n",
       "      <td>LORELEI</td>\n",
       "      <td>9314179</td>\n",
       "      <td>139.0</td>\n",
       "      <td>88.0</td>\n",
       "      <td>42531.0</td>\n",
       "      <td>01/01/2007</td>\n",
       "    </tr>\n",
       "  </tbody>\n",
       "</table>\n",
       "<p>6851 rows × 7 columns</p>\n",
       "</div>"
      ],
      "text/plain": [
       "     BuqueId            Nombre      IMO  NacionalidadId  TipoBuqueId  \\\n",
       "0        249           FORTUNY  9216585           209.0         43.0   \n",
       "1        250         AIDAPRIMA  9636955           110.0         95.0   \n",
       "2        252            VERONA  9190858           166.0         94.0   \n",
       "3        253  VOLCAN DEL TEIDE  9506289           209.0         84.0   \n",
       "4        254   CIUDAD DE CADIZ  9304631            59.0         84.0   \n",
       "...      ...               ...      ...             ...          ...   \n",
       "6846    8579   OINOUSSIAN STAR  9827578           139.0         69.0   \n",
       "6847    8580        KING LOONG  9304124           100.0         81.0   \n",
       "6848    8581   OLYMPIC PEGASUS  9545728           139.0         56.0   \n",
       "6849    8582       GENCO LOIRE  9511820           139.0         81.0   \n",
       "6850    8583           LORELEI  9314179           139.0         88.0   \n",
       "\n",
       "            GT Construccion  \n",
       "0      26916.0         2001  \n",
       "1     125572.0   01/01/2015  \n",
       "2      37237.0          NaN  \n",
       "3      29514.0   01/01/2010  \n",
       "4      26302.0   01/01/2004  \n",
       "...        ...          ...  \n",
       "6846   29544.0   01/10/2018  \n",
       "6847   40080.0   11/08/2006  \n",
       "6848   32983.0         2011  \n",
       "6849   31117.0   01/01/2009  \n",
       "6850   42531.0   01/01/2007  \n",
       "\n",
       "[6851 rows x 7 columns]"
      ]
     },
     "execution_count": 27,
     "metadata": {},
     "output_type": "execute_result"
    }
   ],
   "source": [
    "LP_buque"
   ]
  },
  {
   "cell_type": "code",
   "execution_count": 28,
   "metadata": {},
   "outputs": [],
   "source": [
    "# VAL transformations **************************\n",
    "# ******************"
   ]
  },
  {
   "cell_type": "code",
   "execution_count": 29,
   "metadata": {},
   "outputs": [
    {
     "name": "stderr",
     "output_type": "stream",
     "text": [
      "/usr/local/lib/python3.7/site-packages/IPython/core/interactiveshell.py:3051: DtypeWarning: Columns (0,15,22) have mixed types. Specify dtype option on import or set low_memory=False.\n",
      "  interactivity=interactivity, compiler=compiler, result=result)\n"
     ]
    },
    {
     "data": {
      "text/html": [
       "<div>\n",
       "<style scoped>\n",
       "    .dataframe tbody tr th:only-of-type {\n",
       "        vertical-align: middle;\n",
       "    }\n",
       "\n",
       "    .dataframe tbody tr th {\n",
       "        vertical-align: top;\n",
       "    }\n",
       "\n",
       "    .dataframe thead th {\n",
       "        text-align: right;\n",
       "    }\n",
       "</style>\n",
       "<table border=\"1\" class=\"dataframe\">\n",
       "  <thead>\n",
       "    <tr style=\"text-align: right;\">\n",
       "      <th></th>\n",
       "      <th>SentidoId</th>\n",
       "      <th>Nombre</th>\n",
       "      <th>Codigo</th>\n",
       "      <th>EsManiobra</th>\n",
       "      <th>NombreIngles</th>\n",
       "      <th>FactorManiobra</th>\n",
       "      <th>AplicaDescuento</th>\n",
       "    </tr>\n",
       "  </thead>\n",
       "  <tbody>\n",
       "    <tr>\n",
       "      <th>0</th>\n",
       "      <td>1</td>\n",
       "      <td>Entrada</td>\n",
       "      <td>E</td>\n",
       "      <td>0</td>\n",
       "      <td>NaN</td>\n",
       "      <td>0.0</td>\n",
       "      <td>0</td>\n",
       "    </tr>\n",
       "    <tr>\n",
       "      <th>1</th>\n",
       "      <td>2</td>\n",
       "      <td>Movimiento interior</td>\n",
       "      <td>M</td>\n",
       "      <td>0</td>\n",
       "      <td>NaN</td>\n",
       "      <td>0.0</td>\n",
       "      <td>0</td>\n",
       "    </tr>\n",
       "    <tr>\n",
       "      <th>2</th>\n",
       "      <td>3</td>\n",
       "      <td>Salida</td>\n",
       "      <td>S</td>\n",
       "      <td>0</td>\n",
       "      <td>NaN</td>\n",
       "      <td>0.0</td>\n",
       "      <td>0</td>\n",
       "    </tr>\n",
       "    <tr>\n",
       "      <th>3</th>\n",
       "      <td>4</td>\n",
       "      <td>Fondeo</td>\n",
       "      <td>F</td>\n",
       "      <td>0</td>\n",
       "      <td>NaN</td>\n",
       "      <td>0.0</td>\n",
       "      <td>0</td>\n",
       "    </tr>\n",
       "    <tr>\n",
       "      <th>4</th>\n",
       "      <td>7</td>\n",
       "      <td>Salida Fondeo</td>\n",
       "      <td>C</td>\n",
       "      <td>0</td>\n",
       "      <td>NaN</td>\n",
       "      <td>0.0</td>\n",
       "      <td>0</td>\n",
       "    </tr>\n",
       "    <tr>\n",
       "      <th>5</th>\n",
       "      <td>9</td>\n",
       "      <td>Deriva</td>\n",
       "      <td>K</td>\n",
       "      <td>0</td>\n",
       "      <td>NaN</td>\n",
       "      <td>0.0</td>\n",
       "      <td>0</td>\n",
       "    </tr>\n",
       "  </tbody>\n",
       "</table>\n",
       "</div>"
      ],
      "text/plain": [
       "   SentidoId               Nombre Codigo  EsManiobra  NombreIngles  \\\n",
       "0          1              Entrada      E           0           NaN   \n",
       "1          2  Movimiento interior      M           0           NaN   \n",
       "2          3               Salida      S           0           NaN   \n",
       "3          4               Fondeo      F           0           NaN   \n",
       "4          7        Salida Fondeo      C           0           NaN   \n",
       "5          9               Deriva      K           0           NaN   \n",
       "\n",
       "   FactorManiobra  AplicaDescuento  \n",
       "0             0.0                0  \n",
       "1             0.0                0  \n",
       "2             0.0                0  \n",
       "3             0.0                0  \n",
       "4             0.0                0  \n",
       "5             0.0                0  "
      ]
     },
     "execution_count": 29,
     "metadata": {},
     "output_type": "execute_result"
    }
   ],
   "source": [
    "VAL_buque=pd.read_csv(\"../input/DATOS_BD_VALENCIA_BUQUE.csv\")\n",
    "VAL_buque\n",
    "\n",
    "VAL_movimiento=pd.read_csv(\"../input/DATOS_BD_VALENCIA_MOVIMIENTOS.csv\")\n",
    "VAL_movimiento\n",
    "VAL_sentido=pd.read_csv(\"../input/DATOS_BD_VALENCIA_SENTIDO.csv\")\n",
    "VAL_sentido"
   ]
  },
  {
   "cell_type": "code",
   "execution_count": 30,
   "metadata": {},
   "outputs": [
    {
     "data": {
      "text/html": [
       "<div>\n",
       "<style scoped>\n",
       "    .dataframe tbody tr th:only-of-type {\n",
       "        vertical-align: middle;\n",
       "    }\n",
       "\n",
       "    .dataframe tbody tr th {\n",
       "        vertical-align: top;\n",
       "    }\n",
       "\n",
       "    .dataframe thead th {\n",
       "        text-align: right;\n",
       "    }\n",
       "</style>\n",
       "<table border=\"1\" class=\"dataframe\">\n",
       "  <thead>\n",
       "    <tr style=\"text-align: right;\">\n",
       "      <th></th>\n",
       "      <th>BuqueExentoId</th>\n",
       "      <th>BuqueId</th>\n",
       "      <th>Capitan</th>\n",
       "      <th>FechaDesde</th>\n",
       "      <th>FechaHasta</th>\n",
       "    </tr>\n",
       "  </thead>\n",
       "  <tbody>\n",
       "    <tr>\n",
       "      <th>0</th>\n",
       "      <td>3</td>\n",
       "      <td>122</td>\n",
       "      <td>OSCAR MILLARES</td>\n",
       "      <td>2016-04-13 00:00:00.000</td>\n",
       "      <td>2018-04-13 00:00:00.000</td>\n",
       "    </tr>\n",
       "    <tr>\n",
       "      <th>1</th>\n",
       "      <td>4</td>\n",
       "      <td>123</td>\n",
       "      <td>GIUSEPPE TIZZANO</td>\n",
       "      <td>2017-07-15 00:00:00.000</td>\n",
       "      <td>2019-01-19 00:00:00.000</td>\n",
       "    </tr>\n",
       "    <tr>\n",
       "      <th>2</th>\n",
       "      <td>5</td>\n",
       "      <td>123</td>\n",
       "      <td>VICENZO ESPOSITO</td>\n",
       "      <td>2015-12-19 00:00:00.000</td>\n",
       "      <td>2020-12-19 00:00:00.000</td>\n",
       "    </tr>\n",
       "    <tr>\n",
       "      <th>3</th>\n",
       "      <td>6</td>\n",
       "      <td>123</td>\n",
       "      <td>DOMENICO COMISO</td>\n",
       "      <td>2016-09-05 00:00:00.000</td>\n",
       "      <td>2018-09-05 00:00:00.000</td>\n",
       "    </tr>\n",
       "    <tr>\n",
       "      <th>4</th>\n",
       "      <td>7</td>\n",
       "      <td>124</td>\n",
       "      <td>J. CARLOS CANOVAS ROMERO</td>\n",
       "      <td>2016-01-18 00:00:00.000</td>\n",
       "      <td>2020-01-18 00:00:00.000</td>\n",
       "    </tr>\n",
       "  </tbody>\n",
       "</table>\n",
       "</div>"
      ],
      "text/plain": [
       "   BuqueExentoId  BuqueId                   Capitan               FechaDesde  \\\n",
       "0              3      122            OSCAR MILLARES  2016-04-13 00:00:00.000   \n",
       "1              4      123          GIUSEPPE TIZZANO  2017-07-15 00:00:00.000   \n",
       "2              5      123          VICENZO ESPOSITO  2015-12-19 00:00:00.000   \n",
       "3              6      123           DOMENICO COMISO  2016-09-05 00:00:00.000   \n",
       "4              7      124  J. CARLOS CANOVAS ROMERO  2016-01-18 00:00:00.000   \n",
       "\n",
       "                FechaHasta  \n",
       "0  2018-04-13 00:00:00.000  \n",
       "1  2019-01-19 00:00:00.000  \n",
       "2  2020-12-19 00:00:00.000  \n",
       "3  2018-09-05 00:00:00.000  \n",
       "4  2020-01-18 00:00:00.000  "
      ]
     },
     "execution_count": 30,
     "metadata": {},
     "output_type": "execute_result"
    }
   ],
   "source": [
    "VAL_buque_exe=pd.read_csv(\"../input/DATOS_BD_VALENCIA_BUQUE_EXENTO.csv\",encoding = \"ISO-8859-1\")\n",
    "VAL_buque_exe.head()"
   ]
  },
  {
   "cell_type": "code",
   "execution_count": 31,
   "metadata": {},
   "outputs": [],
   "source": [
    "VAL_buque_exe= VAL_buque_exe.drop(['Capitan','FechaDesde', 'FechaHasta'], axis=1)"
   ]
  },
  {
   "cell_type": "code",
   "execution_count": 32,
   "metadata": {},
   "outputs": [],
   "source": [
    "\n",
    "VAL_movimiento= VAL_movimiento.drop(['ServicioEspecial','VientoDireccionId', 'GT','CaladoProa',\n",
    "       'CaladoPopa', 'NorayOrigen1Id', 'NorayOrigen2Id', 'TipoAtraqueOrigenId',\n",
    "       'NorayDestino1Id', 'NorayDestino2Id', 'TipoAtraqueDestinoId',\n",
    "       'NumeroRemolcadores', 'ConsignatarioId', 'ObservacionesFacturacion',\n",
    "       'ObservacionesPractico', 'ObservacionesCapitan', 'RecargoId',\n",
    "       'ArchivoFirmaCapitan', 'Importe', 'Validado', 'FacturaId', 'Finalizado',\n",
    "       'NavieraId', 'TipoOperacionId', 'Bonificaciones',\n",
    "       'ImporteBonificaciones', 'RemolcadoresSolicitados', \n",
    "       'MotivoDemora', 'ImporteBase', 'NumeroAtraque', 'NumeroAtraqueDestino', 'ExentoAmarres',\n",
    "       'NumeroFondeo', 'GastosAdministrativosPorcentaje',\n",
    "       'GastosAdministrativosFijo', 'ImporteGastosAdministrativos',\n",
    "       'TipoCambio', 'ImporteTasas', 'ImporteDisponibilidadPractico',\n",
    "       'ImportePermanenciaPractico', 'ImporteDisponibilidadPracticoGA',\n",
    "       'ImportePermanenciaPracticoGA'], axis=1)"
   ]
  },
  {
   "cell_type": "code",
   "execution_count": 33,
   "metadata": {},
   "outputs": [],
   "source": [
    "VAL_sentido= VAL_sentido.drop(['Codigo', 'EsManiobra', 'NombreIngles',\n",
    "       'FactorManiobra', 'AplicaDescuento'], axis=1)"
   ]
  },
  {
   "cell_type": "code",
   "execution_count": 34,
   "metadata": {},
   "outputs": [],
   "source": [
    "VAL_buque= VAL_buque.drop(['MMSI', 'DistintivoLLamada',\n",
    "       'TipoImpuestoId', 'Descuento',\n",
    "       'ConsignatarioId', 'NavieraId', 'Eslora', 'Manga', 'Guinda',\n",
    "       'Puntal', 'CaladoVerano', 'PropulsorProaNumero',\n",
    "       'PropulsorProaPotencia', 'PropulsorPopaNumero', 'PropulsorPopaPotencia',\n",
    "       'MotorPrincipalNumero', 'MotorPrincipalPotencia', 'HeliceProaNumero',\n",
    "       'HeliceProaTipoId', 'HeliceProaGiroId', 'EfectoHeliceId', 'TimonId',\n",
    "       'TipoMaquinaId', 'Observaciones',\n",
    "       'ObservacionesSeguridad', 'FechaAlta', 'FechaActualizacion',\n",
    "       'Velocidad', 'RemolcadoresRecomendados', 'TarifaEspecifica',\n",
    "       'NumeroTimones', 'AnguloMaximoTimon', 'SuperficieVelica',\n",
    "       'PuertoMatriculaId', 'TipoPropulsionId'], axis=1)"
   ]
  },
  {
   "cell_type": "code",
   "execution_count": 35,
   "metadata": {},
   "outputs": [
    {
     "data": {
      "text/html": [
       "<div>\n",
       "<style scoped>\n",
       "    .dataframe tbody tr th:only-of-type {\n",
       "        vertical-align: middle;\n",
       "    }\n",
       "\n",
       "    .dataframe tbody tr th {\n",
       "        vertical-align: top;\n",
       "    }\n",
       "\n",
       "    .dataframe thead th {\n",
       "        text-align: right;\n",
       "    }\n",
       "</style>\n",
       "<table border=\"1\" class=\"dataframe\">\n",
       "  <thead>\n",
       "    <tr style=\"text-align: right;\">\n",
       "      <th></th>\n",
       "      <th>SentidoId</th>\n",
       "      <th>Nombre</th>\n",
       "    </tr>\n",
       "  </thead>\n",
       "  <tbody>\n",
       "    <tr>\n",
       "      <th>0</th>\n",
       "      <td>1</td>\n",
       "      <td>Entrada</td>\n",
       "    </tr>\n",
       "    <tr>\n",
       "      <th>1</th>\n",
       "      <td>2</td>\n",
       "      <td>Movimiento interior</td>\n",
       "    </tr>\n",
       "    <tr>\n",
       "      <th>2</th>\n",
       "      <td>3</td>\n",
       "      <td>Salida</td>\n",
       "    </tr>\n",
       "    <tr>\n",
       "      <th>3</th>\n",
       "      <td>4</td>\n",
       "      <td>Fondeo</td>\n",
       "    </tr>\n",
       "    <tr>\n",
       "      <th>4</th>\n",
       "      <td>7</td>\n",
       "      <td>Salida Fondeo</td>\n",
       "    </tr>\n",
       "  </tbody>\n",
       "</table>\n",
       "</div>"
      ],
      "text/plain": [
       "   SentidoId               Nombre\n",
       "0          1              Entrada\n",
       "1          2  Movimiento interior\n",
       "2          3               Salida\n",
       "3          4               Fondeo\n",
       "4          7        Salida Fondeo"
      ]
     },
     "execution_count": 35,
     "metadata": {},
     "output_type": "execute_result"
    }
   ],
   "source": [
    "VAL_sentido.head()"
   ]
  },
  {
   "cell_type": "code",
   "execution_count": 36,
   "metadata": {},
   "outputs": [
    {
     "data": {
      "text/html": [
       "<div>\n",
       "<style scoped>\n",
       "    .dataframe tbody tr th:only-of-type {\n",
       "        vertical-align: middle;\n",
       "    }\n",
       "\n",
       "    .dataframe tbody tr th {\n",
       "        vertical-align: top;\n",
       "    }\n",
       "\n",
       "    .dataframe thead th {\n",
       "        text-align: right;\n",
       "    }\n",
       "</style>\n",
       "<table border=\"1\" class=\"dataframe\">\n",
       "  <thead>\n",
       "    <tr style=\"text-align: right;\">\n",
       "      <th></th>\n",
       "      <th>SentidoId</th>\n",
       "      <th>Nombre</th>\n",
       "    </tr>\n",
       "  </thead>\n",
       "  <tbody>\n",
       "    <tr>\n",
       "      <th>0</th>\n",
       "      <td>1</td>\n",
       "      <td>Entrada</td>\n",
       "    </tr>\n",
       "    <tr>\n",
       "      <th>1</th>\n",
       "      <td>2</td>\n",
       "      <td>Movimiento interior</td>\n",
       "    </tr>\n",
       "    <tr>\n",
       "      <th>2</th>\n",
       "      <td>3</td>\n",
       "      <td>Salida</td>\n",
       "    </tr>\n",
       "  </tbody>\n",
       "</table>\n",
       "</div>"
      ],
      "text/plain": [
       "   SentidoId               Nombre\n",
       "0          1              Entrada\n",
       "1          2  Movimiento interior\n",
       "2          3               Salida"
      ]
     },
     "execution_count": 36,
     "metadata": {},
     "output_type": "execute_result"
    }
   ],
   "source": [
    "LP_sentido.head()"
   ]
  },
  {
   "cell_type": "code",
   "execution_count": 37,
   "metadata": {},
   "outputs": [
    {
     "data": {
      "text/html": [
       "<div>\n",
       "<style scoped>\n",
       "    .dataframe tbody tr th:only-of-type {\n",
       "        vertical-align: middle;\n",
       "    }\n",
       "\n",
       "    .dataframe tbody tr th {\n",
       "        vertical-align: top;\n",
       "    }\n",
       "\n",
       "    .dataframe thead th {\n",
       "        text-align: right;\n",
       "    }\n",
       "</style>\n",
       "<table border=\"1\" class=\"dataframe\">\n",
       "  <thead>\n",
       "    <tr style=\"text-align: right;\">\n",
       "      <th></th>\n",
       "      <th>MovimientoId</th>\n",
       "      <th>FechaPeticion</th>\n",
       "      <th>HoraPeticion</th>\n",
       "      <th>FechaServicio</th>\n",
       "      <th>HoraServicio</th>\n",
       "      <th>VientoVelocidad</th>\n",
       "      <th>SentidoId</th>\n",
       "      <th>BuqueId</th>\n",
       "      <th>BuqueExentoId</th>\n",
       "      <th>Escala</th>\n",
       "      <th>DemoraId</th>\n",
       "      <th>FechaFinalizacion</th>\n",
       "      <th>HoraFinalizacion</th>\n",
       "    </tr>\n",
       "  </thead>\n",
       "  <tbody>\n",
       "    <tr>\n",
       "      <th>0</th>\n",
       "      <td>840</td>\n",
       "      <td>2016-11-30 00:00:00.000</td>\n",
       "      <td>2016-11-30 17:26:00.000</td>\n",
       "      <td>2016-11-30 00:00:00.000</td>\n",
       "      <td>2016-11-30 17:26:00.000</td>\n",
       "      <td>25.0</td>\n",
       "      <td>1.0</td>\n",
       "      <td>283.0</td>\n",
       "      <td>NaN</td>\n",
       "      <td>1.201606e+09</td>\n",
       "      <td>NaN</td>\n",
       "      <td>2016-11-30 00:00:00.000</td>\n",
       "      <td>2016-12-30 18:19:00.000</td>\n",
       "    </tr>\n",
       "    <tr>\n",
       "      <th>1</th>\n",
       "      <td>841</td>\n",
       "      <td>2016-11-30 00:00:00.000</td>\n",
       "      <td>2016-11-30 17:51:00.000</td>\n",
       "      <td>2016-11-30 00:00:00.000</td>\n",
       "      <td>2016-11-30 17:55:00.000</td>\n",
       "      <td>25.0</td>\n",
       "      <td>7.0</td>\n",
       "      <td>277.0</td>\n",
       "      <td>NaN</td>\n",
       "      <td>1.201606e+09</td>\n",
       "      <td>NaN</td>\n",
       "      <td>2016-11-30 00:00:00.000</td>\n",
       "      <td>2016-12-30 18:20:00.000</td>\n",
       "    </tr>\n",
       "    <tr>\n",
       "      <th>2</th>\n",
       "      <td>842</td>\n",
       "      <td>2016-11-30 00:00:00.000</td>\n",
       "      <td>2016-11-30 18:45:00.000</td>\n",
       "      <td>2016-11-30 00:00:00.000</td>\n",
       "      <td>2016-11-30 18:28:00.000</td>\n",
       "      <td>5.0</td>\n",
       "      <td>1.0</td>\n",
       "      <td>128.0</td>\n",
       "      <td>NaN</td>\n",
       "      <td>1.201606e+09</td>\n",
       "      <td>NaN</td>\n",
       "      <td>2016-11-30 00:00:00.000</td>\n",
       "      <td>2016-12-30 18:52:00.000</td>\n",
       "    </tr>\n",
       "    <tr>\n",
       "      <th>3</th>\n",
       "      <td>843</td>\n",
       "      <td>2016-11-30 00:00:00.000</td>\n",
       "      <td>2016-11-30 19:30:00.000</td>\n",
       "      <td>2016-11-30 00:00:00.000</td>\n",
       "      <td>2016-11-30 19:04:00.000</td>\n",
       "      <td>5.0</td>\n",
       "      <td>1.0</td>\n",
       "      <td>152.0</td>\n",
       "      <td>NaN</td>\n",
       "      <td>1.201606e+09</td>\n",
       "      <td>NaN</td>\n",
       "      <td>2016-11-30 00:00:00.000</td>\n",
       "      <td>2016-12-30 19:52:00.000</td>\n",
       "    </tr>\n",
       "    <tr>\n",
       "      <th>4</th>\n",
       "      <td>844</td>\n",
       "      <td>2016-11-30 00:00:00.000</td>\n",
       "      <td>2016-11-30 19:00:00.000</td>\n",
       "      <td>2016-11-30 00:00:00.000</td>\n",
       "      <td>2016-11-30 18:31:00.000</td>\n",
       "      <td>5.0</td>\n",
       "      <td>1.0</td>\n",
       "      <td>123.0</td>\n",
       "      <td>6.0</td>\n",
       "      <td>1.201606e+09</td>\n",
       "      <td>NaN</td>\n",
       "      <td>2016-11-30 00:00:00.000</td>\n",
       "      <td>2016-11-30 18:55:00.000</td>\n",
       "    </tr>\n",
       "    <tr>\n",
       "      <th>5</th>\n",
       "      <td>845</td>\n",
       "      <td>2016-11-30 00:00:00.000</td>\n",
       "      <td>2016-11-30 19:45:00.000</td>\n",
       "      <td>2016-11-30 00:00:00.000</td>\n",
       "      <td>2016-11-30 19:18:00.000</td>\n",
       "      <td>5.0</td>\n",
       "      <td>1.0</td>\n",
       "      <td>125.0</td>\n",
       "      <td>10.0</td>\n",
       "      <td>1.201606e+09</td>\n",
       "      <td>NaN</td>\n",
       "      <td>2016-11-30 00:00:00.000</td>\n",
       "      <td>2016-11-30 19:51:00.000</td>\n",
       "    </tr>\n",
       "    <tr>\n",
       "      <th>6</th>\n",
       "      <td>846</td>\n",
       "      <td>2016-11-30 00:00:00.000</td>\n",
       "      <td>2016-11-30 20:23:00.000</td>\n",
       "      <td>2016-11-30 00:00:00.000</td>\n",
       "      <td>2016-11-30 20:23:00.000</td>\n",
       "      <td>5.0</td>\n",
       "      <td>2.0</td>\n",
       "      <td>127.0</td>\n",
       "      <td>13.0</td>\n",
       "      <td>1.201605e+09</td>\n",
       "      <td>NaN</td>\n",
       "      <td>2016-11-30 00:00:00.000</td>\n",
       "      <td>2016-11-30 20:18:00.000</td>\n",
       "    </tr>\n",
       "    <tr>\n",
       "      <th>7</th>\n",
       "      <td>847</td>\n",
       "      <td>2016-11-30 00:00:00.000</td>\n",
       "      <td>2016-11-30 20:20:00.000</td>\n",
       "      <td>2016-11-30 00:00:00.000</td>\n",
       "      <td>2016-11-30 16:42:00.000</td>\n",
       "      <td>5.0</td>\n",
       "      <td>3.0</td>\n",
       "      <td>264.0</td>\n",
       "      <td>NaN</td>\n",
       "      <td>1.201606e+09</td>\n",
       "      <td>NaN</td>\n",
       "      <td>2016-11-30 00:00:00.000</td>\n",
       "      <td>2016-11-30 17:20:00.000</td>\n",
       "    </tr>\n",
       "    <tr>\n",
       "      <th>8</th>\n",
       "      <td>848</td>\n",
       "      <td>2016-11-30 00:00:00.000</td>\n",
       "      <td>2016-11-30 18:24:00.000</td>\n",
       "      <td>2016-11-30 00:00:00.000</td>\n",
       "      <td>2016-11-30 18:41:00.000</td>\n",
       "      <td>10.0</td>\n",
       "      <td>1.0</td>\n",
       "      <td>282.0</td>\n",
       "      <td>NaN</td>\n",
       "      <td>1.201606e+09</td>\n",
       "      <td>NaN</td>\n",
       "      <td>2016-11-30 00:00:00.000</td>\n",
       "      <td>2016-12-30 19:28:00.000</td>\n",
       "    </tr>\n",
       "    <tr>\n",
       "      <th>9</th>\n",
       "      <td>849</td>\n",
       "      <td>2016-11-30 00:00:00.000</td>\n",
       "      <td>2016-11-30 21:10:00.000</td>\n",
       "      <td>2016-11-30 00:00:00.000</td>\n",
       "      <td>2016-11-30 21:32:00.000</td>\n",
       "      <td>10.0</td>\n",
       "      <td>1.0</td>\n",
       "      <td>263.0</td>\n",
       "      <td>NaN</td>\n",
       "      <td>1.201606e+09</td>\n",
       "      <td>NaN</td>\n",
       "      <td>2016-11-30 00:00:00.000</td>\n",
       "      <td>2016-12-01 22:02:00.000</td>\n",
       "    </tr>\n",
       "    <tr>\n",
       "      <th>10</th>\n",
       "      <td>850</td>\n",
       "      <td>2016-11-30 00:00:00.000</td>\n",
       "      <td>2016-11-30 21:32:00.000</td>\n",
       "      <td>2016-11-30 00:00:00.000</td>\n",
       "      <td>2016-11-30 21:52:00.000</td>\n",
       "      <td>10.0</td>\n",
       "      <td>1.0</td>\n",
       "      <td>288.0</td>\n",
       "      <td>NaN</td>\n",
       "      <td>1.201606e+09</td>\n",
       "      <td>NaN</td>\n",
       "      <td>2016-11-30 00:00:00.000</td>\n",
       "      <td>2016-12-30 22:32:00.000</td>\n",
       "    </tr>\n",
       "    <tr>\n",
       "      <th>11</th>\n",
       "      <td>851</td>\n",
       "      <td>2016-11-30 00:00:00.000</td>\n",
       "      <td>2016-11-30 20:20:00.000</td>\n",
       "      <td>2016-11-30 00:00:00.000</td>\n",
       "      <td>2016-11-30 20:20:00.000</td>\n",
       "      <td>10.0</td>\n",
       "      <td>3.0</td>\n",
       "      <td>280.0</td>\n",
       "      <td>NaN</td>\n",
       "      <td>1.201606e+09</td>\n",
       "      <td>NaN</td>\n",
       "      <td>2016-11-30 00:00:00.000</td>\n",
       "      <td>2016-12-30 20:59:00.000</td>\n",
       "    </tr>\n",
       "    <tr>\n",
       "      <th>12</th>\n",
       "      <td>852</td>\n",
       "      <td>2016-11-30 00:00:00.000</td>\n",
       "      <td>2016-11-30 22:30:00.000</td>\n",
       "      <td>2016-11-30 00:00:00.000</td>\n",
       "      <td>2016-11-30 22:30:00.000</td>\n",
       "      <td>9.0</td>\n",
       "      <td>3.0</td>\n",
       "      <td>128.0</td>\n",
       "      <td>NaN</td>\n",
       "      <td>1.201606e+09</td>\n",
       "      <td>NaN</td>\n",
       "      <td>2016-11-30 00:00:00.000</td>\n",
       "      <td>2016-11-30 22:50:00.000</td>\n",
       "    </tr>\n",
       "    <tr>\n",
       "      <th>13</th>\n",
       "      <td>853</td>\n",
       "      <td>2016-11-30 00:00:00.000</td>\n",
       "      <td>2016-11-30 18:00:00.000</td>\n",
       "      <td>2016-11-30 00:00:00.000</td>\n",
       "      <td>2016-11-30 22:56:00.000</td>\n",
       "      <td>15.0</td>\n",
       "      <td>1.0</td>\n",
       "      <td>293.0</td>\n",
       "      <td>NaN</td>\n",
       "      <td>1.201606e+09</td>\n",
       "      <td>NaN</td>\n",
       "      <td>2016-11-30 00:00:00.000</td>\n",
       "      <td>2016-11-30 23:34:00.000</td>\n",
       "    </tr>\n",
       "    <tr>\n",
       "      <th>14</th>\n",
       "      <td>854</td>\n",
       "      <td>2016-11-30 00:00:00.000</td>\n",
       "      <td>2016-11-30 22:20:00.000</td>\n",
       "      <td>2016-11-30 00:00:00.000</td>\n",
       "      <td>2016-11-30 22:20:00.000</td>\n",
       "      <td>15.0</td>\n",
       "      <td>3.0</td>\n",
       "      <td>123.0</td>\n",
       "      <td>6.0</td>\n",
       "      <td>1.201606e+09</td>\n",
       "      <td>NaN</td>\n",
       "      <td>2016-11-30 00:00:00.000</td>\n",
       "      <td>2016-11-30 22:40:00.000</td>\n",
       "    </tr>\n",
       "    <tr>\n",
       "      <th>15</th>\n",
       "      <td>855</td>\n",
       "      <td>2016-11-30 00:00:00.000</td>\n",
       "      <td>2016-11-30 23:22:00.000</td>\n",
       "      <td>2016-11-30 00:00:00.000</td>\n",
       "      <td>2016-11-30 23:22:00.000</td>\n",
       "      <td>10.0</td>\n",
       "      <td>3.0</td>\n",
       "      <td>152.0</td>\n",
       "      <td>NaN</td>\n",
       "      <td>1.201606e+09</td>\n",
       "      <td>NaN</td>\n",
       "      <td>2016-11-30 00:00:00.000</td>\n",
       "      <td>2016-11-30 23:39:00.000</td>\n",
       "    </tr>\n",
       "    <tr>\n",
       "      <th>16</th>\n",
       "      <td>856</td>\n",
       "      <td>2016-11-30 00:00:00.000</td>\n",
       "      <td>2016-11-30 23:37:00.000</td>\n",
       "      <td>2016-11-30 00:00:00.000</td>\n",
       "      <td>2016-11-30 23:37:00.000</td>\n",
       "      <td>15.0</td>\n",
       "      <td>3.0</td>\n",
       "      <td>218.0</td>\n",
       "      <td>NaN</td>\n",
       "      <td>1.201606e+09</td>\n",
       "      <td>22.0</td>\n",
       "      <td>2016-12-01 00:00:00.000</td>\n",
       "      <td>2016-12-30 00:04:00.000</td>\n",
       "    </tr>\n",
       "    <tr>\n",
       "      <th>17</th>\n",
       "      <td>857</td>\n",
       "      <td>2016-11-30 00:00:00.000</td>\n",
       "      <td>2016-11-30 23:59:00.000</td>\n",
       "      <td>2016-12-01 00:00:00.000</td>\n",
       "      <td>2016-12-01 00:20:00.000</td>\n",
       "      <td>5.0</td>\n",
       "      <td>1.0</td>\n",
       "      <td>297.0</td>\n",
       "      <td>NaN</td>\n",
       "      <td>1.201606e+09</td>\n",
       "      <td>NaN</td>\n",
       "      <td>2016-12-01 00:00:00.000</td>\n",
       "      <td>2016-12-15 01:04:00.000</td>\n",
       "    </tr>\n",
       "    <tr>\n",
       "      <th>18</th>\n",
       "      <td>858</td>\n",
       "      <td>2016-12-01 00:00:00.000</td>\n",
       "      <td>2016-12-01 01:05:00.000</td>\n",
       "      <td>2016-12-01 00:00:00.000</td>\n",
       "      <td>2016-12-01 01:05:00.000</td>\n",
       "      <td>14.0</td>\n",
       "      <td>3.0</td>\n",
       "      <td>185.0</td>\n",
       "      <td>NaN</td>\n",
       "      <td>1.201606e+09</td>\n",
       "      <td>NaN</td>\n",
       "      <td>2016-12-01 00:00:00.000</td>\n",
       "      <td>2016-12-01 02:21:00.000</td>\n",
       "    </tr>\n",
       "    <tr>\n",
       "      <th>19</th>\n",
       "      <td>859</td>\n",
       "      <td>2016-11-30 00:00:00.000</td>\n",
       "      <td>2016-11-30 01:00:00.000</td>\n",
       "      <td>2016-12-01 00:00:00.000</td>\n",
       "      <td>2016-12-01 03:17:00.000</td>\n",
       "      <td>13.0</td>\n",
       "      <td>2.0</td>\n",
       "      <td>139.0</td>\n",
       "      <td>NaN</td>\n",
       "      <td>1.201606e+09</td>\n",
       "      <td>NaN</td>\n",
       "      <td>2016-12-01 00:00:00.000</td>\n",
       "      <td>2016-12-30 03:57:00.000</td>\n",
       "    </tr>\n",
       "  </tbody>\n",
       "</table>\n",
       "</div>"
      ],
      "text/plain": [
       "   MovimientoId            FechaPeticion             HoraPeticion  \\\n",
       "0           840  2016-11-30 00:00:00.000  2016-11-30 17:26:00.000   \n",
       "1           841  2016-11-30 00:00:00.000  2016-11-30 17:51:00.000   \n",
       "2           842  2016-11-30 00:00:00.000  2016-11-30 18:45:00.000   \n",
       "3           843  2016-11-30 00:00:00.000  2016-11-30 19:30:00.000   \n",
       "4           844  2016-11-30 00:00:00.000  2016-11-30 19:00:00.000   \n",
       "5           845  2016-11-30 00:00:00.000  2016-11-30 19:45:00.000   \n",
       "6           846  2016-11-30 00:00:00.000  2016-11-30 20:23:00.000   \n",
       "7           847  2016-11-30 00:00:00.000  2016-11-30 20:20:00.000   \n",
       "8           848  2016-11-30 00:00:00.000  2016-11-30 18:24:00.000   \n",
       "9           849  2016-11-30 00:00:00.000  2016-11-30 21:10:00.000   \n",
       "10          850  2016-11-30 00:00:00.000  2016-11-30 21:32:00.000   \n",
       "11          851  2016-11-30 00:00:00.000  2016-11-30 20:20:00.000   \n",
       "12          852  2016-11-30 00:00:00.000  2016-11-30 22:30:00.000   \n",
       "13          853  2016-11-30 00:00:00.000  2016-11-30 18:00:00.000   \n",
       "14          854  2016-11-30 00:00:00.000  2016-11-30 22:20:00.000   \n",
       "15          855  2016-11-30 00:00:00.000  2016-11-30 23:22:00.000   \n",
       "16          856  2016-11-30 00:00:00.000  2016-11-30 23:37:00.000   \n",
       "17          857  2016-11-30 00:00:00.000  2016-11-30 23:59:00.000   \n",
       "18          858  2016-12-01 00:00:00.000  2016-12-01 01:05:00.000   \n",
       "19          859  2016-11-30 00:00:00.000  2016-11-30 01:00:00.000   \n",
       "\n",
       "              FechaServicio             HoraServicio  VientoVelocidad  \\\n",
       "0   2016-11-30 00:00:00.000  2016-11-30 17:26:00.000             25.0   \n",
       "1   2016-11-30 00:00:00.000  2016-11-30 17:55:00.000             25.0   \n",
       "2   2016-11-30 00:00:00.000  2016-11-30 18:28:00.000              5.0   \n",
       "3   2016-11-30 00:00:00.000  2016-11-30 19:04:00.000              5.0   \n",
       "4   2016-11-30 00:00:00.000  2016-11-30 18:31:00.000              5.0   \n",
       "5   2016-11-30 00:00:00.000  2016-11-30 19:18:00.000              5.0   \n",
       "6   2016-11-30 00:00:00.000  2016-11-30 20:23:00.000              5.0   \n",
       "7   2016-11-30 00:00:00.000  2016-11-30 16:42:00.000              5.0   \n",
       "8   2016-11-30 00:00:00.000  2016-11-30 18:41:00.000             10.0   \n",
       "9   2016-11-30 00:00:00.000  2016-11-30 21:32:00.000             10.0   \n",
       "10  2016-11-30 00:00:00.000  2016-11-30 21:52:00.000             10.0   \n",
       "11  2016-11-30 00:00:00.000  2016-11-30 20:20:00.000             10.0   \n",
       "12  2016-11-30 00:00:00.000  2016-11-30 22:30:00.000              9.0   \n",
       "13  2016-11-30 00:00:00.000  2016-11-30 22:56:00.000             15.0   \n",
       "14  2016-11-30 00:00:00.000  2016-11-30 22:20:00.000             15.0   \n",
       "15  2016-11-30 00:00:00.000  2016-11-30 23:22:00.000             10.0   \n",
       "16  2016-11-30 00:00:00.000  2016-11-30 23:37:00.000             15.0   \n",
       "17  2016-12-01 00:00:00.000  2016-12-01 00:20:00.000              5.0   \n",
       "18  2016-12-01 00:00:00.000  2016-12-01 01:05:00.000             14.0   \n",
       "19  2016-12-01 00:00:00.000  2016-12-01 03:17:00.000             13.0   \n",
       "\n",
       "    SentidoId  BuqueId  BuqueExentoId        Escala  DemoraId  \\\n",
       "0         1.0    283.0            NaN  1.201606e+09       NaN   \n",
       "1         7.0    277.0            NaN  1.201606e+09       NaN   \n",
       "2         1.0    128.0            NaN  1.201606e+09       NaN   \n",
       "3         1.0    152.0            NaN  1.201606e+09       NaN   \n",
       "4         1.0    123.0            6.0  1.201606e+09       NaN   \n",
       "5         1.0    125.0           10.0  1.201606e+09       NaN   \n",
       "6         2.0    127.0           13.0  1.201605e+09       NaN   \n",
       "7         3.0    264.0            NaN  1.201606e+09       NaN   \n",
       "8         1.0    282.0            NaN  1.201606e+09       NaN   \n",
       "9         1.0    263.0            NaN  1.201606e+09       NaN   \n",
       "10        1.0    288.0            NaN  1.201606e+09       NaN   \n",
       "11        3.0    280.0            NaN  1.201606e+09       NaN   \n",
       "12        3.0    128.0            NaN  1.201606e+09       NaN   \n",
       "13        1.0    293.0            NaN  1.201606e+09       NaN   \n",
       "14        3.0    123.0            6.0  1.201606e+09       NaN   \n",
       "15        3.0    152.0            NaN  1.201606e+09       NaN   \n",
       "16        3.0    218.0            NaN  1.201606e+09      22.0   \n",
       "17        1.0    297.0            NaN  1.201606e+09       NaN   \n",
       "18        3.0    185.0            NaN  1.201606e+09       NaN   \n",
       "19        2.0    139.0            NaN  1.201606e+09       NaN   \n",
       "\n",
       "          FechaFinalizacion         HoraFinalizacion  \n",
       "0   2016-11-30 00:00:00.000  2016-12-30 18:19:00.000  \n",
       "1   2016-11-30 00:00:00.000  2016-12-30 18:20:00.000  \n",
       "2   2016-11-30 00:00:00.000  2016-12-30 18:52:00.000  \n",
       "3   2016-11-30 00:00:00.000  2016-12-30 19:52:00.000  \n",
       "4   2016-11-30 00:00:00.000  2016-11-30 18:55:00.000  \n",
       "5   2016-11-30 00:00:00.000  2016-11-30 19:51:00.000  \n",
       "6   2016-11-30 00:00:00.000  2016-11-30 20:18:00.000  \n",
       "7   2016-11-30 00:00:00.000  2016-11-30 17:20:00.000  \n",
       "8   2016-11-30 00:00:00.000  2016-12-30 19:28:00.000  \n",
       "9   2016-11-30 00:00:00.000  2016-12-01 22:02:00.000  \n",
       "10  2016-11-30 00:00:00.000  2016-12-30 22:32:00.000  \n",
       "11  2016-11-30 00:00:00.000  2016-12-30 20:59:00.000  \n",
       "12  2016-11-30 00:00:00.000  2016-11-30 22:50:00.000  \n",
       "13  2016-11-30 00:00:00.000  2016-11-30 23:34:00.000  \n",
       "14  2016-11-30 00:00:00.000  2016-11-30 22:40:00.000  \n",
       "15  2016-11-30 00:00:00.000  2016-11-30 23:39:00.000  \n",
       "16  2016-12-01 00:00:00.000  2016-12-30 00:04:00.000  \n",
       "17  2016-12-01 00:00:00.000  2016-12-15 01:04:00.000  \n",
       "18  2016-12-01 00:00:00.000  2016-12-01 02:21:00.000  \n",
       "19  2016-12-01 00:00:00.000  2016-12-30 03:57:00.000  "
      ]
     },
     "execution_count": 37,
     "metadata": {},
     "output_type": "execute_result"
    }
   ],
   "source": [
    "VAL_movimiento.head(20)"
   ]
  },
  {
   "cell_type": "code",
   "execution_count": 38,
   "metadata": {},
   "outputs": [
    {
     "data": {
      "text/plain": [
       "MovimientoId          object\n",
       "FechaPeticion         object\n",
       "HoraPeticion          object\n",
       "FechaServicio         object\n",
       "HoraServicio          object\n",
       "VientoVelocidad      float64\n",
       "SentidoId            float64\n",
       "BuqueId              float64\n",
       "BuqueExentoId        float64\n",
       "Escala               float64\n",
       "DemoraId             float64\n",
       "FechaFinalizacion     object\n",
       "HoraFinalizacion      object\n",
       "dtype: object"
      ]
     },
     "execution_count": 38,
     "metadata": {},
     "output_type": "execute_result"
    }
   ],
   "source": [
    "VAL_movimiento.dtypes"
   ]
  },
  {
   "cell_type": "code",
   "execution_count": 39,
   "metadata": {},
   "outputs": [
    {
     "data": {
      "text/plain": [
       "MovimientoId         115\n",
       "FechaPeticion        115\n",
       "HoraPeticion         115\n",
       "FechaServicio        115\n",
       "HoraServicio         115\n",
       "VientoVelocidad      115\n",
       "SentidoId            115\n",
       "BuqueId              115\n",
       "BuqueExentoId          2\n",
       "Escala               115\n",
       "DemoraId               0\n",
       "FechaFinalizacion     64\n",
       "HoraFinalizacion      64\n",
       "dtype: int64"
      ]
     },
     "execution_count": 39,
     "metadata": {},
     "output_type": "execute_result"
    }
   ],
   "source": [
    "VAL_movimiento[VAL_movimiento.SentidoId==4].count()"
   ]
  },
  {
   "cell_type": "code",
   "execution_count": 40,
   "metadata": {},
   "outputs": [
    {
     "data": {
      "text/plain": [
       "MovimientoId         492\n",
       "FechaPeticion        492\n",
       "HoraPeticion         492\n",
       "FechaServicio        492\n",
       "HoraServicio         492\n",
       "VientoVelocidad      492\n",
       "SentidoId            492\n",
       "BuqueId              492\n",
       "BuqueExentoId         21\n",
       "Escala               492\n",
       "DemoraId              89\n",
       "FechaFinalizacion    492\n",
       "HoraFinalizacion     492\n",
       "dtype: int64"
      ]
     },
     "execution_count": 40,
     "metadata": {},
     "output_type": "execute_result"
    }
   ],
   "source": [
    "VAL_movimiento[VAL_movimiento.SentidoId==7].count()"
   ]
  },
  {
   "cell_type": "code",
   "execution_count": 41,
   "metadata": {},
   "outputs": [
    {
     "data": {
      "text/plain": [
       "0        1.201606e+09\n",
       "1        1.201606e+09\n",
       "2        1.201606e+09\n",
       "3        1.201606e+09\n",
       "4        1.201606e+09\n",
       "             ...     \n",
       "43697    1.201906e+09\n",
       "43698    1.201906e+09\n",
       "43699    1.201906e+09\n",
       "43700    1.201906e+09\n",
       "43701    1.201906e+09\n",
       "Name: Escala, Length: 43702, dtype: float64"
      ]
     },
     "execution_count": 41,
     "metadata": {},
     "output_type": "execute_result"
    }
   ],
   "source": [
    "VAL_movimiento.Escala"
   ]
  },
  {
   "cell_type": "code",
   "execution_count": 42,
   "metadata": {},
   "outputs": [],
   "source": [
    "#VAL_movimiento.Escala.iloc[4]"
   ]
  },
  {
   "cell_type": "code",
   "execution_count": 43,
   "metadata": {},
   "outputs": [],
   "source": [
    "#VAL_movimiento.Escala= VAL_movimiento.Escala.apply(lambda e: int(e))\n",
    "#VAL['tmed'] = VAL['tmed'].apply(lambda e: e.replace(',','.') if type(e)== str else e)"
   ]
  },
  {
   "cell_type": "code",
   "execution_count": 44,
   "metadata": {},
   "outputs": [
    {
     "data": {
      "text/plain": [
       "BuqueId            object\n",
       "Nombre             object\n",
       "IMO                object\n",
       "NacionalidadId    float64\n",
       "TipoBuqueId       float64\n",
       "GT                float64\n",
       "Construccion       object\n",
       "dtype: object"
      ]
     },
     "execution_count": 44,
     "metadata": {},
     "output_type": "execute_result"
    }
   ],
   "source": [
    "VAL_buque.dtypes"
   ]
  },
  {
   "cell_type": "code",
   "execution_count": 45,
   "metadata": {},
   "outputs": [
    {
     "data": {
      "text/plain": [
       "MovimientoId          object\n",
       "FechaPeticion         object\n",
       "HoraPeticion          object\n",
       "FechaServicio         object\n",
       "HoraServicio          object\n",
       "VientoVelocidad      float64\n",
       "SentidoId            float64\n",
       "BuqueId              float64\n",
       "BuqueExentoId        float64\n",
       "Escala               float64\n",
       "DemoraId             float64\n",
       "FechaFinalizacion     object\n",
       "HoraFinalizacion      object\n",
       "dtype: object"
      ]
     },
     "execution_count": 45,
     "metadata": {},
     "output_type": "execute_result"
    }
   ],
   "source": [
    "VAL_movimiento.dtypes"
   ]
  },
  {
   "cell_type": "code",
   "execution_count": 46,
   "metadata": {},
   "outputs": [
    {
     "data": {
      "text/html": [
       "<div>\n",
       "<style scoped>\n",
       "    .dataframe tbody tr th:only-of-type {\n",
       "        vertical-align: middle;\n",
       "    }\n",
       "\n",
       "    .dataframe tbody tr th {\n",
       "        vertical-align: top;\n",
       "    }\n",
       "\n",
       "    .dataframe thead th {\n",
       "        text-align: right;\n",
       "    }\n",
       "</style>\n",
       "<table border=\"1\" class=\"dataframe\">\n",
       "  <thead>\n",
       "    <tr style=\"text-align: right;\">\n",
       "      <th></th>\n",
       "      <th>BuqueId</th>\n",
       "      <th>Nombre</th>\n",
       "      <th>IMO</th>\n",
       "      <th>NacionalidadId</th>\n",
       "      <th>TipoBuqueId</th>\n",
       "      <th>GT</th>\n",
       "      <th>Construccion</th>\n",
       "    </tr>\n",
       "  </thead>\n",
       "  <tbody>\n",
       "    <tr>\n",
       "      <th>0</th>\n",
       "      <td>116</td>\n",
       "      <td>GRANDE COLONIA</td>\n",
       "      <td>9318527</td>\n",
       "      <td>110.0</td>\n",
       "      <td>57.0</td>\n",
       "      <td>38651.0</td>\n",
       "      <td>2007</td>\n",
       "    </tr>\n",
       "    <tr>\n",
       "      <th>1</th>\n",
       "      <td>117</td>\n",
       "      <td>DENIA CIUTAT CREATIVA</td>\n",
       "      <td>9019054</td>\n",
       "      <td>59.0</td>\n",
       "      <td>43.0</td>\n",
       "      <td>19308.0</td>\n",
       "      <td>1992</td>\n",
       "    </tr>\n",
       "    <tr>\n",
       "      <th>2</th>\n",
       "      <td>118</td>\n",
       "      <td>STAR COMET</td>\n",
       "      <td>9242596</td>\n",
       "      <td>10.0</td>\n",
       "      <td>48.0</td>\n",
       "      <td>6277.0</td>\n",
       "      <td>2002</td>\n",
       "    </tr>\n",
       "    <tr>\n",
       "      <th>3</th>\n",
       "      <td>119</td>\n",
       "      <td>JEWEL OF THE SEAS</td>\n",
       "      <td>9228356</td>\n",
       "      <td>17.0</td>\n",
       "      <td>44.0</td>\n",
       "      <td>90090.0</td>\n",
       "      <td>2004</td>\n",
       "    </tr>\n",
       "    <tr>\n",
       "      <th>4</th>\n",
       "      <td>120</td>\n",
       "      <td>ZIM CONSTANZA</td>\n",
       "      <td>9471202</td>\n",
       "      <td>109.0</td>\n",
       "      <td>48.0</td>\n",
       "      <td>40542.0</td>\n",
       "      <td>2010</td>\n",
       "    </tr>\n",
       "  </tbody>\n",
       "</table>\n",
       "</div>"
      ],
      "text/plain": [
       "  BuqueId                 Nombre      IMO  NacionalidadId  TipoBuqueId  \\\n",
       "0     116         GRANDE COLONIA  9318527           110.0         57.0   \n",
       "1     117  DENIA CIUTAT CREATIVA  9019054            59.0         43.0   \n",
       "2     118             STAR COMET  9242596            10.0         48.0   \n",
       "3     119      JEWEL OF THE SEAS  9228356            17.0         44.0   \n",
       "4     120          ZIM CONSTANZA  9471202           109.0         48.0   \n",
       "\n",
       "        GT Construccion  \n",
       "0  38651.0         2007  \n",
       "1  19308.0         1992  \n",
       "2   6277.0         2002  \n",
       "3  90090.0         2004  \n",
       "4  40542.0         2010  "
      ]
     },
     "execution_count": 46,
     "metadata": {},
     "output_type": "execute_result"
    }
   ],
   "source": [
    "VAL_buque.head()"
   ]
  },
  {
   "cell_type": "code",
   "execution_count": 47,
   "metadata": {},
   "outputs": [],
   "source": [
    "VAL_buque['BuqueId'] = VAL_buque['BuqueId'].astype('str') \n"
   ]
  },
  {
   "cell_type": "code",
   "execution_count": 48,
   "metadata": {},
   "outputs": [
    {
     "data": {
      "text/plain": [
       "BuqueId            object\n",
       "Nombre             object\n",
       "IMO                object\n",
       "NacionalidadId    float64\n",
       "TipoBuqueId       float64\n",
       "GT                float64\n",
       "Construccion       object\n",
       "dtype: object"
      ]
     },
     "execution_count": 48,
     "metadata": {},
     "output_type": "execute_result"
    }
   ],
   "source": [
    "VAL_buque.dtypes"
   ]
  },
  {
   "cell_type": "code",
   "execution_count": 49,
   "metadata": {},
   "outputs": [
    {
     "data": {
      "text/plain": [
       "2075"
      ]
     },
     "execution_count": 49,
     "metadata": {},
     "output_type": "execute_result"
    }
   ],
   "source": [
    "len(list([type(e) for e in VAL_buque.BuqueId if type(e)==str]))"
   ]
  },
  {
   "cell_type": "code",
   "execution_count": 50,
   "metadata": {},
   "outputs": [
    {
     "data": {
      "text/plain": [
       "(2075, 7)"
      ]
     },
     "execution_count": 50,
     "metadata": {},
     "output_type": "execute_result"
    }
   ],
   "source": [
    "VAL_buque.shape"
   ]
  },
  {
   "cell_type": "code",
   "execution_count": 51,
   "metadata": {},
   "outputs": [],
   "source": [
    "VAL_movimiento.dtypes\n",
    "VAL_movimiento.BuqueId=VAL_movimiento.BuqueId.apply(lambda e: str(e) )\n"
   ]
  },
  {
   "cell_type": "code",
   "execution_count": 52,
   "metadata": {},
   "outputs": [
    {
     "data": {
      "text/plain": [
       "43702"
      ]
     },
     "execution_count": 52,
     "metadata": {},
     "output_type": "execute_result"
    }
   ],
   "source": [
    "len(list([type(e) for e in VAL_movimiento.BuqueId if type(e)==str]))"
   ]
  },
  {
   "cell_type": "code",
   "execution_count": 53,
   "metadata": {},
   "outputs": [
    {
     "data": {
      "text/plain": [
       "SentidoId     int64\n",
       "Nombre       object\n",
       "dtype: object"
      ]
     },
     "execution_count": 53,
     "metadata": {},
     "output_type": "execute_result"
    }
   ],
   "source": [
    "VAL_sentido.dtypes"
   ]
  },
  {
   "cell_type": "code",
   "execution_count": 54,
   "metadata": {},
   "outputs": [
    {
     "data": {
      "text/plain": [
       "0    1\n",
       "1    2\n",
       "2    3\n",
       "3    4\n",
       "4    7\n",
       "5    9\n",
       "Name: SentidoId, dtype: int64"
      ]
     },
     "execution_count": 54,
     "metadata": {},
     "output_type": "execute_result"
    }
   ],
   "source": [
    "VAL_sentido.SentidoId"
   ]
  },
  {
   "cell_type": "code",
   "execution_count": 55,
   "metadata": {},
   "outputs": [
    {
     "data": {
      "text/plain": [
       "0        1.0\n",
       "1        7.0\n",
       "2        1.0\n",
       "3        1.0\n",
       "4        1.0\n",
       "        ... \n",
       "43697    3.0\n",
       "43698    3.0\n",
       "43699    3.0\n",
       "43700    3.0\n",
       "43701    3.0\n",
       "Name: SentidoId, Length: 43702, dtype: float64"
      ]
     },
     "execution_count": 55,
     "metadata": {},
     "output_type": "execute_result"
    }
   ],
   "source": [
    "VAL_movimiento.SentidoId"
   ]
  },
  {
   "cell_type": "code",
   "execution_count": 56,
   "metadata": {},
   "outputs": [
    {
     "data": {
      "text/plain": [
       "43702"
      ]
     },
     "execution_count": 56,
     "metadata": {},
     "output_type": "execute_result"
    }
   ],
   "source": [
    "VAL_movimiento.SentidoId.isnull().count()"
   ]
  },
  {
   "cell_type": "code",
   "execution_count": 57,
   "metadata": {},
   "outputs": [
    {
     "data": {
      "text/plain": [
       "0    1.0\n",
       "1    7.0\n",
       "2    1.0\n",
       "3    1.0\n",
       "4    1.0\n",
       "Name: SentidoId, dtype: float64"
      ]
     },
     "execution_count": 57,
     "metadata": {},
     "output_type": "execute_result"
    }
   ],
   "source": [
    "VAL_movimiento.SentidoId.head()"
   ]
  },
  {
   "cell_type": "code",
   "execution_count": 58,
   "metadata": {},
   "outputs": [
    {
     "data": {
      "text/plain": [
       "MovimientoId            16\n",
       "FechaPeticion            2\n",
       "HoraPeticion            21\n",
       "FechaServicio            2\n",
       "HoraServicio             2\n",
       "VientoVelocidad         70\n",
       "SentidoId                9\n",
       "BuqueId                  0\n",
       "BuqueExentoId        37202\n",
       "Escala                  44\n",
       "DemoraId             36530\n",
       "FechaFinalizacion      147\n",
       "HoraFinalizacion       146\n",
       "dtype: int64"
      ]
     },
     "execution_count": 58,
     "metadata": {},
     "output_type": "execute_result"
    }
   ],
   "source": [
    "VAL_movimiento.isnull().sum()"
   ]
  },
  {
   "cell_type": "code",
   "execution_count": 59,
   "metadata": {},
   "outputs": [],
   "source": [
    "#VAL_movimiento.SentidoId = VAL_movimiento.SentidoId.apply(pd.to_numeric, errors='coerce', axis=1)\n",
    "VAL_movimiento.SentidoId  = VAL_movimiento.SentidoId.apply(lambda e: pd.to_numeric(e, errors='coerce'))"
   ]
  },
  {
   "cell_type": "code",
   "execution_count": 60,
   "metadata": {},
   "outputs": [
    {
     "data": {
      "text/html": [
       "<div>\n",
       "<style scoped>\n",
       "    .dataframe tbody tr th:only-of-type {\n",
       "        vertical-align: middle;\n",
       "    }\n",
       "\n",
       "    .dataframe tbody tr th {\n",
       "        vertical-align: top;\n",
       "    }\n",
       "\n",
       "    .dataframe thead th {\n",
       "        text-align: right;\n",
       "    }\n",
       "</style>\n",
       "<table border=\"1\" class=\"dataframe\">\n",
       "  <thead>\n",
       "    <tr style=\"text-align: right;\">\n",
       "      <th></th>\n",
       "      <th>MovimientoId</th>\n",
       "      <th>FechaPeticion</th>\n",
       "      <th>HoraPeticion</th>\n",
       "      <th>FechaServicio</th>\n",
       "      <th>HoraServicio</th>\n",
       "      <th>VientoVelocidad</th>\n",
       "      <th>SentidoId</th>\n",
       "      <th>BuqueId</th>\n",
       "      <th>BuqueExentoId</th>\n",
       "      <th>Escala</th>\n",
       "      <th>DemoraId</th>\n",
       "      <th>FechaFinalizacion</th>\n",
       "      <th>HoraFinalizacion</th>\n",
       "    </tr>\n",
       "  </thead>\n",
       "  <tbody>\n",
       "    <tr>\n",
       "      <th>0</th>\n",
       "      <td>840</td>\n",
       "      <td>2016-11-30 00:00:00.000</td>\n",
       "      <td>2016-11-30 17:26:00.000</td>\n",
       "      <td>2016-11-30 00:00:00.000</td>\n",
       "      <td>2016-11-30 17:26:00.000</td>\n",
       "      <td>25.0</td>\n",
       "      <td>1.0</td>\n",
       "      <td>283.0</td>\n",
       "      <td>0.0</td>\n",
       "      <td>1.201606e+09</td>\n",
       "      <td>0.0</td>\n",
       "      <td>2016-11-30 00:00:00.000</td>\n",
       "      <td>2016-12-30 18:19:00.000</td>\n",
       "    </tr>\n",
       "    <tr>\n",
       "      <th>1</th>\n",
       "      <td>841</td>\n",
       "      <td>2016-11-30 00:00:00.000</td>\n",
       "      <td>2016-11-30 17:51:00.000</td>\n",
       "      <td>2016-11-30 00:00:00.000</td>\n",
       "      <td>2016-11-30 17:55:00.000</td>\n",
       "      <td>25.0</td>\n",
       "      <td>7.0</td>\n",
       "      <td>277.0</td>\n",
       "      <td>0.0</td>\n",
       "      <td>1.201606e+09</td>\n",
       "      <td>0.0</td>\n",
       "      <td>2016-11-30 00:00:00.000</td>\n",
       "      <td>2016-12-30 18:20:00.000</td>\n",
       "    </tr>\n",
       "    <tr>\n",
       "      <th>2</th>\n",
       "      <td>842</td>\n",
       "      <td>2016-11-30 00:00:00.000</td>\n",
       "      <td>2016-11-30 18:45:00.000</td>\n",
       "      <td>2016-11-30 00:00:00.000</td>\n",
       "      <td>2016-11-30 18:28:00.000</td>\n",
       "      <td>5.0</td>\n",
       "      <td>1.0</td>\n",
       "      <td>128.0</td>\n",
       "      <td>0.0</td>\n",
       "      <td>1.201606e+09</td>\n",
       "      <td>0.0</td>\n",
       "      <td>2016-11-30 00:00:00.000</td>\n",
       "      <td>2016-12-30 18:52:00.000</td>\n",
       "    </tr>\n",
       "    <tr>\n",
       "      <th>3</th>\n",
       "      <td>843</td>\n",
       "      <td>2016-11-30 00:00:00.000</td>\n",
       "      <td>2016-11-30 19:30:00.000</td>\n",
       "      <td>2016-11-30 00:00:00.000</td>\n",
       "      <td>2016-11-30 19:04:00.000</td>\n",
       "      <td>5.0</td>\n",
       "      <td>1.0</td>\n",
       "      <td>152.0</td>\n",
       "      <td>0.0</td>\n",
       "      <td>1.201606e+09</td>\n",
       "      <td>0.0</td>\n",
       "      <td>2016-11-30 00:00:00.000</td>\n",
       "      <td>2016-12-30 19:52:00.000</td>\n",
       "    </tr>\n",
       "    <tr>\n",
       "      <th>4</th>\n",
       "      <td>844</td>\n",
       "      <td>2016-11-30 00:00:00.000</td>\n",
       "      <td>2016-11-30 19:00:00.000</td>\n",
       "      <td>2016-11-30 00:00:00.000</td>\n",
       "      <td>2016-11-30 18:31:00.000</td>\n",
       "      <td>5.0</td>\n",
       "      <td>1.0</td>\n",
       "      <td>123.0</td>\n",
       "      <td>6.0</td>\n",
       "      <td>1.201606e+09</td>\n",
       "      <td>0.0</td>\n",
       "      <td>2016-11-30 00:00:00.000</td>\n",
       "      <td>2016-11-30 18:55:00.000</td>\n",
       "    </tr>\n",
       "    <tr>\n",
       "      <th>...</th>\n",
       "      <td>...</td>\n",
       "      <td>...</td>\n",
       "      <td>...</td>\n",
       "      <td>...</td>\n",
       "      <td>...</td>\n",
       "      <td>...</td>\n",
       "      <td>...</td>\n",
       "      <td>...</td>\n",
       "      <td>...</td>\n",
       "      <td>...</td>\n",
       "      <td>...</td>\n",
       "      <td>...</td>\n",
       "      <td>...</td>\n",
       "    </tr>\n",
       "    <tr>\n",
       "      <th>43697</th>\n",
       "      <td>44720</td>\n",
       "      <td>2019-12-10 00:00:00.000</td>\n",
       "      <td>2019-12-10 22:00:00.000</td>\n",
       "      <td>2019-12-10 00:00:00.000</td>\n",
       "      <td>2019-12-10 22:34:00.000</td>\n",
       "      <td>5.0</td>\n",
       "      <td>3.0</td>\n",
       "      <td>851.0</td>\n",
       "      <td>0.0</td>\n",
       "      <td>1.201906e+09</td>\n",
       "      <td>0.0</td>\n",
       "      <td>2019-12-10 00:00:00.000</td>\n",
       "      <td>2019-12-10 22:49:35.957</td>\n",
       "    </tr>\n",
       "    <tr>\n",
       "      <th>43698</th>\n",
       "      <td>44721</td>\n",
       "      <td>2019-12-11 00:00:00.000</td>\n",
       "      <td>2019-12-11 20:00:00.000</td>\n",
       "      <td>2019-12-10 00:00:00.000</td>\n",
       "      <td>2019-12-10 22:45:00.000</td>\n",
       "      <td>5.0</td>\n",
       "      <td>3.0</td>\n",
       "      <td>295.0</td>\n",
       "      <td>0.0</td>\n",
       "      <td>1.201906e+09</td>\n",
       "      <td>17.0</td>\n",
       "      <td>2019-12-10 00:00:00.000</td>\n",
       "      <td>2019-12-10 23:10:29.793</td>\n",
       "    </tr>\n",
       "    <tr>\n",
       "      <th>43699</th>\n",
       "      <td>44722</td>\n",
       "      <td>2019-12-10 00:00:00.000</td>\n",
       "      <td>2019-12-10 22:30:00.000</td>\n",
       "      <td>2019-12-10 00:00:00.000</td>\n",
       "      <td>2019-12-10 23:04:00.000</td>\n",
       "      <td>5.0</td>\n",
       "      <td>3.0</td>\n",
       "      <td>152.0</td>\n",
       "      <td>17.0</td>\n",
       "      <td>1.201906e+09</td>\n",
       "      <td>0.0</td>\n",
       "      <td>2019-12-10 00:00:00.000</td>\n",
       "      <td>2019-12-10 23:19:00.000</td>\n",
       "    </tr>\n",
       "    <tr>\n",
       "      <th>43700</th>\n",
       "      <td>44723</td>\n",
       "      <td>2019-12-10 00:00:00.000</td>\n",
       "      <td>2019-12-10 23:00:00.000</td>\n",
       "      <td>2019-12-10 00:00:00.000</td>\n",
       "      <td>2019-12-10 23:17:00.000</td>\n",
       "      <td>5.0</td>\n",
       "      <td>3.0</td>\n",
       "      <td>170.0</td>\n",
       "      <td>0.0</td>\n",
       "      <td>1.201906e+09</td>\n",
       "      <td>0.0</td>\n",
       "      <td>2019-12-10 00:00:00.000</td>\n",
       "      <td>2019-12-10 23:30:38.063</td>\n",
       "    </tr>\n",
       "    <tr>\n",
       "      <th>43701</th>\n",
       "      <td>44724</td>\n",
       "      <td>2019-12-10 00:00:00.000</td>\n",
       "      <td>2019-12-10 23:30:00.000</td>\n",
       "      <td>2019-12-10 00:00:00.000</td>\n",
       "      <td>2019-12-10 23:33:00.000</td>\n",
       "      <td>5.0</td>\n",
       "      <td>3.0</td>\n",
       "      <td>2139.0</td>\n",
       "      <td>0.0</td>\n",
       "      <td>1.201906e+09</td>\n",
       "      <td>0.0</td>\n",
       "      <td>0</td>\n",
       "      <td>0</td>\n",
       "    </tr>\n",
       "  </tbody>\n",
       "</table>\n",
       "<p>43702 rows × 13 columns</p>\n",
       "</div>"
      ],
      "text/plain": [
       "      MovimientoId            FechaPeticion             HoraPeticion  \\\n",
       "0              840  2016-11-30 00:00:00.000  2016-11-30 17:26:00.000   \n",
       "1              841  2016-11-30 00:00:00.000  2016-11-30 17:51:00.000   \n",
       "2              842  2016-11-30 00:00:00.000  2016-11-30 18:45:00.000   \n",
       "3              843  2016-11-30 00:00:00.000  2016-11-30 19:30:00.000   \n",
       "4              844  2016-11-30 00:00:00.000  2016-11-30 19:00:00.000   \n",
       "...            ...                      ...                      ...   \n",
       "43697        44720  2019-12-10 00:00:00.000  2019-12-10 22:00:00.000   \n",
       "43698        44721  2019-12-11 00:00:00.000  2019-12-11 20:00:00.000   \n",
       "43699        44722  2019-12-10 00:00:00.000  2019-12-10 22:30:00.000   \n",
       "43700        44723  2019-12-10 00:00:00.000  2019-12-10 23:00:00.000   \n",
       "43701        44724  2019-12-10 00:00:00.000  2019-12-10 23:30:00.000   \n",
       "\n",
       "                 FechaServicio             HoraServicio  VientoVelocidad  \\\n",
       "0      2016-11-30 00:00:00.000  2016-11-30 17:26:00.000             25.0   \n",
       "1      2016-11-30 00:00:00.000  2016-11-30 17:55:00.000             25.0   \n",
       "2      2016-11-30 00:00:00.000  2016-11-30 18:28:00.000              5.0   \n",
       "3      2016-11-30 00:00:00.000  2016-11-30 19:04:00.000              5.0   \n",
       "4      2016-11-30 00:00:00.000  2016-11-30 18:31:00.000              5.0   \n",
       "...                        ...                      ...              ...   \n",
       "43697  2019-12-10 00:00:00.000  2019-12-10 22:34:00.000              5.0   \n",
       "43698  2019-12-10 00:00:00.000  2019-12-10 22:45:00.000              5.0   \n",
       "43699  2019-12-10 00:00:00.000  2019-12-10 23:04:00.000              5.0   \n",
       "43700  2019-12-10 00:00:00.000  2019-12-10 23:17:00.000              5.0   \n",
       "43701  2019-12-10 00:00:00.000  2019-12-10 23:33:00.000              5.0   \n",
       "\n",
       "       SentidoId BuqueId  BuqueExentoId        Escala  DemoraId  \\\n",
       "0            1.0   283.0            0.0  1.201606e+09       0.0   \n",
       "1            7.0   277.0            0.0  1.201606e+09       0.0   \n",
       "2            1.0   128.0            0.0  1.201606e+09       0.0   \n",
       "3            1.0   152.0            0.0  1.201606e+09       0.0   \n",
       "4            1.0   123.0            6.0  1.201606e+09       0.0   \n",
       "...          ...     ...            ...           ...       ...   \n",
       "43697        3.0   851.0            0.0  1.201906e+09       0.0   \n",
       "43698        3.0   295.0            0.0  1.201906e+09      17.0   \n",
       "43699        3.0   152.0           17.0  1.201906e+09       0.0   \n",
       "43700        3.0   170.0            0.0  1.201906e+09       0.0   \n",
       "43701        3.0  2139.0            0.0  1.201906e+09       0.0   \n",
       "\n",
       "             FechaFinalizacion         HoraFinalizacion  \n",
       "0      2016-11-30 00:00:00.000  2016-12-30 18:19:00.000  \n",
       "1      2016-11-30 00:00:00.000  2016-12-30 18:20:00.000  \n",
       "2      2016-11-30 00:00:00.000  2016-12-30 18:52:00.000  \n",
       "3      2016-11-30 00:00:00.000  2016-12-30 19:52:00.000  \n",
       "4      2016-11-30 00:00:00.000  2016-11-30 18:55:00.000  \n",
       "...                        ...                      ...  \n",
       "43697  2019-12-10 00:00:00.000  2019-12-10 22:49:35.957  \n",
       "43698  2019-12-10 00:00:00.000  2019-12-10 23:10:29.793  \n",
       "43699  2019-12-10 00:00:00.000  2019-12-10 23:19:00.000  \n",
       "43700  2019-12-10 00:00:00.000  2019-12-10 23:30:38.063  \n",
       "43701                        0                        0  \n",
       "\n",
       "[43702 rows x 13 columns]"
      ]
     },
     "execution_count": 60,
     "metadata": {},
     "output_type": "execute_result"
    }
   ],
   "source": [
    "VAL_movimiento.fillna(0)"
   ]
  },
  {
   "cell_type": "code",
   "execution_count": 61,
   "metadata": {},
   "outputs": [],
   "source": [
    "VAL_movimiento.SentidoId=VAL_movimiento.SentidoId.apply(lambda e: str(e) )"
   ]
  },
  {
   "cell_type": "code",
   "execution_count": 62,
   "metadata": {},
   "outputs": [
    {
     "data": {
      "text/plain": [
       "MovimientoId          object\n",
       "FechaPeticion         object\n",
       "HoraPeticion          object\n",
       "FechaServicio         object\n",
       "HoraServicio          object\n",
       "VientoVelocidad      float64\n",
       "SentidoId             object\n",
       "BuqueId               object\n",
       "BuqueExentoId        float64\n",
       "Escala               float64\n",
       "DemoraId             float64\n",
       "FechaFinalizacion     object\n",
       "HoraFinalizacion      object\n",
       "dtype: object"
      ]
     },
     "execution_count": 62,
     "metadata": {},
     "output_type": "execute_result"
    }
   ],
   "source": [
    "VAL_movimiento.dtypes"
   ]
  },
  {
   "cell_type": "code",
   "execution_count": 63,
   "metadata": {},
   "outputs": [
    {
     "data": {
      "text/plain": [
       "43702"
      ]
     },
     "execution_count": 63,
     "metadata": {},
     "output_type": "execute_result"
    }
   ],
   "source": [
    "len(list([type(e) for e in VAL_movimiento.SentidoId if type(e)==str]))"
   ]
  },
  {
   "cell_type": "code",
   "execution_count": 64,
   "metadata": {},
   "outputs": [
    {
     "data": {
      "text/plain": [
       "0        2016-11-30 17:26:00.000\n",
       "1        2016-11-30 17:55:00.000\n",
       "2        2016-11-30 18:28:00.000\n",
       "3        2016-11-30 19:04:00.000\n",
       "4        2016-11-30 18:31:00.000\n",
       "                  ...           \n",
       "43697    2019-12-10 22:34:00.000\n",
       "43698    2019-12-10 22:45:00.000\n",
       "43699    2019-12-10 23:04:00.000\n",
       "43700    2019-12-10 23:17:00.000\n",
       "43701    2019-12-10 23:33:00.000\n",
       "Name: HoraServicio, Length: 43702, dtype: object"
      ]
     },
     "execution_count": 64,
     "metadata": {},
     "output_type": "execute_result"
    }
   ],
   "source": [
    "VAL_movimiento.HoraServicio"
   ]
  },
  {
   "cell_type": "code",
   "execution_count": 65,
   "metadata": {},
   "outputs": [
    {
     "data": {
      "text/plain": [
       "'2016-11-30 17:26:00.000'"
      ]
     },
     "execution_count": 65,
     "metadata": {},
     "output_type": "execute_result"
    }
   ],
   "source": [
    "VAL_movimiento.HoraServicio.iloc[0]"
   ]
  },
  {
   "cell_type": "code",
   "execution_count": 66,
   "metadata": {},
   "outputs": [],
   "source": [
    "VAL_movimiento.HoraServicio=VAL_movimiento.HoraServicio.apply(lambda e: str(e) )"
   ]
  },
  {
   "cell_type": "code",
   "execution_count": 67,
   "metadata": {},
   "outputs": [
    {
     "name": "stdout",
     "output_type": "stream",
     "text": [
      "<class 'str'>\n"
     ]
    }
   ],
   "source": [
    "print(type(VAL_movimiento.HoraServicio.iloc[1]))"
   ]
  },
  {
   "cell_type": "code",
   "execution_count": 68,
   "metadata": {},
   "outputs": [
    {
     "data": {
      "text/plain": [
       "'2016-11-30 17:55:00.000'"
      ]
     },
     "execution_count": 68,
     "metadata": {},
     "output_type": "execute_result"
    }
   ],
   "source": [
    "VAL_movimiento.HoraServicio.iloc[1]"
   ]
  },
  {
   "cell_type": "code",
   "execution_count": 69,
   "metadata": {},
   "outputs": [],
   "source": [
    "import datetime as dt\n",
    "import pytz\n",
    "\n",
    "date_time_str = VAL_movimiento.HoraServicio.iloc[400]\n",
    "\n",
    "date_time_obj = dt.datetime.strptime(date_time_str, '%Y-%m-%d %H:%M:%S.%f')\n",
    "#\"%Y-%m-%dT%H:%M:%SZ"
   ]
  },
  {
   "cell_type": "code",
   "execution_count": 70,
   "metadata": {},
   "outputs": [
    {
     "name": "stdout",
     "output_type": "stream",
     "text": [
      "Date: 2016-12-09\n",
      "Time: 17:40:00\n",
      "Date-time: 2016-12-09 17:40:00\n"
     ]
    }
   ],
   "source": [
    "date_time_obj \n",
    "print('Date:', date_time_obj.date())\n",
    "print('Time:', date_time_obj.time())\n",
    "print('Date-time:', date_time_obj)"
   ]
  },
  {
   "cell_type": "code",
   "execution_count": 71,
   "metadata": {},
   "outputs": [
    {
     "data": {
      "text/plain": [
       "43702"
      ]
     },
     "execution_count": 71,
     "metadata": {},
     "output_type": "execute_result"
    }
   ],
   "source": [
    "VAL_movimiento.HoraServicio.count()"
   ]
  },
  {
   "cell_type": "code",
   "execution_count": 79,
   "metadata": {},
   "outputs": [
    {
     "ename": "TypeError",
     "evalue": "strptime() argument 1 must be str, not Timestamp",
     "output_type": "error",
     "traceback": [
      "\u001b[0;31m---------------------------------------------------------------------------\u001b[0m",
      "\u001b[0;31mTypeError\u001b[0m                                 Traceback (most recent call last)",
      "\u001b[0;32m<ipython-input-79-4fbd7d26acc8>\u001b[0m in \u001b[0;36m<module>\u001b[0;34m\u001b[0m\n\u001b[0;32m----> 1\u001b[0;31m \u001b[0mVAL_movimiento\u001b[0m\u001b[0;34m.\u001b[0m\u001b[0mHoraServicio\u001b[0m\u001b[0;34m=\u001b[0m \u001b[0mVAL_movimiento\u001b[0m\u001b[0;34m.\u001b[0m\u001b[0mHoraServicio\u001b[0m\u001b[0;34m.\u001b[0m\u001b[0mapply\u001b[0m\u001b[0;34m(\u001b[0m\u001b[0;32mlambda\u001b[0m \u001b[0me\u001b[0m\u001b[0;34m:\u001b[0m \u001b[0mdt\u001b[0m\u001b[0;34m.\u001b[0m\u001b[0mdatetime\u001b[0m\u001b[0;34m.\u001b[0m\u001b[0mstrptime\u001b[0m\u001b[0;34m(\u001b[0m\u001b[0me\u001b[0m\u001b[0;34m,\u001b[0m \u001b[0;34m'%Y-%m-%d %H:%M:%S.%f'\u001b[0m\u001b[0;34m)\u001b[0m\u001b[0;34m)\u001b[0m\u001b[0;34m\u001b[0m\u001b[0;34m\u001b[0m\u001b[0m\n\u001b[0m",
      "\u001b[0;32m/usr/local/lib/python3.7/site-packages/pandas/core/series.py\u001b[0m in \u001b[0;36mapply\u001b[0;34m(self, func, convert_dtype, args, **kwds)\u001b[0m\n\u001b[1;32m   4043\u001b[0m             \u001b[0;32melse\u001b[0m\u001b[0;34m:\u001b[0m\u001b[0;34m\u001b[0m\u001b[0;34m\u001b[0m\u001b[0m\n\u001b[1;32m   4044\u001b[0m                 \u001b[0mvalues\u001b[0m \u001b[0;34m=\u001b[0m \u001b[0mself\u001b[0m\u001b[0;34m.\u001b[0m\u001b[0mastype\u001b[0m\u001b[0;34m(\u001b[0m\u001b[0mobject\u001b[0m\u001b[0;34m)\u001b[0m\u001b[0;34m.\u001b[0m\u001b[0mvalues\u001b[0m\u001b[0;34m\u001b[0m\u001b[0;34m\u001b[0m\u001b[0m\n\u001b[0;32m-> 4045\u001b[0;31m                 \u001b[0mmapped\u001b[0m \u001b[0;34m=\u001b[0m \u001b[0mlib\u001b[0m\u001b[0;34m.\u001b[0m\u001b[0mmap_infer\u001b[0m\u001b[0;34m(\u001b[0m\u001b[0mvalues\u001b[0m\u001b[0;34m,\u001b[0m \u001b[0mf\u001b[0m\u001b[0;34m,\u001b[0m \u001b[0mconvert\u001b[0m\u001b[0;34m=\u001b[0m\u001b[0mconvert_dtype\u001b[0m\u001b[0;34m)\u001b[0m\u001b[0;34m\u001b[0m\u001b[0;34m\u001b[0m\u001b[0m\n\u001b[0m\u001b[1;32m   4046\u001b[0m \u001b[0;34m\u001b[0m\u001b[0m\n\u001b[1;32m   4047\u001b[0m         \u001b[0;32mif\u001b[0m \u001b[0mlen\u001b[0m\u001b[0;34m(\u001b[0m\u001b[0mmapped\u001b[0m\u001b[0;34m)\u001b[0m \u001b[0;32mand\u001b[0m \u001b[0misinstance\u001b[0m\u001b[0;34m(\u001b[0m\u001b[0mmapped\u001b[0m\u001b[0;34m[\u001b[0m\u001b[0;36m0\u001b[0m\u001b[0;34m]\u001b[0m\u001b[0;34m,\u001b[0m \u001b[0mSeries\u001b[0m\u001b[0;34m)\u001b[0m\u001b[0;34m:\u001b[0m\u001b[0;34m\u001b[0m\u001b[0;34m\u001b[0m\u001b[0m\n",
      "\u001b[0;32mpandas/_libs/lib.pyx\u001b[0m in \u001b[0;36mpandas._libs.lib.map_infer\u001b[0;34m()\u001b[0m\n",
      "\u001b[0;32m<ipython-input-79-4fbd7d26acc8>\u001b[0m in \u001b[0;36m<lambda>\u001b[0;34m(e)\u001b[0m\n\u001b[0;32m----> 1\u001b[0;31m \u001b[0mVAL_movimiento\u001b[0m\u001b[0;34m.\u001b[0m\u001b[0mHoraServicio\u001b[0m\u001b[0;34m=\u001b[0m \u001b[0mVAL_movimiento\u001b[0m\u001b[0;34m.\u001b[0m\u001b[0mHoraServicio\u001b[0m\u001b[0;34m.\u001b[0m\u001b[0mapply\u001b[0m\u001b[0;34m(\u001b[0m\u001b[0;32mlambda\u001b[0m \u001b[0me\u001b[0m\u001b[0;34m:\u001b[0m \u001b[0mdt\u001b[0m\u001b[0;34m.\u001b[0m\u001b[0mdatetime\u001b[0m\u001b[0;34m.\u001b[0m\u001b[0mstrptime\u001b[0m\u001b[0;34m(\u001b[0m\u001b[0me\u001b[0m\u001b[0;34m,\u001b[0m \u001b[0;34m'%Y-%m-%d %H:%M:%S.%f'\u001b[0m\u001b[0;34m)\u001b[0m\u001b[0;34m)\u001b[0m\u001b[0;34m\u001b[0m\u001b[0;34m\u001b[0m\u001b[0m\n\u001b[0m",
      "\u001b[0;31mTypeError\u001b[0m: strptime() argument 1 must be str, not Timestamp"
     ]
    }
   ],
   "source": [
    "VAL_movimiento.HoraServicio= VAL_movimiento.HoraServicio.apply(lambda e: dt.datetime.strptime(e, '%Y-%m-%d %H:%M:%S.%f'))\n"
   ]
  },
  {
   "cell_type": "code",
   "execution_count": 73,
   "metadata": {},
   "outputs": [
    {
     "data": {
      "text/plain": [
       "0       2016-12-09 17:40:00\n",
       "1       2016-12-09 17:40:00\n",
       "2       2016-12-09 17:40:00\n",
       "3       2016-12-09 17:40:00\n",
       "4       2016-12-09 17:40:00\n",
       "                ...        \n",
       "43697   2016-12-09 17:40:00\n",
       "43698   2016-12-09 17:40:00\n",
       "43699   2016-12-09 17:40:00\n",
       "43700   2016-12-09 17:40:00\n",
       "43701   2016-12-09 17:40:00\n",
       "Name: HoraServicio, Length: 43702, dtype: datetime64[ns]"
      ]
     },
     "execution_count": 73,
     "metadata": {},
     "output_type": "execute_result"
    }
   ],
   "source": [
    "VAL_movimiento.HoraServicio"
   ]
  },
  {
   "cell_type": "code",
   "execution_count": 74,
   "metadata": {},
   "outputs": [
    {
     "data": {
      "text/html": [
       "<div>\n",
       "<style scoped>\n",
       "    .dataframe tbody tr th:only-of-type {\n",
       "        vertical-align: middle;\n",
       "    }\n",
       "\n",
       "    .dataframe tbody tr th {\n",
       "        vertical-align: top;\n",
       "    }\n",
       "\n",
       "    .dataframe thead th {\n",
       "        text-align: right;\n",
       "    }\n",
       "</style>\n",
       "<table border=\"1\" class=\"dataframe\">\n",
       "  <thead>\n",
       "    <tr style=\"text-align: right;\">\n",
       "      <th></th>\n",
       "      <th>MovimientoId</th>\n",
       "      <th>FechaPeticion</th>\n",
       "      <th>HoraPeticion</th>\n",
       "      <th>FechaServicio</th>\n",
       "      <th>HoraServicio</th>\n",
       "      <th>VientoVelocidad</th>\n",
       "      <th>SentidoId</th>\n",
       "      <th>BuqueId</th>\n",
       "      <th>BuqueExentoId</th>\n",
       "      <th>Escala</th>\n",
       "      <th>DemoraId</th>\n",
       "      <th>FechaFinalizacion</th>\n",
       "      <th>HoraFinalizacion</th>\n",
       "    </tr>\n",
       "  </thead>\n",
       "  <tbody>\n",
       "    <tr>\n",
       "      <th>0</th>\n",
       "      <td>840</td>\n",
       "      <td>2016-11-30 00:00:00.000</td>\n",
       "      <td>2016-11-30 17:26:00.000</td>\n",
       "      <td>2016-11-30 00:00:00.000</td>\n",
       "      <td>2016-12-09 17:40:00</td>\n",
       "      <td>25.0</td>\n",
       "      <td>1.0</td>\n",
       "      <td>283.0</td>\n",
       "      <td>NaN</td>\n",
       "      <td>1.201606e+09</td>\n",
       "      <td>NaN</td>\n",
       "      <td>2016-11-30 00:00:00.000</td>\n",
       "      <td>2016-12-30 18:19:00.000</td>\n",
       "    </tr>\n",
       "    <tr>\n",
       "      <th>1</th>\n",
       "      <td>841</td>\n",
       "      <td>2016-11-30 00:00:00.000</td>\n",
       "      <td>2016-11-30 17:51:00.000</td>\n",
       "      <td>2016-11-30 00:00:00.000</td>\n",
       "      <td>2016-12-09 17:40:00</td>\n",
       "      <td>25.0</td>\n",
       "      <td>7.0</td>\n",
       "      <td>277.0</td>\n",
       "      <td>NaN</td>\n",
       "      <td>1.201606e+09</td>\n",
       "      <td>NaN</td>\n",
       "      <td>2016-11-30 00:00:00.000</td>\n",
       "      <td>2016-12-30 18:20:00.000</td>\n",
       "    </tr>\n",
       "    <tr>\n",
       "      <th>2</th>\n",
       "      <td>842</td>\n",
       "      <td>2016-11-30 00:00:00.000</td>\n",
       "      <td>2016-11-30 18:45:00.000</td>\n",
       "      <td>2016-11-30 00:00:00.000</td>\n",
       "      <td>2016-12-09 17:40:00</td>\n",
       "      <td>5.0</td>\n",
       "      <td>1.0</td>\n",
       "      <td>128.0</td>\n",
       "      <td>NaN</td>\n",
       "      <td>1.201606e+09</td>\n",
       "      <td>NaN</td>\n",
       "      <td>2016-11-30 00:00:00.000</td>\n",
       "      <td>2016-12-30 18:52:00.000</td>\n",
       "    </tr>\n",
       "    <tr>\n",
       "      <th>3</th>\n",
       "      <td>843</td>\n",
       "      <td>2016-11-30 00:00:00.000</td>\n",
       "      <td>2016-11-30 19:30:00.000</td>\n",
       "      <td>2016-11-30 00:00:00.000</td>\n",
       "      <td>2016-12-09 17:40:00</td>\n",
       "      <td>5.0</td>\n",
       "      <td>1.0</td>\n",
       "      <td>152.0</td>\n",
       "      <td>NaN</td>\n",
       "      <td>1.201606e+09</td>\n",
       "      <td>NaN</td>\n",
       "      <td>2016-11-30 00:00:00.000</td>\n",
       "      <td>2016-12-30 19:52:00.000</td>\n",
       "    </tr>\n",
       "    <tr>\n",
       "      <th>4</th>\n",
       "      <td>844</td>\n",
       "      <td>2016-11-30 00:00:00.000</td>\n",
       "      <td>2016-11-30 19:00:00.000</td>\n",
       "      <td>2016-11-30 00:00:00.000</td>\n",
       "      <td>2016-12-09 17:40:00</td>\n",
       "      <td>5.0</td>\n",
       "      <td>1.0</td>\n",
       "      <td>123.0</td>\n",
       "      <td>6.0</td>\n",
       "      <td>1.201606e+09</td>\n",
       "      <td>NaN</td>\n",
       "      <td>2016-11-30 00:00:00.000</td>\n",
       "      <td>2016-11-30 18:55:00.000</td>\n",
       "    </tr>\n",
       "  </tbody>\n",
       "</table>\n",
       "</div>"
      ],
      "text/plain": [
       "  MovimientoId            FechaPeticion             HoraPeticion  \\\n",
       "0          840  2016-11-30 00:00:00.000  2016-11-30 17:26:00.000   \n",
       "1          841  2016-11-30 00:00:00.000  2016-11-30 17:51:00.000   \n",
       "2          842  2016-11-30 00:00:00.000  2016-11-30 18:45:00.000   \n",
       "3          843  2016-11-30 00:00:00.000  2016-11-30 19:30:00.000   \n",
       "4          844  2016-11-30 00:00:00.000  2016-11-30 19:00:00.000   \n",
       "\n",
       "             FechaServicio        HoraServicio  VientoVelocidad SentidoId  \\\n",
       "0  2016-11-30 00:00:00.000 2016-12-09 17:40:00             25.0       1.0   \n",
       "1  2016-11-30 00:00:00.000 2016-12-09 17:40:00             25.0       7.0   \n",
       "2  2016-11-30 00:00:00.000 2016-12-09 17:40:00              5.0       1.0   \n",
       "3  2016-11-30 00:00:00.000 2016-12-09 17:40:00              5.0       1.0   \n",
       "4  2016-11-30 00:00:00.000 2016-12-09 17:40:00              5.0       1.0   \n",
       "\n",
       "  BuqueId  BuqueExentoId        Escala  DemoraId        FechaFinalizacion  \\\n",
       "0   283.0            NaN  1.201606e+09       NaN  2016-11-30 00:00:00.000   \n",
       "1   277.0            NaN  1.201606e+09       NaN  2016-11-30 00:00:00.000   \n",
       "2   128.0            NaN  1.201606e+09       NaN  2016-11-30 00:00:00.000   \n",
       "3   152.0            NaN  1.201606e+09       NaN  2016-11-30 00:00:00.000   \n",
       "4   123.0            6.0  1.201606e+09       NaN  2016-11-30 00:00:00.000   \n",
       "\n",
       "          HoraFinalizacion  \n",
       "0  2016-12-30 18:19:00.000  \n",
       "1  2016-12-30 18:20:00.000  \n",
       "2  2016-12-30 18:52:00.000  \n",
       "3  2016-12-30 19:52:00.000  \n",
       "4  2016-11-30 18:55:00.000  "
      ]
     },
     "execution_count": 74,
     "metadata": {},
     "output_type": "execute_result"
    }
   ],
   "source": [
    "VAL_movimiento.head()"
   ]
  },
  {
   "cell_type": "code",
   "execution_count": 75,
   "metadata": {},
   "outputs": [],
   "source": [
    "#list([type(e) for e in VAL_movimiento.HoraServicio if type(e)==str])"
   ]
  },
  {
   "cell_type": "code",
   "execution_count": 76,
   "metadata": {},
   "outputs": [
    {
     "data": {
      "text/plain": [
       "0       2016-12-09 17:40:00\n",
       "1       2016-12-09 17:40:00\n",
       "2       2016-12-09 17:40:00\n",
       "3       2016-12-09 17:40:00\n",
       "4       2016-12-09 17:40:00\n",
       "                ...        \n",
       "43697   2016-12-09 17:40:00\n",
       "43698   2016-12-09 17:40:00\n",
       "43699   2016-12-09 17:40:00\n",
       "43700   2016-12-09 17:40:00\n",
       "43701   2016-12-09 17:40:00\n",
       "Name: HoraFinalizacion, Length: 43702, dtype: datetime64[ns]"
      ]
     },
     "execution_count": 76,
     "metadata": {},
     "output_type": "execute_result"
    }
   ],
   "source": [
    "VAL_movimiento.HoraFinalizacion= VAL_movimiento.HoraFinalizacion.apply(lambda e: dt.datetime.strptime(date_time_str, '%Y-%m-%d %H:%M:%S.%f'))\n",
    "\n",
    "VAL_movimiento.HoraFinalizacion\n",
    "\n"
   ]
  },
  {
   "cell_type": "code",
   "execution_count": 77,
   "metadata": {},
   "outputs": [],
   "source": [
    "VAL_movimiento['tiempo_man'] = VAL_movimiento.HoraFinalizacion-VAL_movimiento.HoraServicio"
   ]
  },
  {
   "cell_type": "code",
   "execution_count": 78,
   "metadata": {},
   "outputs": [
    {
     "ename": "SyntaxError",
     "evalue": "invalid syntax (<ipython-input-78-3219f97291de>, line 2)",
     "output_type": "error",
     "traceback": [
      "\u001b[0;36m  File \u001b[0;32m\"<ipython-input-78-3219f97291de>\"\u001b[0;36m, line \u001b[0;32m2\u001b[0m\n\u001b[0;31m    print('Time:', date_time_obj.time())\u001b[0m\n\u001b[0m        ^\u001b[0m\n\u001b[0;31mSyntaxError\u001b[0m\u001b[0;31m:\u001b[0m invalid syntax\n"
     ]
    }
   ],
   "source": [
    "print(VAL_movimiento['tiempo_man']\n",
    "print('Time:', date_time_obj.time())"
   ]
  },
  {
   "cell_type": "code",
   "execution_count": null,
   "metadata": {},
   "outputs": [],
   "source": [
    "date_time_str = VAL_movimiento.tiempo_man.iloc[400]\n",
    "date_time_str"
   ]
  },
  {
   "cell_type": "code",
   "execution_count": null,
   "metadata": {},
   "outputs": [],
   "source": [
    "print('Time:', date_time_str.time())"
   ]
  },
  {
   "cell_type": "code",
   "execution_count": null,
   "metadata": {},
   "outputs": [],
   "source": []
  }
 ],
 "metadata": {
  "kernelspec": {
   "display_name": "Python 3",
   "language": "python",
   "name": "python3"
  },
  "language_info": {
   "codemirror_mode": {
    "name": "ipython",
    "version": 3
   },
   "file_extension": ".py",
   "mimetype": "text/x-python",
   "name": "python",
   "nbconvert_exporter": "python",
   "pygments_lexer": "ipython3",
   "version": "3.7.5"
  }
 },
 "nbformat": 4,
 "nbformat_minor": 2
}
