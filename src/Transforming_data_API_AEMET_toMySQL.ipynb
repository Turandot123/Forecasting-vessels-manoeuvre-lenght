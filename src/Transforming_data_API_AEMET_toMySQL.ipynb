{
 "cells": [
  {
   "cell_type": "code",
   "execution_count": 1,
   "metadata": {},
   "outputs": [],
   "source": [
    "import pandas as pd\n"
   ]
  },
  {
   "cell_type": "code",
   "execution_count": 2,
   "metadata": {},
   "outputs": [
    {
     "data": {
      "text/plain": [
       "Index(['Unnamed: 0', 'fecha', 'indicativo', 'nombre', 'provincia', 'altitud',\n",
       "       'tmed', 'prec', 'tmin', 'horatmin', 'tmax', 'horatmax', 'dir',\n",
       "       'velmedia', 'racha', 'horaracha', 'puerto'],\n",
       "      dtype='object')"
      ]
     },
     "execution_count": 2,
     "metadata": {},
     "output_type": "execute_result"
    }
   ],
   "source": [
    "LP=pd.read_csv(\"../output/LPoriginal.csv\")\n",
    "LP.columns"
   ]
  },
  {
   "cell_type": "code",
   "execution_count": 3,
   "metadata": {},
   "outputs": [
    {
     "data": {
      "text/plain": [
       "Index(['Unnamed: 0', 'fecha', 'indicativo', 'nombre', 'provincia', 'altitud',\n",
       "       'tmed', 'prec', 'tmin', 'tmax', 'sol', 'puerto'],\n",
       "      dtype='object')"
      ]
     },
     "execution_count": 3,
     "metadata": {},
     "output_type": "execute_result"
    }
   ],
   "source": [
    "VAL=pd.read_csv(\"../output/VALoriginal.csv\")\n",
    "VAL.columns"
   ]
  },
  {
   "cell_type": "code",
   "execution_count": 4,
   "metadata": {},
   "outputs": [],
   "source": [
    "LP= LP.drop(['Unnamed: 0','indicativo', 'provincia', 'altitud','horatmin', 'horatmax','dir', 'velmedia', 'racha','horaracha'], axis=1)\n",
    "\n"
   ]
  },
  {
   "cell_type": "code",
   "execution_count": 5,
   "metadata": {},
   "outputs": [
    {
     "data": {
      "text/html": [
       "<div>\n",
       "<style scoped>\n",
       "    .dataframe tbody tr th:only-of-type {\n",
       "        vertical-align: middle;\n",
       "    }\n",
       "\n",
       "    .dataframe tbody tr th {\n",
       "        vertical-align: top;\n",
       "    }\n",
       "\n",
       "    .dataframe thead th {\n",
       "        text-align: right;\n",
       "    }\n",
       "</style>\n",
       "<table border=\"1\" class=\"dataframe\">\n",
       "  <thead>\n",
       "    <tr style=\"text-align: right;\">\n",
       "      <th></th>\n",
       "      <th>fecha</th>\n",
       "      <th>nombre</th>\n",
       "      <th>tmed</th>\n",
       "      <th>prec</th>\n",
       "      <th>tmin</th>\n",
       "      <th>tmax</th>\n",
       "      <th>puerto</th>\n",
       "    </tr>\n",
       "  </thead>\n",
       "  <tbody>\n",
       "    <tr>\n",
       "      <th>0</th>\n",
       "      <td>2016-11-30</td>\n",
       "      <td>LAS PALMAS DE GRAN CANARIA, SAN CRISTOBAL</td>\n",
       "      <td>21,9</td>\n",
       "      <td>0,0</td>\n",
       "      <td>17,8</td>\n",
       "      <td>26,0</td>\n",
       "      <td>1</td>\n",
       "    </tr>\n",
       "    <tr>\n",
       "      <th>1</th>\n",
       "      <td>2016-12-01</td>\n",
       "      <td>LAS PALMAS DE GRAN CANARIA, SAN CRISTOBAL</td>\n",
       "      <td>21,8</td>\n",
       "      <td>0,0</td>\n",
       "      <td>17,9</td>\n",
       "      <td>25,6</td>\n",
       "      <td>1</td>\n",
       "    </tr>\n",
       "    <tr>\n",
       "      <th>2</th>\n",
       "      <td>2016-12-02</td>\n",
       "      <td>LAS PALMAS DE GRAN CANARIA, SAN CRISTOBAL</td>\n",
       "      <td>22,4</td>\n",
       "      <td>0,0</td>\n",
       "      <td>18,8</td>\n",
       "      <td>26,0</td>\n",
       "      <td>1</td>\n",
       "    </tr>\n",
       "    <tr>\n",
       "      <th>3</th>\n",
       "      <td>2016-12-03</td>\n",
       "      <td>LAS PALMAS DE GRAN CANARIA, SAN CRISTOBAL</td>\n",
       "      <td>23,7</td>\n",
       "      <td>0,0</td>\n",
       "      <td>20,2</td>\n",
       "      <td>27,2</td>\n",
       "      <td>1</td>\n",
       "    </tr>\n",
       "    <tr>\n",
       "      <th>4</th>\n",
       "      <td>2016-12-04</td>\n",
       "      <td>LAS PALMAS DE GRAN CANARIA, SAN CRISTOBAL</td>\n",
       "      <td>20,2</td>\n",
       "      <td>2,4</td>\n",
       "      <td>18,1</td>\n",
       "      <td>22,2</td>\n",
       "      <td>1</td>\n",
       "    </tr>\n",
       "    <tr>\n",
       "      <th>5</th>\n",
       "      <td>2016-12-05</td>\n",
       "      <td>LAS PALMAS DE GRAN CANARIA, SAN CRISTOBAL</td>\n",
       "      <td>20,8</td>\n",
       "      <td>0,0</td>\n",
       "      <td>18,9</td>\n",
       "      <td>22,7</td>\n",
       "      <td>1</td>\n",
       "    </tr>\n",
       "    <tr>\n",
       "      <th>6</th>\n",
       "      <td>2016-12-06</td>\n",
       "      <td>LAS PALMAS DE GRAN CANARIA, SAN CRISTOBAL</td>\n",
       "      <td>22,0</td>\n",
       "      <td>0,0</td>\n",
       "      <td>18,2</td>\n",
       "      <td>25,8</td>\n",
       "      <td>1</td>\n",
       "    </tr>\n",
       "    <tr>\n",
       "      <th>7</th>\n",
       "      <td>2016-12-07</td>\n",
       "      <td>LAS PALMAS DE GRAN CANARIA, SAN CRISTOBAL</td>\n",
       "      <td>21,4</td>\n",
       "      <td>0,0</td>\n",
       "      <td>18,8</td>\n",
       "      <td>24,1</td>\n",
       "      <td>1</td>\n",
       "    </tr>\n",
       "    <tr>\n",
       "      <th>8</th>\n",
       "      <td>2016-12-08</td>\n",
       "      <td>LAS PALMAS DE GRAN CANARIA, SAN CRISTOBAL</td>\n",
       "      <td>21,3</td>\n",
       "      <td>0,0</td>\n",
       "      <td>18,5</td>\n",
       "      <td>24,1</td>\n",
       "      <td>1</td>\n",
       "    </tr>\n",
       "    <tr>\n",
       "      <th>9</th>\n",
       "      <td>2016-12-09</td>\n",
       "      <td>LAS PALMAS DE GRAN CANARIA, SAN CRISTOBAL</td>\n",
       "      <td>21,5</td>\n",
       "      <td>0,0</td>\n",
       "      <td>19,3</td>\n",
       "      <td>23,7</td>\n",
       "      <td>1</td>\n",
       "    </tr>\n",
       "  </tbody>\n",
       "</table>\n",
       "</div>"
      ],
      "text/plain": [
       "        fecha                                     nombre  tmed prec  tmin  \\\n",
       "0  2016-11-30  LAS PALMAS DE GRAN CANARIA, SAN CRISTOBAL  21,9  0,0  17,8   \n",
       "1  2016-12-01  LAS PALMAS DE GRAN CANARIA, SAN CRISTOBAL  21,8  0,0  17,9   \n",
       "2  2016-12-02  LAS PALMAS DE GRAN CANARIA, SAN CRISTOBAL  22,4  0,0  18,8   \n",
       "3  2016-12-03  LAS PALMAS DE GRAN CANARIA, SAN CRISTOBAL  23,7  0,0  20,2   \n",
       "4  2016-12-04  LAS PALMAS DE GRAN CANARIA, SAN CRISTOBAL  20,2  2,4  18,1   \n",
       "5  2016-12-05  LAS PALMAS DE GRAN CANARIA, SAN CRISTOBAL  20,8  0,0  18,9   \n",
       "6  2016-12-06  LAS PALMAS DE GRAN CANARIA, SAN CRISTOBAL  22,0  0,0  18,2   \n",
       "7  2016-12-07  LAS PALMAS DE GRAN CANARIA, SAN CRISTOBAL  21,4  0,0  18,8   \n",
       "8  2016-12-08  LAS PALMAS DE GRAN CANARIA, SAN CRISTOBAL  21,3  0,0  18,5   \n",
       "9  2016-12-09  LAS PALMAS DE GRAN CANARIA, SAN CRISTOBAL  21,5  0,0  19,3   \n",
       "\n",
       "   tmax  puerto  \n",
       "0  26,0       1  \n",
       "1  25,6       1  \n",
       "2  26,0       1  \n",
       "3  27,2       1  \n",
       "4  22,2       1  \n",
       "5  22,7       1  \n",
       "6  25,8       1  \n",
       "7  24,1       1  \n",
       "8  24,1       1  \n",
       "9  23,7       1  "
      ]
     },
     "execution_count": 5,
     "metadata": {},
     "output_type": "execute_result"
    }
   ],
   "source": [
    "LP.head(10)"
   ]
  },
  {
   "cell_type": "code",
   "execution_count": 6,
   "metadata": {},
   "outputs": [],
   "source": [
    "VAL=VAL.drop(['Unnamed: 0', 'indicativo', 'provincia', 'sol', 'altitud'],axis=1)\n",
    "\n"
   ]
  },
  {
   "cell_type": "code",
   "execution_count": 7,
   "metadata": {},
   "outputs": [
    {
     "data": {
      "text/plain": [
       "Index(['fecha', 'nombre', 'tmed', 'prec', 'tmin', 'tmax', 'puerto'], dtype='object')"
      ]
     },
     "execution_count": 7,
     "metadata": {},
     "output_type": "execute_result"
    }
   ],
   "source": [
    "VAL.columns"
   ]
  },
  {
   "cell_type": "code",
   "execution_count": 8,
   "metadata": {},
   "outputs": [
    {
     "data": {
      "text/plain": [
       "Index(['fecha', 'nombre', 'tmed', 'prec', 'tmin', 'tmax', 'puerto'], dtype='object')"
      ]
     },
     "execution_count": 8,
     "metadata": {},
     "output_type": "execute_result"
    }
   ],
   "source": [
    "LP.columns"
   ]
  },
  {
   "cell_type": "code",
   "execution_count": 9,
   "metadata": {},
   "outputs": [
    {
     "data": {
      "text/plain": [
       "fecha      0\n",
       "nombre     0\n",
       "tmed      18\n",
       "prec      13\n",
       "tmin      18\n",
       "tmax      18\n",
       "puerto     0\n",
       "dtype: int64"
      ]
     },
     "execution_count": 9,
     "metadata": {},
     "output_type": "execute_result"
    }
   ],
   "source": [
    "LP.isnull().sum()"
   ]
  },
  {
   "cell_type": "code",
   "execution_count": 10,
   "metadata": {},
   "outputs": [
    {
     "data": {
      "text/plain": [
       "fecha     0\n",
       "nombre    0\n",
       "tmed      0\n",
       "prec      1\n",
       "tmin      0\n",
       "tmax      0\n",
       "puerto    0\n",
       "dtype: int64"
      ]
     },
     "execution_count": 10,
     "metadata": {},
     "output_type": "execute_result"
    }
   ],
   "source": [
    "VAL.isnull().sum()"
   ]
  },
  {
   "cell_type": "code",
   "execution_count": 20,
   "metadata": {},
   "outputs": [
    {
     "data": {
      "text/html": [
       "<div>\n",
       "<style scoped>\n",
       "    .dataframe tbody tr th:only-of-type {\n",
       "        vertical-align: middle;\n",
       "    }\n",
       "\n",
       "    .dataframe tbody tr th {\n",
       "        vertical-align: top;\n",
       "    }\n",
       "\n",
       "    .dataframe thead th {\n",
       "        text-align: right;\n",
       "    }\n",
       "</style>\n",
       "<table border=\"1\" class=\"dataframe\">\n",
       "  <thead>\n",
       "    <tr style=\"text-align: right;\">\n",
       "      <th></th>\n",
       "      <th>fecha</th>\n",
       "      <th>nombre</th>\n",
       "      <th>tmed</th>\n",
       "      <th>prec</th>\n",
       "      <th>tmin</th>\n",
       "      <th>tmax</th>\n",
       "      <th>puerto</th>\n",
       "    </tr>\n",
       "  </thead>\n",
       "  <tbody>\n",
       "    <tr>\n",
       "      <th>94</th>\n",
       "      <td>2017-03-04</td>\n",
       "      <td>LAS PALMAS DE GRAN CANARIA, SAN CRISTOBAL</td>\n",
       "      <td>17,2</td>\n",
       "      <td>0,1</td>\n",
       "      <td>15,2</td>\n",
       "      <td>19,1</td>\n",
       "      <td>1</td>\n",
       "    </tr>\n",
       "    <tr>\n",
       "      <th>95</th>\n",
       "      <td>2017-03-05</td>\n",
       "      <td>LAS PALMAS DE GRAN CANARIA, SAN CRISTOBAL</td>\n",
       "      <td>NaN</td>\n",
       "      <td>0,0</td>\n",
       "      <td>NaN</td>\n",
       "      <td>NaN</td>\n",
       "      <td>1</td>\n",
       "    </tr>\n",
       "    <tr>\n",
       "      <th>96</th>\n",
       "      <td>2017-03-06</td>\n",
       "      <td>LAS PALMAS DE GRAN CANARIA, SAN CRISTOBAL</td>\n",
       "      <td>18,0</td>\n",
       "      <td>0,0</td>\n",
       "      <td>16,8</td>\n",
       "      <td>19,1</td>\n",
       "      <td>1</td>\n",
       "    </tr>\n",
       "    <tr>\n",
       "      <th>97</th>\n",
       "      <td>2017-03-07</td>\n",
       "      <td>LAS PALMAS DE GRAN CANARIA, SAN CRISTOBAL</td>\n",
       "      <td>18,3</td>\n",
       "      <td>0,0</td>\n",
       "      <td>16,4</td>\n",
       "      <td>20,2</td>\n",
       "      <td>1</td>\n",
       "    </tr>\n",
       "    <tr>\n",
       "      <th>98</th>\n",
       "      <td>2017-03-08</td>\n",
       "      <td>LAS PALMAS DE GRAN CANARIA, SAN CRISTOBAL</td>\n",
       "      <td>21,6</td>\n",
       "      <td>0,0</td>\n",
       "      <td>15,5</td>\n",
       "      <td>27,6</td>\n",
       "      <td>1</td>\n",
       "    </tr>\n",
       "    <tr>\n",
       "      <th>99</th>\n",
       "      <td>2017-03-09</td>\n",
       "      <td>LAS PALMAS DE GRAN CANARIA, SAN CRISTOBAL</td>\n",
       "      <td>20,4</td>\n",
       "      <td>0,0</td>\n",
       "      <td>14,0</td>\n",
       "      <td>26,7</td>\n",
       "      <td>1</td>\n",
       "    </tr>\n",
       "  </tbody>\n",
       "</table>\n",
       "</div>"
      ],
      "text/plain": [
       "         fecha                                     nombre  tmed prec  tmin  \\\n",
       "94  2017-03-04  LAS PALMAS DE GRAN CANARIA, SAN CRISTOBAL  17,2  0,1  15,2   \n",
       "95  2017-03-05  LAS PALMAS DE GRAN CANARIA, SAN CRISTOBAL   NaN  0,0   NaN   \n",
       "96  2017-03-06  LAS PALMAS DE GRAN CANARIA, SAN CRISTOBAL  18,0  0,0  16,8   \n",
       "97  2017-03-07  LAS PALMAS DE GRAN CANARIA, SAN CRISTOBAL  18,3  0,0  16,4   \n",
       "98  2017-03-08  LAS PALMAS DE GRAN CANARIA, SAN CRISTOBAL  21,6  0,0  15,5   \n",
       "99  2017-03-09  LAS PALMAS DE GRAN CANARIA, SAN CRISTOBAL  20,4  0,0  14,0   \n",
       "\n",
       "    tmax  puerto  \n",
       "94  19,1       1  \n",
       "95   NaN       1  \n",
       "96  19,1       1  \n",
       "97  20,2       1  \n",
       "98  27,6       1  \n",
       "99  26,7       1  "
      ]
     },
     "execution_count": 20,
     "metadata": {},
     "output_type": "execute_result"
    }
   ],
   "source": [
    "LP.iloc[94:100]"
   ]
  },
  {
   "cell_type": "code",
   "execution_count": 24,
   "metadata": {},
   "outputs": [
    {
     "ename": "TypeError",
     "evalue": "Cannot interpolate with all object-dtype columns in the DataFrame. Try setting at least one column to a numeric dtype.",
     "output_type": "error",
     "traceback": [
      "\u001b[0;31m---------------------------------------------------------------------------\u001b[0m",
      "\u001b[0;31mTypeError\u001b[0m                                 Traceback (most recent call last)",
      "\u001b[0;32m<ipython-input-24-b0029de50037>\u001b[0m in \u001b[0;36m<module>\u001b[0;34m\u001b[0m\n\u001b[0;32m----> 1\u001b[0;31m \u001b[0mLPfill\u001b[0m\u001b[0;34m=\u001b[0m \u001b[0mLP\u001b[0m\u001b[0;34m.\u001b[0m\u001b[0minterpolate\u001b[0m\u001b[0;34m(\u001b[0m\u001b[0mmethod\u001b[0m\u001b[0;34m=\u001b[0m\u001b[0;34m'linear'\u001b[0m\u001b[0;34m,\u001b[0m \u001b[0mlimit_direction\u001b[0m\u001b[0;34m=\u001b[0m\u001b[0;34m'forward'\u001b[0m\u001b[0;34m,\u001b[0m \u001b[0maxis\u001b[0m\u001b[0;34m=\u001b[0m\u001b[0;36m1\u001b[0m\u001b[0;34m)\u001b[0m\u001b[0;34m\u001b[0m\u001b[0;34m\u001b[0m\u001b[0m\n\u001b[0m",
      "\u001b[0;32m/usr/local/lib/python3.7/site-packages/pandas/core/generic.py\u001b[0m in \u001b[0;36minterpolate\u001b[0;34m(self, method, axis, limit, inplace, limit_direction, limit_area, downcast, **kwargs)\u001b[0m\n\u001b[1;32m   7020\u001b[0m         ):\n\u001b[1;32m   7021\u001b[0m             raise TypeError(\n\u001b[0;32m-> 7022\u001b[0;31m                 \u001b[0;34m\"Cannot interpolate with all object-dtype columns \"\u001b[0m\u001b[0;34m\u001b[0m\u001b[0;34m\u001b[0m\u001b[0m\n\u001b[0m\u001b[1;32m   7023\u001b[0m                 \u001b[0;34m\"in the DataFrame. Try setting at least one \"\u001b[0m\u001b[0;34m\u001b[0m\u001b[0;34m\u001b[0m\u001b[0m\n\u001b[1;32m   7024\u001b[0m                 \u001b[0;34m\"column to a numeric dtype.\"\u001b[0m\u001b[0;34m\u001b[0m\u001b[0;34m\u001b[0m\u001b[0m\n",
      "\u001b[0;31mTypeError\u001b[0m: Cannot interpolate with all object-dtype columns in the DataFrame. Try setting at least one column to a numeric dtype."
     ]
    }
   ],
   "source": [
    "LPfill= LP.interpolate(method='linear', limit_direction='forward', axis=1)"
   ]
  },
  {
   "cell_type": "code",
   "execution_count": 26,
   "metadata": {},
   "outputs": [
    {
     "name": "stdout",
     "output_type": "stream",
     "text": [
      "<class 'pandas.core.frame.DataFrame'>\n",
      "RangeIndex: 1081 entries, 0 to 1080\n",
      "Data columns (total 7 columns):\n",
      "fecha     1081 non-null object\n",
      "nombre    1081 non-null object\n",
      "tmed      1063 non-null object\n",
      "prec      1068 non-null object\n",
      "tmin      1063 non-null object\n",
      "tmax      1063 non-null object\n",
      "puerto    1081 non-null int64\n",
      "dtypes: int64(1), object(6)\n",
      "memory usage: 59.2+ KB\n"
     ]
    }
   ],
   "source": [
    "LP.info()"
   ]
  },
  {
   "cell_type": "code",
   "execution_count": 31,
   "metadata": {},
   "outputs": [
    {
     "name": "stdout",
     "output_type": "stream",
     "text": [
      "<class 'pandas.core.frame.DataFrame'>\n",
      "RangeIndex: 1081 entries, 0 to 1080\n",
      "Data columns (total 7 columns):\n",
      "fecha     1081 non-null object\n",
      "nombre    1081 non-null object\n",
      "tmed      0 non-null float64\n",
      "prec      0 non-null float64\n",
      "tmin      0 non-null float64\n",
      "tmax      0 non-null float64\n",
      "puerto    1081 non-null int64\n",
      "dtypes: float64(4), int64(1), object(2)\n",
      "memory usage: 59.2+ KB\n"
     ]
    }
   ],
   "source": [
    "cols = ['tmed', 'prec', 'tmin', 'tmax']\n",
    "LP[cols] = LP[cols].apply(pd.to_numeric, errors='coerce', axis=1)\n",
    "LP.info()"
   ]
  },
  {
   "cell_type": "code",
   "execution_count": null,
   "metadata": {},
   "outputs": [],
   "source": []
  }
 ],
 "metadata": {
  "kernelspec": {
   "display_name": "Python 3",
   "language": "python",
   "name": "python3"
  },
  "language_info": {
   "codemirror_mode": {
    "name": "ipython",
    "version": 3
   },
   "file_extension": ".py",
   "mimetype": "text/x-python",
   "name": "python",
   "nbconvert_exporter": "python",
   "pygments_lexer": "ipython3",
   "version": "3.7.5"
  }
 },
 "nbformat": 4,
 "nbformat_minor": 2
}
